{
 "cells": [
  {
   "cell_type": "markdown",
   "id": "4172af47",
   "metadata": {},
   "source": [
    "## 1. Используя Jupyter Lab, повторите примеры из раздела 2.2."
   ]
  },
  {
   "cell_type": "markdown",
   "id": "44805b5f",
   "metadata": {},
   "source": [
    "### Кортежи"
   ]
  },
  {
   "cell_type": "markdown",
   "id": "5f04bce0",
   "metadata": {},
   "source": [
    "#### Примеры кортежей:"
   ]
  },
  {
   "cell_type": "code",
   "execution_count": 27,
   "id": "59857cda",
   "metadata": {},
   "outputs": [
    {
     "data": {
      "text/plain": [
       "()"
      ]
     },
     "execution_count": 27,
     "metadata": {},
     "output_type": "execute_result"
    }
   ],
   "source": [
    "# пустой кортеж:\n",
    "()"
   ]
  },
  {
   "cell_type": "code",
   "execution_count": 28,
   "id": "0fc70ce2",
   "metadata": {},
   "outputs": [
    {
     "data": {
      "text/plain": [
       "(\"Python\", \"Julia\", \"R\")"
      ]
     },
     "execution_count": 28,
     "metadata": {},
     "output_type": "execute_result"
    }
   ],
   "source": [
    "# кортеж из элементов типа String:\n",
    "favoritelang = (\"Python\",\"Julia\",\"R\")"
   ]
  },
  {
   "cell_type": "code",
   "execution_count": 29,
   "id": "d6ba6f03",
   "metadata": {},
   "outputs": [
    {
     "data": {
      "text/plain": [
       "(1, 2, 3)"
      ]
     },
     "execution_count": 29,
     "metadata": {},
     "output_type": "execute_result"
    }
   ],
   "source": [
    "# кортеж из целых чисел:\n",
    "x1 = (1, 2, 3)"
   ]
  },
  {
   "cell_type": "code",
   "execution_count": 30,
   "id": "973f6438",
   "metadata": {},
   "outputs": [
    {
     "data": {
      "text/plain": [
       "(1, 2.0, \"tmp\")"
      ]
     },
     "execution_count": 30,
     "metadata": {},
     "output_type": "execute_result"
    }
   ],
   "source": [
    "# кортеж из элементов разных типов:\n",
    "x2 = (1, 2.0, \"tmp\")"
   ]
  },
  {
   "cell_type": "code",
   "execution_count": 31,
   "id": "3720157f",
   "metadata": {},
   "outputs": [
    {
     "data": {
      "text/plain": [
       "(a = 2, b = 3)"
      ]
     },
     "execution_count": 31,
     "metadata": {},
     "output_type": "execute_result"
    }
   ],
   "source": [
    "# именованный кортеж:\n",
    "x3 = (a=2, b=1+2)"
   ]
  },
  {
   "cell_type": "markdown",
   "id": "d714a628",
   "metadata": {},
   "source": [
    "#### Примеры операций над кортежами:"
   ]
  },
  {
   "cell_type": "code",
   "execution_count": 32,
   "id": "7e90b95a",
   "metadata": {},
   "outputs": [
    {
     "data": {
      "text/plain": [
       "3"
      ]
     },
     "execution_count": 32,
     "metadata": {},
     "output_type": "execute_result"
    }
   ],
   "source": [
    "# длина кортежа x2:\n",
    "length(x2)"
   ]
  },
  {
   "cell_type": "code",
   "execution_count": 33,
   "id": "0421abb7",
   "metadata": {},
   "outputs": [
    {
     "data": {
      "text/plain": [
       "(1, 2.0, \"tmp\")"
      ]
     },
     "execution_count": 33,
     "metadata": {},
     "output_type": "execute_result"
    }
   ],
   "source": [
    "# обратиться к элементам кортежа x2:\n",
    "x2[1], x2[2], x2[3]"
   ]
  },
  {
   "cell_type": "code",
   "execution_count": 34,
   "id": "6f2b1989",
   "metadata": {},
   "outputs": [
    {
     "data": {
      "text/plain": [
       "5"
      ]
     },
     "execution_count": 34,
     "metadata": {},
     "output_type": "execute_result"
    }
   ],
   "source": [
    "# произвести какую-либо операцию (сложение)\n",
    "# с вторым и третьим элементами кортежа x1:\n",
    "с = x1[2] + x1[3]"
   ]
  },
  {
   "cell_type": "code",
   "execution_count": 35,
   "id": "b7df2352",
   "metadata": {},
   "outputs": [
    {
     "data": {
      "text/plain": [
       "(2, 3, 3)"
      ]
     },
     "execution_count": 35,
     "metadata": {},
     "output_type": "execute_result"
    }
   ],
   "source": [
    "# обращение к элементам именованного кортежа x3:\n",
    "x3.a, x3.b, x3[2]"
   ]
  },
  {
   "cell_type": "code",
   "execution_count": 36,
   "id": "010331cd",
   "metadata": {},
   "outputs": [
    {
     "data": {
      "text/plain": [
       "(true, false)"
      ]
     },
     "execution_count": 36,
     "metadata": {},
     "output_type": "execute_result"
    }
   ],
   "source": [
    "# проверка вхождения элементов tmp и 0 в кортеж x2\n",
    "# (два способа обращения к методу in()):\n",
    "in(\"tmp\", x2), 0 in x2"
   ]
  },
  {
   "cell_type": "markdown",
   "id": "235294f7",
   "metadata": {},
   "source": [
    "### Словари"
   ]
  },
  {
   "cell_type": "markdown",
   "id": "6cbf7b07",
   "metadata": {},
   "source": [
    "#### Примеры словарей и операций над ними:"
   ]
  },
  {
   "cell_type": "code",
   "execution_count": 37,
   "id": "8e504dd2",
   "metadata": {},
   "outputs": [
    {
     "data": {
      "text/plain": [
       "Dict{String, Any} with 2 entries:\n",
       "  \"Бухгалтерия\" => \"555-2368\"\n",
       "  \"Иванов И.И.\" => (\"867-5309\", \"333-5544\")"
      ]
     },
     "execution_count": 37,
     "metadata": {},
     "output_type": "execute_result"
    }
   ],
   "source": [
    "# создать словарь с именем phonebook:\n",
    "phonebook = Dict(\"Иванов И.И.\" => (\"867-5309\",\"333-5544\"),\"Бухгалтерия\" => \"555-2368\")"
   ]
  },
  {
   "cell_type": "code",
   "execution_count": 38,
   "id": "db401353",
   "metadata": {},
   "outputs": [
    {
     "data": {
      "text/plain": [
       "KeySet for a Dict{String, Any} with 2 entries. Keys:\n",
       "  \"Бухгалтерия\"\n",
       "  \"Иванов И.И.\""
      ]
     },
     "execution_count": 38,
     "metadata": {},
     "output_type": "execute_result"
    }
   ],
   "source": [
    "# вывести ключи словаря:\n",
    "keys(phonebook)"
   ]
  },
  {
   "cell_type": "code",
   "execution_count": 39,
   "id": "0af172d8",
   "metadata": {},
   "outputs": [
    {
     "data": {
      "text/plain": [
       "ValueIterator for a Dict{String, Any} with 2 entries. Values:\n",
       "  \"555-2368\"\n",
       "  (\"867-5309\", \"333-5544\")"
      ]
     },
     "execution_count": 39,
     "metadata": {},
     "output_type": "execute_result"
    }
   ],
   "source": [
    "# вывести значения элементов словаря:\n",
    "values(phonebook)"
   ]
  },
  {
   "cell_type": "code",
   "execution_count": 40,
   "id": "31671df8",
   "metadata": {},
   "outputs": [
    {
     "data": {
      "text/plain": [
       "Dict{String, Any} with 2 entries:\n",
       "  \"Бухгалтерия\" => \"555-2368\"\n",
       "  \"Иванов И.И.\" => (\"867-5309\", \"333-5544\")"
      ]
     },
     "execution_count": 40,
     "metadata": {},
     "output_type": "execute_result"
    }
   ],
   "source": [
    "# вывести заданные в словаре пары \"ключ - значение\":\n",
    "pairs(phonebook)"
   ]
  },
  {
   "cell_type": "code",
   "execution_count": 41,
   "id": "7c332d50",
   "metadata": {},
   "outputs": [
    {
     "data": {
      "text/plain": [
       "true"
      ]
     },
     "execution_count": 41,
     "metadata": {},
     "output_type": "execute_result"
    }
   ],
   "source": [
    "# проверка вхождения ключа в словарь:\n",
    "haskey(phonebook, \"Иванов И.И.\")"
   ]
  },
  {
   "cell_type": "code",
   "execution_count": 42,
   "id": "ec01dfbc",
   "metadata": {},
   "outputs": [
    {
     "data": {
      "text/plain": [
       "\"555-3344\""
      ]
     },
     "execution_count": 42,
     "metadata": {},
     "output_type": "execute_result"
    }
   ],
   "source": [
    "# добавить элемент в словарь:\n",
    "phonebook[\"Сидоров П.С.\"] = \"555-3344\""
   ]
  },
  {
   "cell_type": "code",
   "execution_count": 43,
   "id": "10fb12f7",
   "metadata": {},
   "outputs": [
    {
     "data": {
      "text/plain": [
       "(\"867-5309\", \"333-5544\")"
      ]
     },
     "execution_count": 43,
     "metadata": {},
     "output_type": "execute_result"
    }
   ],
   "source": [
    "# удалить ключ и связанные с ним значения из словаря\n",
    "pop!(phonebook, \"Иванов И.И.\")"
   ]
  },
  {
   "cell_type": "code",
   "execution_count": 47,
   "id": "f4787f26",
   "metadata": {},
   "outputs": [
    {
     "data": {
      "text/plain": [
       "(Dict{String, Real}(\"bar\" => 13.0, \"baz\" => 17, \"foo\" => 0.0), Dict{String, Real}(\"bar\" => 42.0, \"baz\" => 17, \"foo\" => 0.0))"
      ]
     },
     "execution_count": 47,
     "metadata": {},
     "output_type": "execute_result"
    }
   ],
   "source": [
    "# Объединение словарей (функция merge()):\n",
    "a = Dict(\"foo\" => 0.0, \"bar\" => 42.0);\n",
    "b = Dict(\"baz\" => 17, \"bar\" => 13.0);\n",
    "merge(a, b), merge(b,a)"
   ]
  },
  {
   "cell_type": "markdown",
   "id": "ec8c07f6",
   "metadata": {},
   "source": [
    "### Множества"
   ]
  },
  {
   "cell_type": "markdown",
   "id": "2bb8a428",
   "metadata": {},
   "source": [
    "#### Примеры множеств и операций над ними:"
   ]
  },
  {
   "cell_type": "code",
   "execution_count": 48,
   "id": "16ee4e1e",
   "metadata": {},
   "outputs": [
    {
     "data": {
      "text/plain": [
       "Set{Int64} with 4 elements:\n",
       "  5\n",
       "  4\n",
       "  3\n",
       "  1"
      ]
     },
     "execution_count": 48,
     "metadata": {},
     "output_type": "execute_result"
    }
   ],
   "source": [
    "# создать множество из четырёх целочисленных значений:\n",
    "A = Set([1, 3, 4, 5])"
   ]
  },
  {
   "cell_type": "code",
   "execution_count": 50,
   "id": "62d7fdcc",
   "metadata": {},
   "outputs": [
    {
     "data": {
      "text/plain": [
       "Set{Char} with 5 elements:\n",
       "  'a'\n",
       "  'd'\n",
       "  'r'\n",
       "  'k'\n",
       "  'b'"
      ]
     },
     "execution_count": 50,
     "metadata": {},
     "output_type": "execute_result"
    }
   ],
   "source": [
    "# создать множество из 11 символьных значений:\n",
    "B = Set(\"abrakadabra\")"
   ]
  },
  {
   "cell_type": "code",
   "execution_count": 51,
   "id": "17f0dbd6",
   "metadata": {},
   "outputs": [
    {
     "data": {
      "text/plain": [
       "false"
      ]
     },
     "execution_count": 51,
     "metadata": {},
     "output_type": "execute_result"
    }
   ],
   "source": [
    "# проверка эквивалентности двух множеств:\n",
    "S1 = Set([1,2]);\n",
    "S2 = Set([3,4]);\n",
    "issetequal(S1,S2)"
   ]
  },
  {
   "cell_type": "code",
   "execution_count": 63,
   "id": "c3b4088d",
   "metadata": {},
   "outputs": [
    {
     "data": {
      "text/plain": [
       "true"
      ]
     },
     "execution_count": 63,
     "metadata": {},
     "output_type": "execute_result"
    }
   ],
   "source": [
    "S3 = Set([1,2,2,3,1,2,3,2,1]);\n",
    "S4 = Set([2,3,1]);\n",
    "issetequal(S3,S4)"
   ]
  },
  {
   "cell_type": "code",
   "execution_count": 64,
   "id": "96719a18",
   "metadata": {},
   "outputs": [
    {
     "data": {
      "text/plain": [
       "Set{Int64} with 4 elements:\n",
       "  4\n",
       "  2\n",
       "  3\n",
       "  1"
      ]
     },
     "execution_count": 64,
     "metadata": {},
     "output_type": "execute_result"
    }
   ],
   "source": [
    "# объединение множеств:\n",
    "C=union(S1,S2)"
   ]
  },
  {
   "cell_type": "code",
   "execution_count": 65,
   "id": "f222fbd9",
   "metadata": {},
   "outputs": [
    {
     "data": {
      "text/plain": [
       "Set{Int64} with 2 elements:\n",
       "  2\n",
       "  1"
      ]
     },
     "execution_count": 65,
     "metadata": {},
     "output_type": "execute_result"
    }
   ],
   "source": [
    "# пересечение множеств:\n",
    "D = intersect(S1,S3)"
   ]
  },
  {
   "cell_type": "code",
   "execution_count": 66,
   "id": "4bfdf0c1",
   "metadata": {},
   "outputs": [
    {
     "data": {
      "text/plain": [
       "Set{Int64} with 1 element:\n",
       "  3"
      ]
     },
     "execution_count": 66,
     "metadata": {},
     "output_type": "execute_result"
    }
   ],
   "source": [
    "# разность множеств:\n",
    "E = setdiff(S3,S1)"
   ]
  },
  {
   "cell_type": "code",
   "execution_count": 67,
   "id": "30e65bcb",
   "metadata": {},
   "outputs": [
    {
     "data": {
      "text/plain": [
       "true"
      ]
     },
     "execution_count": 67,
     "metadata": {},
     "output_type": "execute_result"
    }
   ],
   "source": [
    "# проверка вхождения элементов одного множества в другое:\n",
    "issubset(S1,S4)"
   ]
  },
  {
   "cell_type": "code",
   "execution_count": 68,
   "id": "a05b8223",
   "metadata": {},
   "outputs": [
    {
     "data": {
      "text/plain": [
       "Set{Int64} with 4 elements:\n",
       "  2\n",
       "  99\n",
       "  3\n",
       "  1"
      ]
     },
     "execution_count": 68,
     "metadata": {},
     "output_type": "execute_result"
    }
   ],
   "source": [
    "# добавление элемента в множество:\n",
    "push!(S4, 99)"
   ]
  },
  {
   "cell_type": "code",
   "execution_count": 69,
   "id": "012a1302",
   "metadata": {},
   "outputs": [
    {
     "data": {
      "text/plain": [
       "2"
      ]
     },
     "execution_count": 69,
     "metadata": {},
     "output_type": "execute_result"
    }
   ],
   "source": [
    "# удаление последнего элемента множества:\n",
    "pop!(S4)"
   ]
  },
  {
   "cell_type": "markdown",
   "id": "2cde5075",
   "metadata": {},
   "source": [
    "### Массивы"
   ]
  },
  {
   "cell_type": "markdown",
   "id": "8b1caf6d",
   "metadata": {},
   "source": [
    "#### Примеры массивов:"
   ]
  },
  {
   "cell_type": "code",
   "execution_count": 70,
   "id": "f9b5e5cf",
   "metadata": {},
   "outputs": [
    {
     "data": {
      "text/plain": [
       "Any[]"
      ]
     },
     "execution_count": 70,
     "metadata": {},
     "output_type": "execute_result"
    }
   ],
   "source": [
    "# создание пустого массива с абстрактным типом:\n",
    "empty_array_1 = []"
   ]
  },
  {
   "cell_type": "code",
   "execution_count": 73,
   "id": "71b87e81",
   "metadata": {},
   "outputs": [
    {
     "data": {
      "text/plain": [
       "Float64[]"
      ]
     },
     "execution_count": 73,
     "metadata": {},
     "output_type": "execute_result"
    }
   ],
   "source": [
    "# создание пустого массива с конкретным типом:\n",
    "empty_array_2 = (Int64)[]\n",
    "empty_array_3 = (Float64)[]"
   ]
  },
  {
   "cell_type": "code",
   "execution_count": 74,
   "id": "e002c4b4",
   "metadata": {},
   "outputs": [
    {
     "data": {
      "text/plain": [
       "3-element Vector{Int64}:\n",
       " 1\n",
       " 2\n",
       " 3"
      ]
     },
     "execution_count": 74,
     "metadata": {},
     "output_type": "execute_result"
    }
   ],
   "source": [
    "# вектор-столбец:\n",
    "a = [1, 2, 3]"
   ]
  },
  {
   "cell_type": "code",
   "execution_count": 76,
   "id": "c32dab0d",
   "metadata": {},
   "outputs": [
    {
     "data": {
      "text/plain": [
       "1×3 Matrix{Int64}:\n",
       " 1  2  3"
      ]
     },
     "execution_count": 76,
     "metadata": {},
     "output_type": "execute_result"
    }
   ],
   "source": [
    "# вектор-строка:\n",
    "b = [1 2 3]"
   ]
  },
  {
   "cell_type": "code",
   "execution_count": 79,
   "id": "221383ac",
   "metadata": {},
   "outputs": [
    {
     "data": {
      "text/plain": [
       "3×3 Matrix{Int64}:\n",
       " 1  2  3\n",
       " 4  5  6\n",
       " 7  8  9"
      ]
     },
     "execution_count": 79,
     "metadata": {},
     "output_type": "execute_result"
    }
   ],
   "source": [
    "# многомерные массивы (матрицы):\n",
    "A = [[1, 2, 3] [4, 5, 6] [7, 8, 9]]\n",
    "B = [[1 2 3]; [4 5 6]; [7 8 9]]"
   ]
  },
  {
   "cell_type": "markdown",
   "id": "6619f3cf",
   "metadata": {},
   "source": [
    "##### одномерный массив из 8 элементов (массив $1 \\times 8$) со значениями, случайно распределёнными на интервале [0, 1):"
   ]
  },
  {
   "cell_type": "code",
   "execution_count": 86,
   "id": "8142addd",
   "metadata": {},
   "outputs": [
    {
     "data": {
      "text/plain": [
       "1×8 Matrix{Float64}:\n",
       " 0.390644  0.00995584  0.793286  0.700352  …  0.184297  0.791407  0.598328"
      ]
     },
     "execution_count": 86,
     "metadata": {},
     "output_type": "execute_result"
    }
   ],
   "source": [
    "c = rand(1,8)"
   ]
  },
  {
   "cell_type": "markdown",
   "id": "b19e1cf2",
   "metadata": {},
   "source": [
    "##### многомерный массив $2 \\times 3$ (2 строки, 3 столбца) элементов со значениями, случайно распределёнными на интервале [0, 1):\n"
   ]
  },
  {
   "cell_type": "code",
   "execution_count": 89,
   "id": "64183f91",
   "metadata": {},
   "outputs": [
    {
     "data": {
      "text/plain": [
       "2×3 Matrix{Float64}:\n",
       " 0.916608  0.993444  0.500424\n",
       " 0.800927  0.118592  0.119084"
      ]
     },
     "execution_count": 89,
     "metadata": {},
     "output_type": "execute_result"
    }
   ],
   "source": [
    "C = rand(2,3)"
   ]
  },
  {
   "cell_type": "code",
   "execution_count": 90,
   "id": "28afccf9",
   "metadata": {},
   "outputs": [
    {
     "data": {
      "text/plain": [
       "4×3×2 Array{Float64, 3}:\n",
       "[:, :, 1] =\n",
       " 0.778071  0.864328  0.259164\n",
       " 0.515813  0.662949  0.647521\n",
       " 0.633793  0.956924  0.94884\n",
       " 0.189616  0.949397  0.95729\n",
       "\n",
       "[:, :, 2] =\n",
       " 0.980165  0.845072  0.455935\n",
       " 0.896212  0.235379  0.631316\n",
       " 0.233784  0.137664  0.515154\n",
       " 0.968408  0.130949  0.548336"
      ]
     },
     "execution_count": 90,
     "metadata": {},
     "output_type": "execute_result"
    }
   ],
   "source": [
    "# трёхмерный массив:\n",
    "D = rand(4, 3, 2)"
   ]
  },
  {
   "cell_type": "markdown",
   "id": "5b06245f",
   "metadata": {},
   "source": [
    "#### Примеры массивов, заданных некоторыми функциями через включение:"
   ]
  },
  {
   "cell_type": "code",
   "execution_count": 91,
   "id": "fdebb1e6",
   "metadata": {},
   "outputs": [
    {
     "data": {
      "text/plain": [
       "10-element Vector{Float64}:\n",
       " 1.0\n",
       " 1.4142135623730951\n",
       " 1.7320508075688772\n",
       " 2.0\n",
       " 2.23606797749979\n",
       " 2.449489742783178\n",
       " 2.6457513110645907\n",
       " 2.8284271247461903\n",
       " 3.0\n",
       " 3.1622776601683795"
      ]
     },
     "execution_count": 91,
     "metadata": {},
     "output_type": "execute_result"
    }
   ],
   "source": [
    "# массив из квадратных корней всех целых чисел от 1 до 10:\n",
    "roots = [sqrt(i) for i in 1:10]"
   ]
  },
  {
   "cell_type": "code",
   "execution_count": 92,
   "id": "ea34378a",
   "metadata": {},
   "outputs": [
    {
     "data": {
      "text/plain": [
       "5-element Vector{Int64}:\n",
       "   3\n",
       "  27\n",
       "  75\n",
       " 147\n",
       " 243"
      ]
     },
     "execution_count": 92,
     "metadata": {},
     "output_type": "execute_result"
    }
   ],
   "source": [
    "# массив с элементами вида 3*x^2,\n",
    "# где x - нечётное число от 1 до 9 (включительно)\n",
    "ar_1 = [3*i^2 for i in 1:2:9]"
   ]
  },
  {
   "cell_type": "code",
   "execution_count": 93,
   "id": "650e8c5c",
   "metadata": {},
   "outputs": [
    {
     "data": {
      "text/plain": [
       "4-element Vector{Int64}:\n",
       "  1\n",
       "  9\n",
       " 49\n",
       " 81"
      ]
     },
     "execution_count": 93,
     "metadata": {},
     "output_type": "execute_result"
    }
   ],
   "source": [
    "# массив квадратов элементов, если квадрат не делится на 5 или 4:\n",
    "ar_2 = [i^2 for i=1:10 if (i^2%5!=0 && i^2%4!=0)]"
   ]
  },
  {
   "cell_type": "markdown",
   "id": "414df0b1",
   "metadata": {},
   "source": [
    "#### Некоторые операции для работы с массивами:"
   ]
  },
  {
   "cell_type": "code",
   "execution_count": 94,
   "id": "3e59bdbc",
   "metadata": {},
   "outputs": [
    {
     "data": {
      "text/plain": [
       "5-element Vector{Float64}:\n",
       " 1.0\n",
       " 1.0\n",
       " 1.0\n",
       " 1.0\n",
       " 1.0"
      ]
     },
     "execution_count": 94,
     "metadata": {},
     "output_type": "execute_result"
    }
   ],
   "source": [
    "# одномерный массив из пяти единиц:\n",
    "ones(5)"
   ]
  },
  {
   "cell_type": "code",
   "execution_count": 95,
   "id": "43311da0",
   "metadata": {},
   "outputs": [
    {
     "data": {
      "text/plain": [
       "2×3 Matrix{Float64}:\n",
       " 1.0  1.0  1.0\n",
       " 1.0  1.0  1.0"
      ]
     },
     "execution_count": 95,
     "metadata": {},
     "output_type": "execute_result"
    }
   ],
   "source": [
    "# двумерный массив 2x3 из единиц:\n",
    "ones(2,3)"
   ]
  },
  {
   "cell_type": "code",
   "execution_count": 96,
   "id": "5f56f8c5",
   "metadata": {},
   "outputs": [
    {
     "data": {
      "text/plain": [
       "4-element Vector{Float64}:\n",
       " 0.0\n",
       " 0.0\n",
       " 0.0\n",
       " 0.0"
      ]
     },
     "execution_count": 96,
     "metadata": {},
     "output_type": "execute_result"
    }
   ],
   "source": [
    "# одномерный массив из 4 нулей:\n",
    "zeros(4)"
   ]
  },
  {
   "cell_type": "code",
   "execution_count": 97,
   "id": "c886fb31",
   "metadata": {},
   "outputs": [
    {
     "data": {
      "text/plain": [
       "3×2 Matrix{Float64}:\n",
       " 3.5  3.5\n",
       " 3.5  3.5\n",
       " 3.5  3.5"
      ]
     },
     "execution_count": 97,
     "metadata": {},
     "output_type": "execute_result"
    }
   ],
   "source": [
    "# заполнить массив 3x2 цифрами 3.5\n",
    "fill(3.5,(3,2))"
   ]
  },
  {
   "cell_type": "code",
   "execution_count": 98,
   "id": "51102746",
   "metadata": {},
   "outputs": [
    {
     "data": {
      "text/plain": [
       "3×6 Matrix{Int64}:\n",
       " 1  2  1  2  1  2\n",
       " 1  2  1  2  1  2\n",
       " 1  2  1  2  1  2"
      ]
     },
     "execution_count": 98,
     "metadata": {},
     "output_type": "execute_result"
    }
   ],
   "source": [
    "# заполнение массива посредством функции repeat():\n",
    "repeat([1,2],3,3)\n",
    "repeat([1 2],3,3)"
   ]
  },
  {
   "cell_type": "code",
   "execution_count": 103,
   "id": "5c5f64f0",
   "metadata": {},
   "outputs": [
    {
     "name": "stdout",
     "output_type": "stream",
     "text": [
      "[1, 2, 3, 4, 5, 6, 7, 8, 9, 10, 11, 12]"
     ]
    },
    {
     "data": {
      "text/plain": [
       "2×6 Matrix{Int64}:\n",
       " 1  3  5  7   9  11\n",
       " 2  4  6  8  10  12"
      ]
     },
     "execution_count": 103,
     "metadata": {},
     "output_type": "execute_result"
    }
   ],
   "source": [
    "# преобразование одномерного массива из целых чисел от 1 до 12\n",
    "# в двумерный массив 2x6\n",
    "a = collect(1:12)\n",
    "print(a)\n",
    "print()\n",
    "b = reshape(a,(2,6))"
   ]
  },
  {
   "cell_type": "code",
   "execution_count": 104,
   "id": "47f52cba",
   "metadata": {},
   "outputs": [
    {
     "data": {
      "text/plain": [
       "6×2 transpose(::Matrix{Int64}) with eltype Int64:\n",
       "  1   2\n",
       "  3   4\n",
       "  5   6\n",
       "  7   8\n",
       "  9  10\n",
       " 11  12"
      ]
     },
     "execution_count": 104,
     "metadata": {},
     "output_type": "execute_result"
    }
   ],
   "source": [
    "# транспонирование b\n",
    "с = transpose(b)"
   ]
  },
  {
   "cell_type": "code",
   "execution_count": 105,
   "id": "43c51911",
   "metadata": {},
   "outputs": [
    {
     "data": {
      "text/plain": [
       "10×5 Matrix{Int64}:\n",
       " 18  15  20  20  11\n",
       " 14  14  20  16  15\n",
       " 12  15  19  16  14\n",
       " 19  17  20  12  11\n",
       " 11  13  12  11  17\n",
       " 17  12  17  14  13\n",
       " 16  11  15  12  16\n",
       " 18  12  10  17  13\n",
       " 10  19  16  18  20\n",
       " 14  18  20  17  20"
      ]
     },
     "execution_count": 105,
     "metadata": {},
     "output_type": "execute_result"
    }
   ],
   "source": [
    "# массив 10x5 целых чисел в диапазоне [10, 20]:\n",
    "ar = rand(10:20, 10, 5)"
   ]
  },
  {
   "cell_type": "code",
   "execution_count": 106,
   "id": "13812f69",
   "metadata": {},
   "outputs": [
    {
     "data": {
      "text/plain": [
       "10-element Vector{Int64}:\n",
       " 15\n",
       " 14\n",
       " 15\n",
       " 17\n",
       " 13\n",
       " 12\n",
       " 11\n",
       " 12\n",
       " 19\n",
       " 18"
      ]
     },
     "execution_count": 106,
     "metadata": {},
     "output_type": "execute_result"
    }
   ],
   "source": [
    "# выбор всех значений строки в столбце 2:\n",
    "ar[:, 2]"
   ]
  },
  {
   "cell_type": "code",
   "execution_count": 107,
   "id": "53cfc117",
   "metadata": {},
   "outputs": [
    {
     "data": {
      "text/plain": [
       "10×2 Matrix{Int64}:\n",
       " 15  11\n",
       " 14  15\n",
       " 15  14\n",
       " 17  11\n",
       " 13  17\n",
       " 12  13\n",
       " 11  16\n",
       " 12  13\n",
       " 19  20\n",
       " 18  20"
      ]
     },
     "execution_count": 107,
     "metadata": {},
     "output_type": "execute_result"
    }
   ],
   "source": [
    "# выбор всех значений в столбцах 2 и 5:\n",
    "ar[:, [2, 5]]"
   ]
  },
  {
   "cell_type": "code",
   "execution_count": 108,
   "id": "78d2ce19",
   "metadata": {},
   "outputs": [
    {
     "data": {
      "text/plain": [
       "10×3 Matrix{Int64}:\n",
       " 15  20  20\n",
       " 14  20  16\n",
       " 15  19  16\n",
       " 17  20  12\n",
       " 13  12  11\n",
       " 12  17  14\n",
       " 11  15  12\n",
       " 12  10  17\n",
       " 19  16  18\n",
       " 18  20  17"
      ]
     },
     "execution_count": 108,
     "metadata": {},
     "output_type": "execute_result"
    }
   ],
   "source": [
    "# все значения строк в столбцах 2, 3 и 4:\n",
    "ar[:, 2:4]"
   ]
  },
  {
   "cell_type": "code",
   "execution_count": 109,
   "id": "cf2a63bf",
   "metadata": {},
   "outputs": [
    {
     "data": {
      "text/plain": [
       "3×2 Matrix{Int64}:\n",
       " 14  15\n",
       " 19  11\n",
       " 17  13"
      ]
     },
     "execution_count": 109,
     "metadata": {},
     "output_type": "execute_result"
    }
   ],
   "source": [
    "# значения в строках 2, 4, 6 и в столбцах 1 и 5:\n",
    "ar[[2, 4, 6], [1, 5]]"
   ]
  },
  {
   "cell_type": "code",
   "execution_count": 110,
   "id": "be5fd158",
   "metadata": {},
   "outputs": [
    {
     "data": {
      "text/plain": [
       "3-element Vector{Int64}:\n",
       " 20\n",
       " 20\n",
       " 11"
      ]
     },
     "execution_count": 110,
     "metadata": {},
     "output_type": "execute_result"
    }
   ],
   "source": [
    "# значения в строке 1 от столбца 3 до последнего столбца:\n",
    "ar[1, 3:end]"
   ]
  },
  {
   "cell_type": "code",
   "execution_count": 111,
   "id": "d4fb1da2",
   "metadata": {},
   "outputs": [
    {
     "data": {
      "text/plain": [
       "10×5 Matrix{Int64}:\n",
       " 10  11  10  11  11\n",
       " 11  12  12  12  11\n",
       " 12  12  15  12  13\n",
       " 14  13  16  14  13\n",
       " 14  14  17  16  14\n",
       " 16  15  19  16  15\n",
       " 17  15  20  17  16\n",
       " 18  17  20  17  17\n",
       " 18  18  20  18  20\n",
       " 19  19  20  20  20"
      ]
     },
     "execution_count": 111,
     "metadata": {},
     "output_type": "execute_result"
    }
   ],
   "source": [
    "# сортировка по столбцам:\n",
    "sort(ar,dims=1)"
   ]
  },
  {
   "cell_type": "code",
   "execution_count": 112,
   "id": "9dddb2fb",
   "metadata": {},
   "outputs": [
    {
     "data": {
      "text/plain": [
       "10×5 Matrix{Int64}:\n",
       " 11  15  18  20  20\n",
       " 14  14  15  16  20\n",
       " 12  14  15  16  19\n",
       " 11  12  17  19  20\n",
       " 11  11  12  13  17\n",
       " 12  13  14  17  17\n",
       " 11  12  15  16  16\n",
       " 10  12  13  17  18\n",
       " 10  16  18  19  20\n",
       " 14  17  18  20  20"
      ]
     },
     "execution_count": 112,
     "metadata": {},
     "output_type": "execute_result"
    }
   ],
   "source": [
    "# сортировка по строкам:\n",
    "sort(ar,dims=2)"
   ]
  },
  {
   "cell_type": "code",
   "execution_count": 113,
   "id": "0ef37ae3",
   "metadata": {},
   "outputs": [
    {
     "data": {
      "text/plain": [
       "10×5 BitMatrix:\n",
       " 1  1  1  1  0\n",
       " 0  0  1  1  1\n",
       " 0  1  1  1  0\n",
       " 1  1  1  0  0\n",
       " 0  0  0  0  1\n",
       " 1  0  1  0  0\n",
       " 1  0  1  0  1\n",
       " 1  0  0  1  0\n",
       " 0  1  1  1  1\n",
       " 0  1  1  1  1"
      ]
     },
     "execution_count": 113,
     "metadata": {},
     "output_type": "execute_result"
    }
   ],
   "source": [
    "# поэлементное сравнение с числом\n",
    "# (результат - массив логических значений):\n",
    "ar .> 14"
   ]
  },
  {
   "cell_type": "code",
   "execution_count": 114,
   "id": "271c1f42",
   "metadata": {},
   "outputs": [
    {
     "data": {
      "text/plain": [
       "29-element Vector{CartesianIndex{2}}:\n",
       " CartesianIndex(1, 1)\n",
       " CartesianIndex(4, 1)\n",
       " CartesianIndex(6, 1)\n",
       " CartesianIndex(7, 1)\n",
       " CartesianIndex(8, 1)\n",
       " CartesianIndex(1, 2)\n",
       " CartesianIndex(3, 2)\n",
       " CartesianIndex(4, 2)\n",
       " CartesianIndex(9, 2)\n",
       " CartesianIndex(10, 2)\n",
       " CartesianIndex(1, 3)\n",
       " CartesianIndex(2, 3)\n",
       " CartesianIndex(3, 3)\n",
       " ⋮\n",
       " CartesianIndex(10, 3)\n",
       " CartesianIndex(1, 4)\n",
       " CartesianIndex(2, 4)\n",
       " CartesianIndex(3, 4)\n",
       " CartesianIndex(8, 4)\n",
       " CartesianIndex(9, 4)\n",
       " CartesianIndex(10, 4)\n",
       " CartesianIndex(2, 5)\n",
       " CartesianIndex(5, 5)\n",
       " CartesianIndex(7, 5)\n",
       " CartesianIndex(9, 5)\n",
       " CartesianIndex(10, 5)"
      ]
     },
     "execution_count": 114,
     "metadata": {},
     "output_type": "execute_result"
    }
   ],
   "source": [
    "# возврат индексов элементов массива, удовлетворяющих условию:\n",
    "findall(ar .> 14)"
   ]
  },
  {
   "cell_type": "markdown",
   "id": "464a034a",
   "metadata": {},
   "source": [
    "### 2. Выполните задания для самостоятельной работы (раздел 2.4)."
   ]
  },
  {
   "cell_type": "markdown",
   "id": "8ddd3d26",
   "metadata": {},
   "source": [
    "##### 1. Даны множества $A = \\{ 0, 3, 4, 9 \\} $, $B = \\{ 1, 3, 4, 7 \\}$ и $C = \\{ 0, 1, 2, 4, 7, 8, 9 \\}$. Найти $P = (A\\cap B)\\cup (A\\cap B)\\cup (A\\cap C)\\cup (B\\cap C)$ "
   ]
  },
  {
   "cell_type": "code",
   "execution_count": 117,
   "id": "89d6c5be",
   "metadata": {},
   "outputs": [
    {
     "data": {
      "text/plain": [
       "(Any[3, 4], [0, 1, 3, 4, 7, 9])"
      ]
     },
     "execution_count": 117,
     "metadata": {},
     "output_type": "execute_result"
    }
   ],
   "source": [
    "function peresech(x,y)\n",
    "    z = []\n",
    "    for i in x\n",
    "        for j in y\n",
    "            if i == j\n",
    "                append!(z,i)\n",
    "            end\n",
    "        end\n",
    "    end\n",
    "    return z\n",
    "end\n",
    "\n",
    "\n",
    "function obyedin(x,y...)\n",
    "    z = x\n",
    "    for i in y\n",
    "        for j in i\n",
    "            if findfirst(isequal(j),z) == nothing\n",
    "                append!(z, j)\n",
    "            end\n",
    "        end\n",
    "    end\n",
    "    return sort(z)\n",
    "end\n",
    "\n",
    "A = [0, 3, 4, 9]\n",
    "B = [1, 3, 4, 7]\n",
    "C = [0, 1, 2, 4, 7, 8, 9]\n",
    "\n",
    "peresech(A, B), obyedin(A, B)"
   ]
  },
  {
   "cell_type": "code",
   "execution_count": 118,
   "id": "f0533788",
   "metadata": {},
   "outputs": [
    {
     "data": {
      "text/plain": [
       "6-element Vector{Any}:\n",
       " 0\n",
       " 1\n",
       " 3\n",
       " 4\n",
       " 7\n",
       " 9"
      ]
     },
     "execution_count": 118,
     "metadata": {},
     "output_type": "execute_result"
    }
   ],
   "source": [
    "t1 = peresech(A, B)\n",
    "t2 = peresech(A, C)\n",
    "t3 = peresech(B, C)\n",
    "P = obyedin(t1, t1, t2, t3)"
   ]
  },
  {
   "cell_type": "code",
   "execution_count": 119,
   "id": "1abb027e",
   "metadata": {},
   "outputs": [
    {
     "data": {
      "text/plain": [
       "(Set([0, 4, 9, 3]), Set([4, 7, 3, 1]), Set([0, 4, 7, 2, 9, 8, 1]))"
      ]
     },
     "execution_count": 119,
     "metadata": {},
     "output_type": "execute_result"
    }
   ],
   "source": [
    "a = Set([0, 3, 4, 9]); b = Set(B); c = Set(C)\n",
    "a, b, c"
   ]
  },
  {
   "cell_type": "code",
   "execution_count": 120,
   "id": "db861a69",
   "metadata": {},
   "outputs": [
    {
     "data": {
      "text/plain": [
       "(Set([4, 3]), Set([0, 4, 7, 9, 3, 1]))"
      ]
     },
     "execution_count": 120,
     "metadata": {},
     "output_type": "execute_result"
    }
   ],
   "source": [
    "intersect(a,b), union(a,b)"
   ]
  },
  {
   "cell_type": "code",
   "execution_count": 127,
   "id": "e289f724",
   "metadata": {},
   "outputs": [
    {
     "data": {
      "text/plain": [
       "Set{Int64} with 6 elements:\n",
       "  0\n",
       "  4\n",
       "  7\n",
       "  9\n",
       "  3\n",
       "  1"
      ]
     },
     "execution_count": 127,
     "metadata": {},
     "output_type": "execute_result"
    }
   ],
   "source": [
    "t1 = intersect(a,b)\n",
    "t2 = intersect(a,c)\n",
    "t3 = intersect(b,c)\n",
    "P = union(t1, t1, t2, t3)"
   ]
  },
  {
   "cell_type": "markdown",
   "id": "ae651f9a",
   "metadata": {},
   "source": [
    "#### 2. Приведите свои примеры с выполнением операций над множествами элементов разных типов"
   ]
  },
  {
   "cell_type": "code",
   "execution_count": 121,
   "id": "ea0dcee2",
   "metadata": {},
   "outputs": [
    {
     "data": {
      "text/plain": [
       "Set{Any} with 9 elements:\n",
       "  5\n",
       "  4\n",
       "  6\n",
       "  \"Marina\"\n",
       "  2\n",
       "  \"Ma\"\n",
       "  \"ri\"\n",
       "  3\n",
       "  1"
      ]
     },
     "execution_count": 121,
     "metadata": {},
     "output_type": "execute_result"
    }
   ],
   "source": [
    "t = Set([1 2 3; 4 5 6; \"Ma\" \"ri\" \"Marina\"])"
   ]
  },
  {
   "cell_type": "code",
   "execution_count": 122,
   "id": "4f09862f",
   "metadata": {},
   "outputs": [
    {
     "data": {
      "text/plain": [
       "true"
      ]
     },
     "execution_count": 122,
     "metadata": {},
     "output_type": "execute_result"
    }
   ],
   "source": [
    "1 in t"
   ]
  },
  {
   "cell_type": "code",
   "execution_count": 123,
   "id": "a6beb3a2",
   "metadata": {},
   "outputs": [
    {
     "data": {
      "text/plain": [
       "false"
      ]
     },
     "execution_count": 123,
     "metadata": {},
     "output_type": "execute_result"
    }
   ],
   "source": [
    "0 in t"
   ]
  },
  {
   "cell_type": "code",
   "execution_count": 124,
   "id": "a11c3990",
   "metadata": {},
   "outputs": [
    {
     "data": {
      "text/plain": [
       "false"
      ]
     },
     "execution_count": 124,
     "metadata": {},
     "output_type": "execute_result"
    }
   ],
   "source": [
    "[1, 2, 3] in t"
   ]
  },
  {
   "cell_type": "code",
   "execution_count": 125,
   "id": "c498b047",
   "metadata": {},
   "outputs": [
    {
     "data": {
      "text/plain": [
       "Set{Any} with 4 elements:\n",
       "  4\n",
       "  2\n",
       "  3\n",
       "  1"
      ]
     },
     "execution_count": 125,
     "metadata": {},
     "output_type": "execute_result"
    }
   ],
   "source": [
    "intersect(Set([1,2,3,4,7,8,10]), t)"
   ]
  },
  {
   "cell_type": "code",
   "execution_count": 126,
   "id": "9176901a",
   "metadata": {},
   "outputs": [
    {
     "data": {
      "text/plain": [
       "Set{Any} with 12 elements:\n",
       "  5\n",
       "  7\n",
       "  \"Marina\"\n",
       "  \"Ma\"\n",
       "  8\n",
       "  1\n",
       "  4\n",
       "  6\n",
       "  2\n",
       "  10\n",
       "  \"ri\"\n",
       "  3"
      ]
     },
     "execution_count": 126,
     "metadata": {},
     "output_type": "execute_result"
    }
   ],
   "source": [
    "union(Set([1,2,3,4,7,8,10]), t)"
   ]
  },
  {
   "cell_type": "code",
   "execution_count": 128,
   "id": "3d9162c7",
   "metadata": {},
   "outputs": [
    {
     "data": {
      "text/plain": [
       "Set{Int64} with 3 elements:\n",
       "  7\n",
       "  10\n",
       "  8"
      ]
     },
     "execution_count": 128,
     "metadata": {},
     "output_type": "execute_result"
    }
   ],
   "source": [
    "setdiff(Set([1,2,3,4,7,8,10]), t)"
   ]
  },
  {
   "cell_type": "code",
   "execution_count": 129,
   "id": "e1362a29",
   "metadata": {},
   "outputs": [
    {
     "data": {
      "text/plain": [
       "Set{Any} with 5 elements:\n",
       "  5\n",
       "  6\n",
       "  \"Marina\"\n",
       "  \"Ma\"\n",
       "  \"ri\""
      ]
     },
     "execution_count": 129,
     "metadata": {},
     "output_type": "execute_result"
    }
   ],
   "source": [
    "setdiff(t, Set([1,2,3,4,7,8,10]))"
   ]
  },
  {
   "cell_type": "markdown",
   "id": "577ebe28",
   "metadata": {},
   "source": [
    "#### 3. Создайте разными способами:"
   ]
  },
  {
   "cell_type": "markdown",
   "id": "0c601ab7",
   "metadata": {},
   "source": [
    "##### 3.1) массив (1, 2, 3, … 𝑁 − 1, 𝑁 ), 𝑁 выберите больше 20;\n"
   ]
  },
  {
   "cell_type": "code",
   "execution_count": 131,
   "id": "e02d671d",
   "metadata": {},
   "outputs": [
    {
     "data": {
      "text/plain": [
       "100-element Vector{Int64}:\n",
       "   1\n",
       "   2\n",
       "   3\n",
       "   4\n",
       "   5\n",
       "   6\n",
       "   7\n",
       "   8\n",
       "   9\n",
       "  10\n",
       "  11\n",
       "  12\n",
       "  13\n",
       "   ⋮\n",
       "  89\n",
       "  90\n",
       "  91\n",
       "  92\n",
       "  93\n",
       "  94\n",
       "  95\n",
       "  96\n",
       "  97\n",
       "  98\n",
       "  99\n",
       " 100"
      ]
     },
     "execution_count": 131,
     "metadata": {},
     "output_type": "execute_result"
    }
   ],
   "source": [
    "N = 100\n",
    "t = zeros(Int64, N)\n",
    "for i in 1:N\n",
    "    t[i] = i\n",
    "end\n",
    "t"
   ]
  },
  {
   "cell_type": "code",
   "execution_count": 132,
   "id": "6b34ebd6",
   "metadata": {},
   "outputs": [
    {
     "data": {
      "text/plain": [
       "100-element Vector{Int64}:\n",
       "   1\n",
       "   2\n",
       "   3\n",
       "   4\n",
       "   5\n",
       "   6\n",
       "   7\n",
       "   8\n",
       "   9\n",
       "  10\n",
       "  11\n",
       "  12\n",
       "  13\n",
       "   ⋮\n",
       "  89\n",
       "  90\n",
       "  91\n",
       "  92\n",
       "  93\n",
       "  94\n",
       "  95\n",
       "  96\n",
       "  97\n",
       "  98\n",
       "  99\n",
       " 100"
      ]
     },
     "execution_count": 132,
     "metadata": {},
     "output_type": "execute_result"
    }
   ],
   "source": [
    "t = collect(1:N)\n",
    "t"
   ]
  },
  {
   "cell_type": "code",
   "execution_count": 133,
   "id": "4941d00c",
   "metadata": {},
   "outputs": [
    {
     "data": {
      "text/plain": [
       "100-element Vector{Int64}:\n",
       "   1\n",
       "   2\n",
       "   3\n",
       "   4\n",
       "   5\n",
       "   6\n",
       "   7\n",
       "   8\n",
       "   9\n",
       "  10\n",
       "  11\n",
       "  12\n",
       "  13\n",
       "   ⋮\n",
       "  89\n",
       "  90\n",
       "  91\n",
       "  92\n",
       "  93\n",
       "  94\n",
       "  95\n",
       "  96\n",
       "  97\n",
       "  98\n",
       "  99\n",
       " 100"
      ]
     },
     "execution_count": 133,
     "metadata": {},
     "output_type": "execute_result"
    }
   ],
   "source": [
    "t = [i for i in 1:N]"
   ]
  },
  {
   "cell_type": "markdown",
   "id": "3c856876",
   "metadata": {},
   "source": [
    "##### 3.2) массив (𝑁, 𝑁 − 1 … , 2, 1), 𝑁 выберите больше 20;"
   ]
  },
  {
   "cell_type": "code",
   "execution_count": 136,
   "id": "f3d5a090",
   "metadata": {},
   "outputs": [
    {
     "data": {
      "text/plain": [
       "100-element Vector{Int64}:\n",
       " 100\n",
       "  99\n",
       "  98\n",
       "  97\n",
       "  96\n",
       "  95\n",
       "  94\n",
       "  93\n",
       "  92\n",
       "  91\n",
       "  90\n",
       "  89\n",
       "  88\n",
       "   ⋮\n",
       "  12\n",
       "  11\n",
       "  10\n",
       "   9\n",
       "   8\n",
       "   7\n",
       "   6\n",
       "   5\n",
       "   4\n",
       "   3\n",
       "   2\n",
       "   1"
      ]
     },
     "execution_count": 136,
     "metadata": {},
     "output_type": "execute_result"
    }
   ],
   "source": [
    "N = 100\n",
    "t = zeros(Int64, N)\n",
    "for i in N:-1:1\n",
    "    t[N-i+1] = i\n",
    "end\n",
    "t"
   ]
  },
  {
   "cell_type": "code",
   "execution_count": 137,
   "id": "f6c3ce74",
   "metadata": {},
   "outputs": [
    {
     "data": {
      "text/plain": [
       "100-element Vector{Int64}:\n",
       " 100\n",
       "  99\n",
       "  98\n",
       "  97\n",
       "  96\n",
       "  95\n",
       "  94\n",
       "  93\n",
       "  92\n",
       "  91\n",
       "  90\n",
       "  89\n",
       "  88\n",
       "   ⋮\n",
       "  12\n",
       "  11\n",
       "  10\n",
       "   9\n",
       "   8\n",
       "   7\n",
       "   6\n",
       "   5\n",
       "   4\n",
       "   3\n",
       "   2\n",
       "   1"
      ]
     },
     "execution_count": 137,
     "metadata": {},
     "output_type": "execute_result"
    }
   ],
   "source": [
    "t = collect(N:-1:1)"
   ]
  },
  {
   "cell_type": "code",
   "execution_count": 138,
   "id": "20a6fd67",
   "metadata": {},
   "outputs": [
    {
     "data": {
      "text/plain": [
       "100-element Vector{Int64}:\n",
       " 100\n",
       "  99\n",
       "  98\n",
       "  97\n",
       "  96\n",
       "  95\n",
       "  94\n",
       "  93\n",
       "  92\n",
       "  91\n",
       "  90\n",
       "  89\n",
       "  88\n",
       "   ⋮\n",
       "  12\n",
       "  11\n",
       "  10\n",
       "   9\n",
       "   8\n",
       "   7\n",
       "   6\n",
       "   5\n",
       "   4\n",
       "   3\n",
       "   2\n",
       "   1"
      ]
     },
     "execution_count": 138,
     "metadata": {},
     "output_type": "execute_result"
    }
   ],
   "source": [
    "t = [N-i+1 for i in 1:N] "
   ]
  },
  {
   "cell_type": "markdown",
   "id": "1dc14182",
   "metadata": {},
   "source": [
    "##### 3.3) массив (1, 2, 3, … , 𝑁 − 1, 𝑁, 𝑁 − 1, … , 2, 1), 𝑁 выберите больше 20;"
   ]
  },
  {
   "cell_type": "code",
   "execution_count": 139,
   "id": "f89868e9",
   "metadata": {},
   "outputs": [
    {
     "data": {
      "text/plain": [
       "199-element Vector{Int64}:\n",
       "  1\n",
       "  2\n",
       "  3\n",
       "  4\n",
       "  5\n",
       "  6\n",
       "  7\n",
       "  8\n",
       "  9\n",
       " 10\n",
       " 11\n",
       " 12\n",
       " 13\n",
       "  ⋮\n",
       " 12\n",
       " 11\n",
       " 10\n",
       "  9\n",
       "  8\n",
       "  7\n",
       "  6\n",
       "  5\n",
       "  4\n",
       "  3\n",
       "  2\n",
       "  1"
      ]
     },
     "execution_count": 139,
     "metadata": {},
     "output_type": "execute_result"
    }
   ],
   "source": [
    "t = zeros(Int64, 2N-1)\n",
    "for i in 1:N\n",
    "    t[i] = i\n",
    "end\n",
    "for i in 1:N-1\n",
    "    t[i+N] = N-i\n",
    "end\n",
    "t"
   ]
  },
  {
   "cell_type": "code",
   "execution_count": 143,
   "id": "fe1fba38",
   "metadata": {},
   "outputs": [
    {
     "data": {
      "text/plain": [
       "199-element Vector{Int64}:\n",
       "  1\n",
       "  2\n",
       "  3\n",
       "  4\n",
       "  5\n",
       "  6\n",
       "  7\n",
       "  8\n",
       "  9\n",
       " 10\n",
       " 11\n",
       " 12\n",
       " 13\n",
       "  ⋮\n",
       " 12\n",
       " 11\n",
       " 10\n",
       "  9\n",
       "  8\n",
       "  7\n",
       "  6\n",
       "  5\n",
       "  4\n",
       "  3\n",
       "  2\n",
       "  1"
      ]
     },
     "execution_count": 143,
     "metadata": {},
     "output_type": "execute_result"
    }
   ],
   "source": [
    "t = cat([i for i in 1:N], [i for i in N-1:-1:1], dims=1)"
   ]
  },
  {
   "cell_type": "code",
   "execution_count": 144,
   "id": "34c93d5b",
   "metadata": {},
   "outputs": [
    {
     "data": {
      "text/plain": [
       "200-element Vector{Int64}:\n",
       "  1\n",
       "  2\n",
       "  3\n",
       "  4\n",
       "  5\n",
       "  6\n",
       "  7\n",
       "  8\n",
       "  9\n",
       " 10\n",
       " 11\n",
       " 12\n",
       " 13\n",
       "  ⋮\n",
       " 12\n",
       " 11\n",
       " 10\n",
       "  9\n",
       "  8\n",
       "  7\n",
       "  6\n",
       "  5\n",
       "  4\n",
       "  3\n",
       "  2\n",
       "  1"
      ]
     },
     "execution_count": 144,
     "metadata": {},
     "output_type": "execute_result"
    }
   ],
   "source": [
    "t = vcat(collect(1:N), collect(N:-1:1))"
   ]
  },
  {
   "cell_type": "markdown",
   "id": "d6637219",
   "metadata": {},
   "source": [
    "##### 3.4) массив с именем tmp вида (4, 6, 3);"
   ]
  },
  {
   "cell_type": "code",
   "execution_count": 154,
   "id": "f7350c67",
   "metadata": {},
   "outputs": [
    {
     "data": {
      "text/plain": [
       "3-element Vector{Int64}:\n",
       " 4\n",
       " 6\n",
       " 3"
      ]
     },
     "execution_count": 154,
     "metadata": {},
     "output_type": "execute_result"
    }
   ],
   "source": [
    "t1 = 4; t2 = 6; t3 = 3\n",
    "tmp = [t1, t2, t3]"
   ]
  },
  {
   "cell_type": "code",
   "execution_count": 155,
   "id": "b8938870",
   "metadata": {},
   "outputs": [
    {
     "data": {
      "text/plain": [
       "3-element Vector{Int64}:\n",
       " 4\n",
       " 6\n",
       " 3"
      ]
     },
     "execution_count": 155,
     "metadata": {},
     "output_type": "execute_result"
    }
   ],
   "source": [
    "tmp = [4, 6, 3]"
   ]
  },
  {
   "cell_type": "markdown",
   "id": "d0fe1763",
   "metadata": {},
   "source": [
    "##### 3.5) массив, в котором первый элемент массива tmp повторяется 10 раз;"
   ]
  },
  {
   "cell_type": "code",
   "execution_count": 158,
   "id": "868c9cd8",
   "metadata": {},
   "outputs": [
    {
     "data": {
      "text/plain": [
       "10-element Vector{Int64}:\n",
       " 4\n",
       " 4\n",
       " 4\n",
       " 4\n",
       " 4\n",
       " 4\n",
       " 4\n",
       " 4\n",
       " 4\n",
       " 4"
      ]
     },
     "execution_count": 158,
     "metadata": {},
     "output_type": "execute_result"
    }
   ],
   "source": [
    "t1 = zeros(Int64, 10)\n",
    "for i in 1:10\n",
    "    t1[i] = tmp[1]\n",
    "end\n",
    "t1"
   ]
  },
  {
   "cell_type": "code",
   "execution_count": 159,
   "id": "a76012ae",
   "metadata": {},
   "outputs": [
    {
     "data": {
      "text/plain": [
       "10-element Vector{Int64}:\n",
       " 4\n",
       " 4\n",
       " 4\n",
       " 4\n",
       " 4\n",
       " 4\n",
       " 4\n",
       " 4\n",
       " 4\n",
       " 4"
      ]
     },
     "execution_count": 159,
     "metadata": {},
     "output_type": "execute_result"
    }
   ],
   "source": [
    "t1 = [tmp[1] for i in 1:10]"
   ]
  },
  {
   "cell_type": "code",
   "execution_count": 160,
   "id": "8facae38",
   "metadata": {},
   "outputs": [
    {
     "data": {
      "text/plain": [
       "10-element Vector{Int64}:\n",
       " 4\n",
       " 4\n",
       " 4\n",
       " 4\n",
       " 4\n",
       " 4\n",
       " 4\n",
       " 4\n",
       " 4\n",
       " 4"
      ]
     },
     "execution_count": 160,
     "metadata": {},
     "output_type": "execute_result"
    }
   ],
   "source": [
    "t1 = fill(tmp[1], 10)"
   ]
  },
  {
   "cell_type": "markdown",
   "id": "65ca5fd5",
   "metadata": {},
   "source": [
    "##### 3.6) массив, в котором все элементы массива tmp повторяются 10 раз;"
   ]
  },
  {
   "cell_type": "code",
   "execution_count": 162,
   "id": "a1fb4c0a",
   "metadata": {},
   "outputs": [
    {
     "data": {
      "text/plain": [
       "30-element Vector{Int64}:\n",
       " 4\n",
       " 6\n",
       " 3\n",
       " 4\n",
       " 6\n",
       " 3\n",
       " 4\n",
       " 6\n",
       " 3\n",
       " 4\n",
       " 6\n",
       " 3\n",
       " 4\n",
       " ⋮\n",
       " 4\n",
       " 6\n",
       " 3\n",
       " 4\n",
       " 6\n",
       " 3\n",
       " 4\n",
       " 6\n",
       " 3\n",
       " 4\n",
       " 6\n",
       " 3"
      ]
     },
     "execution_count": 162,
     "metadata": {},
     "output_type": "execute_result"
    }
   ],
   "source": [
    "t2 = zeros(Int64, 30)\n",
    "for i in 0:9\n",
    "    t2[3*i+1] = tmp[1]\n",
    "    t2[3*i+2] = tmp[2]\n",
    "    t2[3*i+3] = tmp[3]\n",
    "end\n",
    "t2"
   ]
  },
  {
   "cell_type": "code",
   "execution_count": 163,
   "id": "9e98281d",
   "metadata": {},
   "outputs": [
    {
     "data": {
      "text/plain": [
       "30-element Vector{Int64}:\n",
       " 4\n",
       " 6\n",
       " 3\n",
       " 4\n",
       " 6\n",
       " 3\n",
       " 4\n",
       " 6\n",
       " 3\n",
       " 4\n",
       " 6\n",
       " 3\n",
       " 4\n",
       " ⋮\n",
       " 4\n",
       " 6\n",
       " 3\n",
       " 4\n",
       " 6\n",
       " 3\n",
       " 4\n",
       " 6\n",
       " 3\n",
       " 4\n",
       " 6\n",
       " 3"
      ]
     },
     "execution_count": 163,
     "metadata": {},
     "output_type": "execute_result"
    }
   ],
   "source": [
    "t2 = repeat(tmp, 10)"
   ]
  },
  {
   "cell_type": "markdown",
   "id": "2fe3e6bc",
   "metadata": {},
   "source": [
    "##### 3.7) массив, в котором первый элемент массива tmp встречается 11 раз, второй элемент — 10 раз, третий элемент — 10 раз;"
   ]
  },
  {
   "cell_type": "code",
   "execution_count": 165,
   "id": "fe1d18d3",
   "metadata": {},
   "outputs": [
    {
     "data": {
      "text/plain": [
       "31-element Vector{Int64}:\n",
       " 4\n",
       " 4\n",
       " 4\n",
       " 4\n",
       " 4\n",
       " 4\n",
       " 4\n",
       " 4\n",
       " 4\n",
       " 4\n",
       " 4\n",
       " 6\n",
       " 3\n",
       " ⋮\n",
       " 6\n",
       " 3\n",
       " 6\n",
       " 3\n",
       " 6\n",
       " 3\n",
       " 6\n",
       " 3\n",
       " 6\n",
       " 3\n",
       " 6\n",
       " 3"
      ]
     },
     "execution_count": 165,
     "metadata": {},
     "output_type": "execute_result"
    }
   ],
   "source": [
    "t3 = [tmp[1] for i in 1:11]\n",
    "for i in 1:10\n",
    "    append!(t3, tmp[2])\n",
    "    append!(t3, tmp[3])\n",
    "end\n",
    "t3"
   ]
  },
  {
   "cell_type": "code",
   "execution_count": 166,
   "id": "5fe1cddd",
   "metadata": {},
   "outputs": [
    {
     "data": {
      "text/plain": [
       "31-element Vector{Int64}:\n",
       " 4\n",
       " 6\n",
       " 3\n",
       " 4\n",
       " 6\n",
       " 3\n",
       " 4\n",
       " 6\n",
       " 3\n",
       " 4\n",
       " 6\n",
       " 3\n",
       " 4\n",
       " ⋮\n",
       " 6\n",
       " 3\n",
       " 4\n",
       " 6\n",
       " 3\n",
       " 4\n",
       " 6\n",
       " 3\n",
       " 4\n",
       " 6\n",
       " 3\n",
       " 4"
      ]
     },
     "execution_count": 166,
     "metadata": {},
     "output_type": "execute_result"
    }
   ],
   "source": [
    "t3 = repeat(tmp, 10)\n",
    "append!(t3, tmp[1])\n",
    "t3"
   ]
  },
  {
   "cell_type": "code",
   "execution_count": 167,
   "id": "b360a2ef",
   "metadata": {},
   "outputs": [
    {
     "data": {
      "text/plain": [
       "31-element Vector{Int64}:\n",
       " 4\n",
       " 4\n",
       " 4\n",
       " 4\n",
       " 4\n",
       " 4\n",
       " 4\n",
       " 4\n",
       " 4\n",
       " 4\n",
       " 4\n",
       " 6\n",
       " 6\n",
       " ⋮\n",
       " 6\n",
       " 6\n",
       " 3\n",
       " 3\n",
       " 3\n",
       " 3\n",
       " 3\n",
       " 3\n",
       " 3\n",
       " 3\n",
       " 3\n",
       " 3"
      ]
     },
     "execution_count": 167,
     "metadata": {},
     "output_type": "execute_result"
    }
   ],
   "source": [
    "t3 = cat([tmp[1] for i in 1:11], [tmp[2] for i in 1:10], [tmp[3] for i in 1:10], dims=1)"
   ]
  },
  {
   "cell_type": "markdown",
   "id": "d15893bb",
   "metadata": {},
   "source": [
    "##### 3.8) массив, в котором первый элемент массива tmp встречается 10 раз подряд, второй элемент — 20 раз подряд, третий элемент — 30 раз подряд;"
   ]
  },
  {
   "cell_type": "code",
   "execution_count": 168,
   "id": "1849922e",
   "metadata": {},
   "outputs": [
    {
     "data": {
      "text/plain": [
       "60-element Vector{Int64}:\n",
       " 4\n",
       " 4\n",
       " 4\n",
       " 4\n",
       " 4\n",
       " 4\n",
       " 4\n",
       " 4\n",
       " 4\n",
       " 4\n",
       " 6\n",
       " 3\n",
       " 6\n",
       " ⋮\n",
       " 6\n",
       " 3\n",
       " 3\n",
       " 3\n",
       " 3\n",
       " 3\n",
       " 3\n",
       " 3\n",
       " 3\n",
       " 3\n",
       " 3\n",
       " 3"
      ]
     },
     "execution_count": 168,
     "metadata": {},
     "output_type": "execute_result"
    }
   ],
   "source": [
    "t3 = [tmp[1] for i in 1:10]\n",
    "for i in 1:20\n",
    "    append!(t3, tmp[2])\n",
    "    append!(t3, tmp[3])\n",
    "end\n",
    "for i in 1:10\n",
    "    append!(t3, tmp[3])\n",
    "end\n",
    "t3"
   ]
  },
  {
   "cell_type": "code",
   "execution_count": 170,
   "id": "ce49a109",
   "metadata": {},
   "outputs": [
    {
     "data": {
      "text/plain": [
       "60-element Vector{Int64}:\n",
       " 4\n",
       " 6\n",
       " 3\n",
       " 4\n",
       " 6\n",
       " 3\n",
       " 4\n",
       " 6\n",
       " 3\n",
       " 4\n",
       " 6\n",
       " 3\n",
       " 4\n",
       " ⋮\n",
       " 6\n",
       " 3\n",
       " 3\n",
       " 3\n",
       " 3\n",
       " 3\n",
       " 3\n",
       " 3\n",
       " 3\n",
       " 3\n",
       " 3\n",
       " 3"
      ]
     },
     "execution_count": 170,
     "metadata": {},
     "output_type": "execute_result"
    }
   ],
   "source": [
    "t3 = repeat(tmp, 10)\n",
    "for i in 1:10\n",
    "    append!(t3, tmp[2])\n",
    "    append!(t3, tmp[3])\n",
    "end\n",
    "for i in 1:10\n",
    "    append!(t3, tmp[3])\n",
    "end\n",
    "t3"
   ]
  },
  {
   "cell_type": "code",
   "execution_count": 171,
   "id": "5bcd9b86",
   "metadata": {},
   "outputs": [
    {
     "data": {
      "text/plain": [
       "60-element Vector{Int64}:\n",
       " 4\n",
       " 4\n",
       " 4\n",
       " 4\n",
       " 4\n",
       " 4\n",
       " 4\n",
       " 4\n",
       " 4\n",
       " 4\n",
       " 6\n",
       " 6\n",
       " 6\n",
       " ⋮\n",
       " 3\n",
       " 3\n",
       " 3\n",
       " 3\n",
       " 3\n",
       " 3\n",
       " 3\n",
       " 3\n",
       " 3\n",
       " 3\n",
       " 3\n",
       " 3"
      ]
     },
     "execution_count": 171,
     "metadata": {},
     "output_type": "execute_result"
    }
   ],
   "source": [
    "t3 = cat([tmp[1] for i in 1:10], [tmp[2] for i in 1:20], [tmp[3] for i in 1:30], dims=1)"
   ]
  },
  {
   "cell_type": "markdown",
   "id": "c183460c",
   "metadata": {},
   "source": [
    "##### 3.9) массив из элементов вида $2^{tmp[i]}, i = 1, 2, 3$, где элемент $2^{tmp[i]}$ встречается $4$ раза; посчитайте в полученном векторе, сколько раз встречается цифра $6$, и выведите это значение на экран\n"
   ]
  },
  {
   "cell_type": "code",
   "execution_count": 172,
   "id": "aad64f37",
   "metadata": {},
   "outputs": [
    {
     "data": {
      "text/plain": [
       "12-element Vector{Any}:\n",
       " 16\n",
       " 64\n",
       "  8\n",
       " 16\n",
       " 64\n",
       "  8\n",
       " 16\n",
       " 64\n",
       "  8\n",
       " 16\n",
       " 64\n",
       "  8"
      ]
     },
     "execution_count": 172,
     "metadata": {},
     "output_type": "execute_result"
    }
   ],
   "source": [
    "t2 = []\n",
    "tmpsize = size(tmp)[1]\n",
    "for i in 1:4\n",
    "    for j in 1:tmpsize\n",
    "        append!(t2, 2^(tmp[j]))\n",
    "    end\n",
    "end\n",
    "t2"
   ]
  },
  {
   "cell_type": "code",
   "execution_count": 173,
   "id": "18ef09c3",
   "metadata": {},
   "outputs": [
    {
     "data": {
      "text/plain": [
       "12-element Vector{Int64}:\n",
       " 16\n",
       " 64\n",
       "  8\n",
       " 16\n",
       " 64\n",
       "  8\n",
       " 16\n",
       " 64\n",
       "  8\n",
       " 16\n",
       " 64\n",
       "  8"
      ]
     },
     "execution_count": 173,
     "metadata": {},
     "output_type": "execute_result"
    }
   ],
   "source": [
    "t2 = fill(2, 4*tmpsize)\n",
    "for i in 0:3\n",
    "    for j in 1:3\n",
    "        t2[i*tmpsize+j] = t2[i*tmpsize+j]^tmp[j]\n",
    "    end\n",
    "end\n",
    "t2"
   ]
  },
  {
   "cell_type": "code",
   "execution_count": 175,
   "id": "c508c3cd",
   "metadata": {},
   "outputs": [
    {
     "data": {
      "text/plain": [
       "12-element Vector{Int64}:\n",
       " 16\n",
       " 64\n",
       "  8\n",
       " 16\n",
       " 64\n",
       "  8\n",
       " 16\n",
       " 64\n",
       "  8\n",
       " 16\n",
       " 64\n",
       "  8"
      ]
     },
     "execution_count": 175,
     "metadata": {},
     "output_type": "execute_result"
    }
   ],
   "source": [
    "t2 = repeat(fill(2, tmpsize).^tmp,4)"
   ]
  },
  {
   "cell_type": "code",
   "execution_count": 176,
   "id": "465d3f0f",
   "metadata": {},
   "outputs": [
    {
     "data": {
      "text/plain": [
       "8"
      ]
     },
     "execution_count": 176,
     "metadata": {},
     "output_type": "execute_result"
    }
   ],
   "source": [
    "size(findall(isequal(\"6\"), split(join(string.(t2)), \"\")))[1]"
   ]
  },
  {
   "cell_type": "code",
   "execution_count": 177,
   "id": "b281a187",
   "metadata": {},
   "outputs": [
    {
     "data": {
      "text/plain": [
       "8"
      ]
     },
     "execution_count": 177,
     "metadata": {},
     "output_type": "execute_result"
    }
   ],
   "source": [
    "count(\"6\", join(string.(t2)))"
   ]
  },
  {
   "cell_type": "markdown",
   "id": "aee8c8f3",
   "metadata": {},
   "source": [
    "##### 3.10) вектор значений $y = e^{x} \\cdot cos(x)$ в точках $x = 3, 3.1, 3.2, … , 6$, найдите среднее значение $y$"
   ]
  },
  {
   "cell_type": "code",
   "execution_count": 179,
   "id": "1df83e49",
   "metadata": {},
   "outputs": [
    {
     "data": {
      "text/plain": [
       "31-element Vector{Float64}:\n",
       " -19.884530844146987\n",
       " -22.178753389342127\n",
       " -24.490696732801293\n",
       " -26.77318244299338\n",
       " -28.969237768093574\n",
       " -31.011186439374516\n",
       " -32.819774760338504\n",
       " -34.30336011037369\n",
       " -35.35719361853035\n",
       " -35.86283371230767\n",
       " -35.68773248011913\n",
       " -34.68504225166807\n",
       " -32.693695428321746\n",
       "   ⋮\n",
       "  25.046704998273004\n",
       "  42.09920106253839\n",
       "  61.99663027669454\n",
       "  84.92906736250268\n",
       " 111.0615860420258\n",
       " 140.5250750527875\n",
       " 173.40577640857734\n",
       " 209.73349424783467\n",
       " 249.46844055885668\n",
       " 292.4867067371223\n",
       " 338.5643778585117\n",
       " 387.36034029093076"
      ]
     },
     "execution_count": 179,
     "metadata": {},
     "output_type": "execute_result"
    }
   ],
   "source": [
    "t1 = collect(3:0.1:6)\n",
    "t = ones(size(t1)[1])\n",
    "for i in 1:size(t1)[1]\n",
    "    t[i]= exp(t1[i])*cos(t1[i])\n",
    "end\n",
    "t"
   ]
  },
  {
   "cell_type": "code",
   "execution_count": 180,
   "id": "8274d81b",
   "metadata": {},
   "outputs": [
    {
     "data": {
      "text/plain": [
       "31-element Vector{Float64}:\n",
       " -19.884530844146987\n",
       " -22.178753389342127\n",
       " -24.490696732801293\n",
       " -26.77318244299338\n",
       " -28.969237768093574\n",
       " -31.011186439374516\n",
       " -32.819774760338504\n",
       " -34.30336011037369\n",
       " -35.35719361853035\n",
       " -35.86283371230767\n",
       " -35.68773248011913\n",
       " -34.68504225166807\n",
       " -32.693695428321746\n",
       "   ⋮\n",
       "  25.046704998273004\n",
       "  42.09920106253839\n",
       "  61.99663027669454\n",
       "  84.92906736250268\n",
       " 111.0615860420258\n",
       " 140.5250750527875\n",
       " 173.40577640857734\n",
       " 209.73349424783467\n",
       " 249.46844055885668\n",
       " 292.4867067371223\n",
       " 338.5643778585117\n",
       " 387.36034029093076"
      ]
     },
     "execution_count": 180,
     "metadata": {},
     "output_type": "execute_result"
    }
   ],
   "source": [
    "t = [exp(i)*cos(i) for i in 3:0.1:6]"
   ]
  },
  {
   "cell_type": "code",
   "execution_count": 181,
   "id": "6bc6419e",
   "metadata": {},
   "outputs": [
    {
     "data": {
      "text/plain": [
       "53.11374594642971"
      ]
     },
     "execution_count": 181,
     "metadata": {},
     "output_type": "execute_result"
    }
   ],
   "source": [
    "sum(t)/size(t)[1]"
   ]
  },
  {
   "cell_type": "markdown",
   "id": "f95869f9",
   "metadata": {},
   "source": [
    "##### 3.11) вектор вида $(x^i, y^j)$, $x = 0.1, \\quad i = 3, 6, 9, …, 36, \\quad y = 0.2, \\quad j = 1, 4, 7, …, 34$"
   ]
  },
  {
   "cell_type": "code",
   "execution_count": 182,
   "id": "92dc00b1",
   "metadata": {},
   "outputs": [
    {
     "data": {
      "text/plain": [
       "12×2 Matrix{Float64}:\n",
       " 0.001    0.2\n",
       " 1.0e-6   0.0016\n",
       " 1.0e-9   1.28e-5\n",
       " 1.0e-12  1.024e-7\n",
       " 1.0e-15  8.192e-10\n",
       " 1.0e-18  6.5536e-12\n",
       " 1.0e-21  5.24288e-14\n",
       " 1.0e-24  4.1943e-16\n",
       " 1.0e-27  3.35544e-18\n",
       " 1.0e-30  2.68435e-20\n",
       " 1.0e-33  2.14748e-22\n",
       " 1.0e-36  1.71799e-24"
      ]
     },
     "execution_count": 182,
     "metadata": {},
     "output_type": "execute_result"
    }
   ],
   "source": [
    "t1 = collect(3:3:36)\n",
    "t2 = collect(1:3:34)\n",
    "t = zeros(size(t1)[1],2)\n",
    "for i in 1:size(t1)[1]\n",
    "    t[i,1] = 0.1^t1[i]\n",
    "    t[i,2] = 0.2^t2[i]\n",
    "end\n",
    "t"
   ]
  },
  {
   "cell_type": "code",
   "execution_count": 183,
   "id": "e27944e2",
   "metadata": {},
   "outputs": [
    {
     "data": {
      "text/plain": [
       "12×2 Matrix{Float64}:\n",
       " 0.001    0.2\n",
       " 1.0e-6   0.0016\n",
       " 1.0e-9   1.28e-5\n",
       " 1.0e-12  1.024e-7\n",
       " 1.0e-15  8.192e-10\n",
       " 1.0e-18  6.5536e-12\n",
       " 1.0e-21  5.24288e-14\n",
       " 1.0e-24  4.1943e-16\n",
       " 1.0e-27  3.35544e-18\n",
       " 1.0e-30  2.68435e-20\n",
       " 1.0e-33  2.14748e-22\n",
       " 1.0e-36  1.71799e-24"
      ]
     },
     "execution_count": 183,
     "metadata": {},
     "output_type": "execute_result"
    }
   ],
   "source": [
    "t = zeros(size(collect(3:3:36))[1],2)\n",
    "for i in 0:size(collect(3:3:36))[1]-1\n",
    "    t[i+1,1] = 0.1^(3*(i+1))\n",
    "    t[i+1,2] = 0.2^(3*i+1)\n",
    "end\n",
    "t"
   ]
  },
  {
   "cell_type": "code",
   "execution_count": 184,
   "id": "c1d9e9e7",
   "metadata": {},
   "outputs": [
    {
     "data": {
      "text/plain": [
       "12×2 Matrix{Float64}:\n",
       " 0.001    0.2\n",
       " 1.0e-6   0.0016\n",
       " 1.0e-9   1.28e-5\n",
       " 1.0e-12  1.024e-7\n",
       " 1.0e-15  8.192e-10\n",
       " 1.0e-18  6.5536e-12\n",
       " 1.0e-21  5.24288e-14\n",
       " 1.0e-24  4.1943e-16\n",
       " 1.0e-27  3.35544e-18\n",
       " 1.0e-30  2.68435e-20\n",
       " 1.0e-33  2.14748e-22\n",
       " 1.0e-36  1.71799e-24"
      ]
     },
     "execution_count": 184,
     "metadata": {},
     "output_type": "execute_result"
    }
   ],
   "source": [
    "t = hcat(fill(0.1, size(collect(3:3:36))[1]), fill(0.2, size(collect(1:3:34))[1]))\n",
    "t[:, 1] = t[:, 1].^collect(3:3:36)\n",
    "t[:, 2] = t[:, 2].^collect(1:3:34)\n",
    "t"
   ]
  },
  {
   "cell_type": "markdown",
   "id": "f56e7231",
   "metadata": {},
   "source": [
    "##### 3.12) вектор с элементами $\\frac{2^i}{i}$, $i = 1, 2, …, M$, $M = 25$"
   ]
  },
  {
   "cell_type": "code",
   "execution_count": 185,
   "id": "b24b32dd",
   "metadata": {},
   "outputs": [
    {
     "data": {
      "text/plain": [
       "25-element Vector{Float64}:\n",
       "      2.0\n",
       "      2.0\n",
       "      2.6666666666666665\n",
       "      4.0\n",
       "      6.4\n",
       "     10.666666666666666\n",
       "     18.285714285714285\n",
       "     32.0\n",
       "     56.888888888888886\n",
       "    102.4\n",
       "    186.1818181818182\n",
       "    341.3333333333333\n",
       "    630.1538461538462\n",
       "   1170.2857142857142\n",
       "   2184.5333333333333\n",
       "   4096.0\n",
       "   7710.117647058823\n",
       "  14563.555555555555\n",
       "  27594.105263157893\n",
       "  52428.8\n",
       "  99864.38095238095\n",
       " 190650.18181818182\n",
       " 364722.0869565217\n",
       " 699050.6666666666\n",
       "      1.34217728e6"
      ]
     },
     "execution_count": 185,
     "metadata": {},
     "output_type": "execute_result"
    }
   ],
   "source": [
    "M = 25\n",
    "t = [2^i/i for i in 1:M]"
   ]
  },
  {
   "cell_type": "code",
   "execution_count": 186,
   "id": "4be85cb3",
   "metadata": {},
   "outputs": [
    {
     "data": {
      "text/plain": [
       "25-element Vector{Float64}:\n",
       "      2.0\n",
       "      2.0\n",
       "      2.6666666666666665\n",
       "      4.0\n",
       "      6.4\n",
       "     10.666666666666666\n",
       "     18.285714285714285\n",
       "     32.0\n",
       "     56.888888888888886\n",
       "    102.4\n",
       "    186.1818181818182\n",
       "    341.3333333333333\n",
       "    630.1538461538462\n",
       "   1170.2857142857142\n",
       "   2184.5333333333333\n",
       "   4096.0\n",
       "   7710.117647058823\n",
       "  14563.555555555555\n",
       "  27594.105263157893\n",
       "  52428.8\n",
       "  99864.38095238095\n",
       " 190650.18181818182\n",
       " 364722.0869565217\n",
       " 699050.6666666666\n",
       "      1.34217728e6"
      ]
     },
     "execution_count": 186,
     "metadata": {},
     "output_type": "execute_result"
    }
   ],
   "source": [
    "t = zeros(M)\n",
    "for i in 1:M\n",
    "    t[i] = 2^i/i\n",
    "end\n",
    "t"
   ]
  },
  {
   "cell_type": "code",
   "execution_count": 187,
   "id": "94096f13",
   "metadata": {},
   "outputs": [
    {
     "data": {
      "text/plain": [
       "25-element Vector{Float64}:\n",
       "      2.0\n",
       "      2.0\n",
       "      2.6666666666666665\n",
       "      4.0\n",
       "      6.4\n",
       "     10.666666666666666\n",
       "     18.285714285714285\n",
       "     32.0\n",
       "     56.888888888888886\n",
       "    102.4\n",
       "    186.1818181818182\n",
       "    341.3333333333333\n",
       "    630.1538461538462\n",
       "   1170.2857142857142\n",
       "   2184.5333333333333\n",
       "   4096.0\n",
       "   7710.117647058823\n",
       "  14563.555555555555\n",
       "  27594.105263157893\n",
       "  52428.8\n",
       "  99864.38095238095\n",
       " 190650.18181818182\n",
       " 364722.0869565217\n",
       " 699050.6666666666\n",
       "      1.34217728e6"
      ]
     },
     "execution_count": 187,
     "metadata": {},
     "output_type": "execute_result"
    }
   ],
   "source": [
    "t = fill(2, M).^collect(1:M)./collect(1:M)\n",
    "t"
   ]
  },
  {
   "cell_type": "markdown",
   "id": "bc99744e",
   "metadata": {},
   "source": [
    "##### 3.13) вектор вида (\"fn1\", \"fn2\", …, \"fnN\"), $N$ = 30"
   ]
  },
  {
   "cell_type": "code",
   "execution_count": 188,
   "id": "1ef7d5d6",
   "metadata": {},
   "outputs": [
    {
     "data": {
      "text/plain": [
       "30-element Vector{String}:\n",
       " \"fn1\"\n",
       " \"fn2\"\n",
       " \"fn3\"\n",
       " \"fn4\"\n",
       " \"fn5\"\n",
       " \"fn6\"\n",
       " \"fn7\"\n",
       " \"fn8\"\n",
       " \"fn9\"\n",
       " \"fn10\"\n",
       " \"fn11\"\n",
       " \"fn12\"\n",
       " \"fn13\"\n",
       " ⋮\n",
       " \"fn19\"\n",
       " \"fn20\"\n",
       " \"fn21\"\n",
       " \"fn22\"\n",
       " \"fn23\"\n",
       " \"fn24\"\n",
       " \"fn25\"\n",
       " \"fn26\"\n",
       " \"fn27\"\n",
       " \"fn28\"\n",
       " \"fn29\"\n",
       " \"fn30\""
      ]
     },
     "execution_count": 188,
     "metadata": {},
     "output_type": "execute_result"
    }
   ],
   "source": [
    "N = 30\n",
    "t = [join([\"fn\", string(i)]) for i in 1:N]"
   ]
  },
  {
   "cell_type": "code",
   "execution_count": 189,
   "id": "fd76d51a",
   "metadata": {},
   "outputs": [
    {
     "data": {
      "text/plain": [
       "30-element Vector{String}:\n",
       " \"fn1\"\n",
       " \"fn2\"\n",
       " \"fn3\"\n",
       " \"fn4\"\n",
       " \"fn5\"\n",
       " \"fn6\"\n",
       " \"fn7\"\n",
       " \"fn8\"\n",
       " \"fn9\"\n",
       " \"fn10\"\n",
       " \"fn11\"\n",
       " \"fn12\"\n",
       " \"fn13\"\n",
       " ⋮\n",
       " \"fn19\"\n",
       " \"fn20\"\n",
       " \"fn21\"\n",
       " \"fn22\"\n",
       " \"fn23\"\n",
       " \"fn24\"\n",
       " \"fn25\"\n",
       " \"fn26\"\n",
       " \"fn27\"\n",
       " \"fn28\"\n",
       " \"fn29\"\n",
       " \"fn30\""
      ]
     },
     "execution_count": 189,
     "metadata": {},
     "output_type": "execute_result"
    }
   ],
   "source": [
    "t1 = string.(collect(1:N))\n",
    "t2 = fill(\"fn\", N)\n",
    "t = join.([t2[i], t1[i]] for i in 1:N)"
   ]
  },
  {
   "cell_type": "markdown",
   "id": "55ee3925",
   "metadata": {},
   "source": [
    "##### 3.14) векторы $x = (x_1, x_2, … , x_n)$ и $y = (y_1, y_2, …, y_n)$ целочисленного типа длины $n = 250$ как случайные выборки из совокупности $0, 1, … , 999$ и на их основе:"
   ]
  },
  {
   "cell_type": "code",
   "execution_count": 190,
   "id": "de18ec82",
   "metadata": {},
   "outputs": [
    {
     "data": {
      "text/plain": [
       "([503, 188, 795, 134, 497, 117, 857, 212, 469, 367  …  204, 223, 297, 573, 613, 586, 727, 846, 322, 310], [249, 380, 695, 565, 579, 516, 460, 569, 616, 625  …  987, 561, 15, 584, 621, 246, 748, 406, 460, 74])"
      ]
     },
     "execution_count": 190,
     "metadata": {},
     "output_type": "execute_result"
    }
   ],
   "source": [
    "n = 250 \n",
    "x, y = rand(0:999, n), rand(0:999, n)"
   ]
  },
  {
   "cell_type": "markdown",
   "id": "214cc0e8",
   "metadata": {},
   "source": [
    "##### - сформируйте вектор $(y_2 − x_1, …, y_n − x_{n−1})$;"
   ]
  },
  {
   "cell_type": "code",
   "execution_count": 191,
   "id": "205ddd8f",
   "metadata": {},
   "outputs": [
    {
     "data": {
      "text/plain": [
       "249-element Vector{Int64}:\n",
       " -123\n",
       "  507\n",
       " -230\n",
       "  445\n",
       "   19\n",
       "  343\n",
       " -288\n",
       "  404\n",
       "  156\n",
       "  622\n",
       " -183\n",
       "  550\n",
       "  409\n",
       "    ⋮\n",
       " -486\n",
       " -339\n",
       "   -7\n",
       "  357\n",
       " -208\n",
       "  287\n",
       "   48\n",
       " -367\n",
       "  162\n",
       " -321\n",
       " -386\n",
       " -248"
      ]
     },
     "execution_count": 191,
     "metadata": {},
     "output_type": "execute_result"
    }
   ],
   "source": [
    "t = zeros(Int64,n-1)\n",
    "for i in 1:n-1\n",
    "    t[i] = y[i+1]-x[i]\n",
    "end\n",
    "t"
   ]
  },
  {
   "cell_type": "code",
   "execution_count": 192,
   "id": "f206dc9b",
   "metadata": {},
   "outputs": [
    {
     "data": {
      "text/plain": [
       "249-element Vector{Int64}:\n",
       " -123\n",
       "  507\n",
       " -230\n",
       "  445\n",
       "   19\n",
       "  343\n",
       " -288\n",
       "  404\n",
       "  156\n",
       "  622\n",
       " -183\n",
       "  550\n",
       "  409\n",
       "    ⋮\n",
       " -486\n",
       " -339\n",
       "   -7\n",
       "  357\n",
       " -208\n",
       "  287\n",
       "   48\n",
       " -367\n",
       "  162\n",
       " -321\n",
       " -386\n",
       " -248"
      ]
     },
     "execution_count": 192,
     "metadata": {},
     "output_type": "execute_result"
    }
   ],
   "source": [
    "t = [y[i+1]-x[i] for i in 1:n-1]"
   ]
  },
  {
   "cell_type": "markdown",
   "id": "ff0a08a0",
   "metadata": {},
   "source": [
    "##### - сформируйте вектор $(x_1 + 2x_2 − x_3, x_2 + 2x_3 − x_4, …, x_{n−2} + 2x_{n−1} − x_n)$;"
   ]
  },
  {
   "cell_type": "code",
   "execution_count": 194,
   "id": "46c3fb78",
   "metadata": {},
   "outputs": [
    {
     "data": {
      "text/plain": [
       "248-element Vector{Int64}:\n",
       "   84\n",
       " 1644\n",
       "  566\n",
       " 1011\n",
       " -126\n",
       " 1619\n",
       "  812\n",
       "  783\n",
       " 1016\n",
       "  394\n",
       "  801\n",
       "  470\n",
       "  -22\n",
       "    ⋮\n",
       " 1044\n",
       " 1733\n",
       " 2780\n",
       " 1179\n",
       "  353\n",
       "  244\n",
       "  830\n",
       " 1213\n",
       " 1058\n",
       " 1194\n",
       " 2097\n",
       " 1180"
      ]
     },
     "execution_count": 194,
     "metadata": {},
     "output_type": "execute_result"
    }
   ],
   "source": [
    "t = zeros(Int64, n-2)\n",
    "for i in 1:n-2\n",
    "    t[i] += x[i]\n",
    "    t[i] += 2*x[i+1]\n",
    "    t[i] -= x[i+2]\n",
    "end\n",
    "t"
   ]
  },
  {
   "cell_type": "code",
   "execution_count": 195,
   "id": "3861444c",
   "metadata": {},
   "outputs": [
    {
     "data": {
      "text/plain": [
       "248-element Vector{Int64}:\n",
       "   84\n",
       " 1644\n",
       "  566\n",
       " 1011\n",
       " -126\n",
       " 1619\n",
       "  812\n",
       "  783\n",
       " 1016\n",
       "  394\n",
       "  801\n",
       "  470\n",
       "  -22\n",
       "    ⋮\n",
       " 1044\n",
       " 1733\n",
       " 2780\n",
       " 1179\n",
       "  353\n",
       "  244\n",
       "  830\n",
       " 1213\n",
       " 1058\n",
       " 1194\n",
       " 2097\n",
       " 1180"
      ]
     },
     "execution_count": 195,
     "metadata": {},
     "output_type": "execute_result"
    }
   ],
   "source": [
    "t = [x[i-2]+2*x[i-1]-x[i] for i in 3:n]"
   ]
  },
  {
   "cell_type": "markdown",
   "id": "35e6e0b7",
   "metadata": {},
   "source": [
    "##### - сформируйте вектор $(\\frac{sin(y_1)}{cos(x_2)}, \\frac{sin(y_2)}{cos(x_3)}, … , \\frac{sin(y_{n-1})}{cos(x_n)})$;"
   ]
  },
  {
   "cell_type": "code",
   "execution_count": 196,
   "id": "b1588dc3",
   "metadata": {},
   "outputs": [
    {
     "data": {
      "text/plain": [
       "249-element Vector{Float64}:\n",
       "  -0.8266008568576301\n",
       "  -0.13442344345843818\n",
       "   1.402098237625552\n",
       "  -0.5781166755611429\n",
       "  -1.1208973195230876\n",
       "  -0.8855938371941715\n",
       " -16.88709755854497\n",
       "   0.5863265950096858\n",
       "  -0.2906969009595933\n",
       "   2.341696000323015\n",
       "   3.891058431044566\n",
       "   6.855887229247249\n",
       "  -1.3027804851186098\n",
       "   ⋮\n",
       "  -0.035603875075865606\n",
       "  -2.35376096814028\n",
       "   0.40432551126998334\n",
       "  -0.5147810080712839\n",
       "  -8.17577910136683\n",
       "   1.946336969079768\n",
       "   0.35663725304408617\n",
       "   9.264040747089897\n",
       "  -2.968898721945723\n",
       "  -0.48396061322777983\n",
       " -50.597984989853614\n",
       "  -1.8474291602292727"
      ]
     },
     "execution_count": 196,
     "metadata": {},
     "output_type": "execute_result"
    }
   ],
   "source": [
    "t = zeros(n-1)\n",
    "for i in 1:n-1\n",
    "    t[i] = sin(y[i])/cos(x[i+1])\n",
    "end\n",
    "t"
   ]
  },
  {
   "cell_type": "code",
   "execution_count": 197,
   "id": "b712bfa2",
   "metadata": {},
   "outputs": [
    {
     "data": {
      "text/plain": [
       "249-element Vector{Float64}:\n",
       "  -0.8266008568576301\n",
       "  -0.13442344345843818\n",
       "   1.402098237625552\n",
       "  -0.5781166755611429\n",
       "  -1.1208973195230876\n",
       "  -0.8855938371941715\n",
       " -16.88709755854497\n",
       "   0.5863265950096858\n",
       "  -0.2906969009595933\n",
       "   2.341696000323015\n",
       "   3.891058431044566\n",
       "   6.855887229247249\n",
       "  -1.3027804851186098\n",
       "   ⋮\n",
       "  -0.035603875075865606\n",
       "  -2.35376096814028\n",
       "   0.40432551126998334\n",
       "  -0.5147810080712839\n",
       "  -8.17577910136683\n",
       "   1.946336969079768\n",
       "   0.35663725304408617\n",
       "   9.264040747089897\n",
       "  -2.968898721945723\n",
       "  -0.48396061322777983\n",
       " -50.597984989853614\n",
       "  -1.8474291602292727"
      ]
     },
     "execution_count": 197,
     "metadata": {},
     "output_type": "execute_result"
    }
   ],
   "source": [
    "t = [sin(y[i-1])/cos(x[i]) for i in 2:n]"
   ]
  },
  {
   "cell_type": "markdown",
   "id": "ed0d0eda",
   "metadata": {},
   "source": [
    "##### - вычислите $\\sum_{i=1}^{n-1} \\frac{e^{-x_{i+1}}}{x_i+10}$;"
   ]
  },
  {
   "cell_type": "code",
   "execution_count": 198,
   "id": "f109d9d3",
   "metadata": {},
   "outputs": [
    {
     "data": {
      "text/plain": [
       "0.0004852622754867377"
      ]
     },
     "execution_count": 198,
     "metadata": {},
     "output_type": "execute_result"
    }
   ],
   "source": [
    "summ = 0\n",
    "for i in 1:n-1\n",
    "    summ += exp(-x[i+1])/(x[i]+10)\n",
    "end\n",
    "summ"
   ]
  },
  {
   "cell_type": "code",
   "execution_count": 199,
   "id": "8e7ade73",
   "metadata": {},
   "outputs": [
    {
     "data": {
      "text/plain": [
       "0.00048526227548673773"
      ]
     },
     "execution_count": 199,
     "metadata": {},
     "output_type": "execute_result"
    }
   ],
   "source": [
    "sum([exp(-x[i])/(x[i-1]+10) for i in 2:n])"
   ]
  },
  {
   "cell_type": "markdown",
   "id": "9934976b",
   "metadata": {},
   "source": [
    "##### - выберите элементы вектора 𝑦, значения которых больше 600, и выведите на экран; определите индексы этих элементов;"
   ]
  },
  {
   "cell_type": "code",
   "execution_count": 200,
   "id": "acd0b484",
   "metadata": {},
   "outputs": [
    {
     "data": {
      "text/plain": [
       "90-element Vector{Any}:\n",
       " 695\n",
       " 616\n",
       " 625\n",
       " 989\n",
       " 897\n",
       " 601\n",
       " 949\n",
       " 939\n",
       " 764\n",
       " 601\n",
       " 868\n",
       " 628\n",
       " 636\n",
       "   ⋮\n",
       " 918\n",
       " 877\n",
       " 638\n",
       " 823\n",
       " 917\n",
       " 992\n",
       " 859\n",
       " 666\n",
       " 657\n",
       " 987\n",
       " 621\n",
       " 748"
      ]
     },
     "execution_count": 200,
     "metadata": {},
     "output_type": "execute_result"
    }
   ],
   "source": [
    "t = []\n",
    "ind = []\n",
    "for i in 1:n\n",
    "    if y[i] > 600\n",
    "        append!(t, y[i]); append!(ind, i)\n",
    "    end\n",
    "end\n",
    "t"
   ]
  },
  {
   "cell_type": "code",
   "execution_count": 201,
   "id": "0ac1294d",
   "metadata": {},
   "outputs": [
    {
     "data": {
      "text/plain": [
       "90-element Vector{Any}:\n",
       "   3\n",
       "   9\n",
       "  10\n",
       "  11\n",
       "  13\n",
       "  16\n",
       "  24\n",
       "  26\n",
       "  27\n",
       "  33\n",
       "  34\n",
       "  42\n",
       "  43\n",
       "   ⋮\n",
       " 221\n",
       " 222\n",
       " 223\n",
       " 224\n",
       " 225\n",
       " 226\n",
       " 235\n",
       " 237\n",
       " 240\n",
       " 241\n",
       " 245\n",
       " 247"
      ]
     },
     "execution_count": 201,
     "metadata": {},
     "output_type": "execute_result"
    }
   ],
   "source": [
    "ind"
   ]
  },
  {
   "cell_type": "code",
   "execution_count": 202,
   "id": "56724e6c",
   "metadata": {},
   "outputs": [
    {
     "data": {
      "text/plain": [
       "90-element Vector{Int64}:\n",
       " 695\n",
       " 616\n",
       " 625\n",
       " 989\n",
       " 897\n",
       " 601\n",
       " 949\n",
       " 939\n",
       " 764\n",
       " 601\n",
       " 868\n",
       " 628\n",
       " 636\n",
       "   ⋮\n",
       " 918\n",
       " 877\n",
       " 638\n",
       " 823\n",
       " 917\n",
       " 992\n",
       " 859\n",
       " 666\n",
       " 657\n",
       " 987\n",
       " 621\n",
       " 748"
      ]
     },
     "execution_count": 202,
     "metadata": {},
     "output_type": "execute_result"
    }
   ],
   "source": [
    "t = y[findall(x->x>600, y)]"
   ]
  },
  {
   "cell_type": "code",
   "execution_count": 203,
   "id": "be71f78d",
   "metadata": {},
   "outputs": [
    {
     "data": {
      "text/plain": [
       "90-element Vector{Int64}:\n",
       "   3\n",
       "   9\n",
       "  10\n",
       "  11\n",
       "  13\n",
       "  16\n",
       "  24\n",
       "  26\n",
       "  27\n",
       "  33\n",
       "  34\n",
       "  42\n",
       "  43\n",
       "   ⋮\n",
       " 221\n",
       " 222\n",
       " 223\n",
       " 224\n",
       " 225\n",
       " 226\n",
       " 235\n",
       " 237\n",
       " 240\n",
       " 241\n",
       " 245\n",
       " 247"
      ]
     },
     "execution_count": 203,
     "metadata": {},
     "output_type": "execute_result"
    }
   ],
   "source": [
    "findall(x->x>600, y)"
   ]
  },
  {
   "cell_type": "markdown",
   "id": "d57f6e2d",
   "metadata": {},
   "source": [
    "##### - определите значения вектора 𝑥, соответствующие значениям вектора 𝑦, значения которых больше 600 (под соответствием понимается расположение на аналогичных индексных позициях);"
   ]
  },
  {
   "cell_type": "code",
   "execution_count": 204,
   "id": "798228fa",
   "metadata": {},
   "outputs": [
    {
     "data": {
      "text/plain": [
       "90×3 Matrix{Any}:\n",
       "   3  695  795\n",
       "   9  616  469\n",
       "  10  625  367\n",
       "  11  989  187\n",
       "  13  897   80\n",
       "  16  601  678\n",
       "  24  949  240\n",
       "  26  939  783\n",
       "  27  764   90\n",
       "  33  601   16\n",
       "  34  868  872\n",
       "  42  628  354\n",
       "  43  636  697\n",
       "   ⋮       \n",
       " 221  918  169\n",
       " 222  877  990\n",
       " 223  638   24\n",
       " 224  823  791\n",
       " 225  917  908\n",
       " 226  992  890\n",
       " 235  859  920\n",
       " 237  666  570\n",
       " 240  657  994\n",
       " 241  987  204\n",
       " 245  621  613\n",
       " 247  748  727"
      ]
     },
     "execution_count": 204,
     "metadata": {},
     "output_type": "execute_result"
    }
   ],
   "source": [
    "hcat(ind, y[ind], x[ind])"
   ]
  },
  {
   "cell_type": "code",
   "execution_count": 206,
   "id": "d8845a33",
   "metadata": {},
   "outputs": [
    {
     "data": {
      "text/plain": [
       "90×3 Matrix{Int64}:\n",
       "   3  695  795\n",
       "   9  616  469\n",
       "  10  625  367\n",
       "  11  989  187\n",
       "  13  897   80\n",
       "  16  601  678\n",
       "  24  949  240\n",
       "  26  939  783\n",
       "  27  764   90\n",
       "  33  601   16\n",
       "  34  868  872\n",
       "  42  628  354\n",
       "  43  636  697\n",
       "   ⋮       \n",
       " 221  918  169\n",
       " 222  877  990\n",
       " 223  638   24\n",
       " 224  823  791\n",
       " 225  917  908\n",
       " 226  992  890\n",
       " 235  859  920\n",
       " 237  666  570\n",
       " 240  657  994\n",
       " 241  987  204\n",
       " 245  621  613\n",
       " 247  748  727"
      ]
     },
     "execution_count": 206,
     "metadata": {},
     "output_type": "execute_result"
    }
   ],
   "source": [
    "hcat(findall(temp->temp>600, y), y[findall(temp->temp>600, y)], x[findall(temp->temp>600, y)])"
   ]
  },
  {
   "cell_type": "markdown",
   "id": "57a59773",
   "metadata": {},
   "source": [
    "##### - сформируйте вектор $(|x_1 - \\overline{x}|^{\\frac{1}{2}}, |x_2 - \\overline{x}|^{\\frac{1}{2}}, \\dots, |x_n - \\overline{x}|^{\\frac{1}{2}})$"
   ]
  },
  {
   "cell_type": "code",
   "execution_count": 207,
   "id": "d1c74407",
   "metadata": {},
   "outputs": [
    {
     "data": {
      "text/plain": [
       "250-element Vector{Float64}:\n",
       "  4.558947246898125\n",
       " 17.15272573091519\n",
       " 17.685700438489846\n",
       " 18.660546615788082\n",
       "  3.844996749023332\n",
       " 19.1106253168231\n",
       " 19.359338831685342\n",
       " 16.43824808183646\n",
       "  3.6353816856005654\n",
       " 10.733871622112872\n",
       " 17.181850889819756\n",
       " 11.628241483560616\n",
       " 20.055323482806255\n",
       "  ⋮\n",
       " 22.666803921153065\n",
       " 22.622643523691035\n",
       " 16.679808152373937\n",
       " 16.10018633432545\n",
       " 13.609408510291695\n",
       "  9.528063811709071\n",
       " 11.436083245587188\n",
       " 10.187443251375685\n",
       " 15.64557445413878\n",
       " 19.073122450191526\n",
       " 12.657645910673912\n",
       " 13.12310938764133"
      ]
     },
     "execution_count": 207,
     "metadata": {},
     "output_type": "execute_result"
    }
   ],
   "source": [
    "x_mean = 0\n",
    "for i in x\n",
    "    x_mean += i/n\n",
    "end\n",
    "t = [abs(i-x_mean)^(1/2) for i in x]"
   ]
  },
  {
   "cell_type": "code",
   "execution_count": 208,
   "id": "609b6cc8",
   "metadata": {},
   "outputs": [
    {
     "data": {
      "text/plain": [
       "250-element Vector{Float64}:\n",
       "  4.558947246898125\n",
       " 17.15272573091519\n",
       " 17.685700438489846\n",
       " 18.660546615788082\n",
       "  3.844996749023332\n",
       " 19.1106253168231\n",
       " 19.359338831685342\n",
       " 16.43824808183646\n",
       "  3.6353816856005654\n",
       " 10.733871622112872\n",
       " 17.181850889819756\n",
       " 11.628241483560616\n",
       " 20.055323482806255\n",
       "  ⋮\n",
       " 22.666803921153065\n",
       " 22.622643523691035\n",
       " 16.679808152373937\n",
       " 16.10018633432545\n",
       " 13.609408510291695\n",
       "  9.528063811709071\n",
       " 11.436083245587188\n",
       " 10.187443251375685\n",
       " 15.64557445413878\n",
       " 19.073122450191526\n",
       " 12.657645910673912\n",
       " 13.12310938764133"
      ]
     },
     "execution_count": 208,
     "metadata": {},
     "output_type": "execute_result"
    }
   ],
   "source": [
    "t = abs.(x.-sum(x)/size(x)[1]).^(1/2)"
   ]
  },
  {
   "cell_type": "markdown",
   "id": "9e4e9774",
   "metadata": {},
   "source": [
    "##### - определите, сколько элементов вектора 𝑦 отстоят от максимального значения не более, чем на 200;"
   ]
  },
  {
   "cell_type": "code",
   "execution_count": 209,
   "id": "544ecd8d",
   "metadata": {},
   "outputs": [
    {
     "data": {
      "text/plain": [
       "53"
      ]
     },
     "execution_count": 209,
     "metadata": {},
     "output_type": "execute_result"
    }
   ],
   "source": [
    "# максимальное значение включено\n",
    "ymax = 0\n",
    "for i in y\n",
    "    if i > ymax\n",
    "        ymax = i\n",
    "    end\n",
    "end\n",
    "counte = 0\n",
    "for i in y\n",
    "    if ymax-i <= 200\n",
    "        counte += 1\n",
    "    end\n",
    "end\n",
    "counte"
   ]
  },
  {
   "cell_type": "code",
   "execution_count": 210,
   "id": "b9812fcf",
   "metadata": {},
   "outputs": [
    {
     "data": {
      "text/plain": [
       "53"
      ]
     },
     "execution_count": 210,
     "metadata": {},
     "output_type": "execute_result"
    }
   ],
   "source": [
    "ymax = maximum(y)\n",
    "size(findall(x-> ymax-x<=200, y))[1]"
   ]
  },
  {
   "cell_type": "code",
   "execution_count": 211,
   "id": "b1347078",
   "metadata": {},
   "outputs": [
    {
     "data": {
      "text/plain": [
       "52"
      ]
     },
     "execution_count": 211,
     "metadata": {},
     "output_type": "execute_result"
    }
   ],
   "source": [
    "# без включения максимального значения\n",
    "ymax = 0\n",
    "for i in y\n",
    "    if i > ymax\n",
    "        ymax = i\n",
    "    end\n",
    "end\n",
    "counte = 0\n",
    "for i in y\n",
    "    if 0<ymax-i <= 200\n",
    "        counte += 1\n",
    "    end\n",
    "end\n",
    "counte"
   ]
  },
  {
   "cell_type": "code",
   "execution_count": 212,
   "id": "ef23bfd2",
   "metadata": {},
   "outputs": [
    {
     "data": {
      "text/plain": [
       "52"
      ]
     },
     "execution_count": 212,
     "metadata": {},
     "output_type": "execute_result"
    }
   ],
   "source": [
    "ymax = maximum(y)\n",
    "size(findall(x-> 0<ymax-x<=200, y))[1]"
   ]
  },
  {
   "cell_type": "markdown",
   "id": "2fbbcfb2",
   "metadata": {},
   "source": [
    "##### - определите, сколько чётных и нечётных элементов вектора 𝑥;"
   ]
  },
  {
   "cell_type": "code",
   "execution_count": 213,
   "id": "d7698afb",
   "metadata": {},
   "outputs": [
    {
     "data": {
      "text/plain": [
       "(130, 120)"
      ]
     },
     "execution_count": 213,
     "metadata": {},
     "output_type": "execute_result"
    }
   ],
   "source": [
    "counte = [0,0]\n",
    "for i in x\n",
    "    if i%2 == 0\n",
    "        counte[1] += 1\n",
    "    else\n",
    "        counte[2] += 1\n",
    "    end\n",
    "end\n",
    "counte[1], counte[2]"
   ]
  },
  {
   "cell_type": "code",
   "execution_count": 214,
   "id": "fb3f080f",
   "metadata": {},
   "outputs": [
    {
     "data": {
      "text/plain": [
       "(130, 120)"
      ]
     },
     "execution_count": 214,
     "metadata": {},
     "output_type": "execute_result"
    }
   ],
   "source": [
    "size(findall(iseven, x))[1], size(findall(isodd, x))[1]"
   ]
  },
  {
   "cell_type": "markdown",
   "id": "0087f04c",
   "metadata": {},
   "source": [
    "##### - определите, сколько элементов вектора 𝑥 кратны 7;"
   ]
  },
  {
   "cell_type": "code",
   "execution_count": 215,
   "id": "23f03626",
   "metadata": {},
   "outputs": [
    {
     "data": {
      "text/plain": [
       "30"
      ]
     },
     "execution_count": 215,
     "metadata": {},
     "output_type": "execute_result"
    }
   ],
   "source": [
    "counte = 0\n",
    "for i in x\n",
    "    if i % 7 == 0\n",
    "        counte += 1\n",
    "    end\n",
    "end\n",
    "counte"
   ]
  },
  {
   "cell_type": "code",
   "execution_count": 217,
   "id": "c930e474",
   "metadata": {},
   "outputs": [
    {
     "data": {
      "text/plain": [
       "30"
      ]
     },
     "execution_count": 217,
     "metadata": {},
     "output_type": "execute_result"
    }
   ],
   "source": [
    "size(findall(x->x%7 == 0, x))[1]"
   ]
  },
  {
   "cell_type": "markdown",
   "id": "27433ba9",
   "metadata": {},
   "source": [
    "##### - отсортируйте элементы вектора 𝑥 в порядке возрастания элементов вектора 𝑦;\n"
   ]
  },
  {
   "cell_type": "code",
   "execution_count": 220,
   "id": "c39135e6",
   "metadata": {},
   "outputs": [
    {
     "data": {
      "text/plain": [
       "250×3 Matrix{Int64}:\n",
       "   3    3  634\n",
       "   4    4  347\n",
       "   5    5  707\n",
       "  15   15  297\n",
       "  26   26  136\n",
       "  28   28  176\n",
       "  32   32   90\n",
       "  40   40  200\n",
       "  41   41  411\n",
       "  43   43   58\n",
       "  44   44  333\n",
       "  48   48  906\n",
       "  53   53  626\n",
       "   ⋮       \n",
       " 953  953  216\n",
       " 955  955  577\n",
       " 962  962  238\n",
       " 965  965  622\n",
       " 974  974  608\n",
       " 974  974  576\n",
       " 976  976  747\n",
       " 978  978  573\n",
       " 987  987  204\n",
       " 989  989  187\n",
       " 992  992  890\n",
       " 999  999  220"
      ]
     },
     "execution_count": 220,
     "metadata": {},
     "output_type": "execute_result"
    }
   ],
   "source": [
    "num = trunc(Int, n/2)\n",
    "orde = []\n",
    "yordered = zeros(Int64, 2, num)\n",
    "ycopy = copy(y)\n",
    "for i in 1:num\n",
    "    tm = [-1, 1000]\n",
    "    imm = [0, 0]\n",
    "    for j in 1:size(ycopy)[1]\n",
    "        if ycopy[j]>tm[1]\n",
    "            imm[1] = j\n",
    "            tm[1] = ycopy[j]\n",
    "        end\n",
    "        if ycopy[j]<tm[2]\n",
    "            imm[2] = j\n",
    "            tm[2] = ycopy[j]\n",
    "        end\n",
    "    end\n",
    "    yordered[1, i] = tm[2]; yordered[2, num-i+1] = tm[1]\n",
    "    imm = sort(imm, rev=true)\n",
    "    for k in imm\n",
    "        ycopy = deleteat!(ycopy, k)\n",
    "    end\n",
    "end\n",
    "yordered = vcat(yordered[1, :], yordered[2,:])\n",
    "ycopy = copy(yordered)\n",
    "while size(ycopy)[1]>0\n",
    "    temp = ycopy[1]\n",
    "    if size(ycopy)[1]>1\n",
    "        while ycopy[2] == temp\n",
    "            deleteat!(ycopy,2)\n",
    "        end\n",
    "    end\n",
    "    append!(orde, findall(isequal(temp), y))\n",
    "    deleteat!(ycopy, 1)\n",
    "end\n",
    "hcat(yordered, y[orde], x[orde])"
   ]
  },
  {
   "cell_type": "code",
   "execution_count": 221,
   "id": "024c5255",
   "metadata": {},
   "outputs": [
    {
     "data": {
      "text/plain": [
       "250×3 Matrix{Int64}:\n",
       "   3    3  634\n",
       "   4    4  347\n",
       "   5    5  707\n",
       "  15   15  297\n",
       "  26   26  136\n",
       "  28   28  176\n",
       "  32   32   90\n",
       "  40   40  200\n",
       "  41   41  411\n",
       "  43   43   58\n",
       "  44   44  333\n",
       "  48   48  906\n",
       "  53   53  626\n",
       "   ⋮       \n",
       " 953  953  216\n",
       " 955  955  577\n",
       " 962  962  238\n",
       " 965  965  622\n",
       " 974  974  608\n",
       " 974  974  576\n",
       " 976  976  747\n",
       " 978  978  573\n",
       " 987  987  204\n",
       " 989  989  187\n",
       " 992  992  890\n",
       " 999  999  220"
      ]
     },
     "execution_count": 221,
     "metadata": {},
     "output_type": "execute_result"
    }
   ],
   "source": [
    "orde = sortperm(y)\n",
    "hcat(sort(y), y[orde], x[orde])"
   ]
  },
  {
   "cell_type": "markdown",
   "id": "7f01b2b4",
   "metadata": {},
   "source": [
    "##### - выведите элементы вектора 𝑥, которые входят в десятку наибольших (top-10)"
   ]
  },
  {
   "cell_type": "code",
   "execution_count": 222,
   "id": "8a764c66",
   "metadata": {},
   "outputs": [
    {
     "data": {
      "text/plain": [
       "10-element Vector{Any}:\n",
       " 996\n",
       " 996\n",
       " 994\n",
       " 990\n",
       " 990\n",
       " 986\n",
       " 981\n",
       " 979\n",
       " 965\n",
       " 965"
      ]
     },
     "execution_count": 222,
     "metadata": {},
     "output_type": "execute_result"
    }
   ],
   "source": [
    "# Могут быть повторяющиеся значения\n",
    "t = []\n",
    "xstr = join(x, \"-\")\n",
    "while size(t)[1] < 10\n",
    "    temp = 0\n",
    "    for j in 1:size(x)[1]\n",
    "        if x[j] >= temp && !(x[j] in t)\n",
    "            temp = x[j]\n",
    "        end\n",
    "    end\n",
    "    for j in 1:count(string(temp), xstr)\n",
    "        append!(t, temp)\n",
    "    end\n",
    "end\n",
    "t = t[1:10]"
   ]
  },
  {
   "cell_type": "code",
   "execution_count": 223,
   "id": "b2b48ea4",
   "metadata": {},
   "outputs": [
    {
     "data": {
      "text/plain": [
       "10-element Vector{Int64}:\n",
       " 996\n",
       " 996\n",
       " 994\n",
       " 990\n",
       " 990\n",
       " 986\n",
       " 981\n",
       " 979\n",
       " 965\n",
       " 965"
      ]
     },
     "execution_count": 223,
     "metadata": {},
     "output_type": "execute_result"
    }
   ],
   "source": [
    "t = sort(x, rev=true)[1:10]"
   ]
  },
  {
   "cell_type": "code",
   "execution_count": 224,
   "id": "9a2e78d5",
   "metadata": {},
   "outputs": [
    {
     "data": {
      "text/plain": [
       "10-element Vector{Any}:\n",
       " 996\n",
       " 994\n",
       " 990\n",
       " 986\n",
       " 981\n",
       " 979\n",
       " 965\n",
       " 962\n",
       " 957\n",
       " 956"
      ]
     },
     "execution_count": 224,
     "metadata": {},
     "output_type": "execute_result"
    }
   ],
   "source": [
    "# Без повторяющихся значений\n",
    "t = []\n",
    "xstr = join(x, \"-\")\n",
    "while size(t)[1] < 10\n",
    "    temp = 0\n",
    "    for j in 1:size(x)[1]\n",
    "        if x[j] >= temp && !(x[j] in t)\n",
    "            temp = x[j]\n",
    "        end\n",
    "    end\n",
    "    append!(t, temp)\n",
    "end\n",
    "t"
   ]
  },
  {
   "cell_type": "code",
   "execution_count": 226,
   "id": "06194a44",
   "metadata": {},
   "outputs": [
    {
     "data": {
      "text/plain": [
       "10-element Vector{Int64}:\n",
       " 996\n",
       " 994\n",
       " 990\n",
       " 986\n",
       " 981\n",
       " 979\n",
       " 965\n",
       " 962\n",
       " 957\n",
       " 956"
      ]
     },
     "execution_count": 226,
     "metadata": {},
     "output_type": "execute_result"
    }
   ],
   "source": [
    "t = unique(sort(x, rev=true))[1:10]"
   ]
  },
  {
   "cell_type": "markdown",
   "id": "24829b70",
   "metadata": {},
   "source": [
    "##### - сформируйте вектор, содержащий только уникальные (неповторяющиеся) элементы вектора x"
   ]
  },
  {
   "cell_type": "code",
   "execution_count": 227,
   "id": "7e3ae697",
   "metadata": {},
   "outputs": [
    {
     "data": {
      "text/plain": [
       "220-element Vector{Any}:\n",
       " 503\n",
       " 188\n",
       " 795\n",
       " 134\n",
       " 497\n",
       " 117\n",
       " 857\n",
       " 212\n",
       " 469\n",
       " 367\n",
       " 187\n",
       " 347\n",
       "  80\n",
       "   ⋮\n",
       " 153\n",
       " 570\n",
       " 735\n",
       " 994\n",
       " 204\n",
       " 223\n",
       " 613\n",
       " 586\n",
       " 727\n",
       " 846\n",
       " 322\n",
       " 310"
      ]
     },
     "execution_count": 227,
     "metadata": {},
     "output_type": "execute_result"
    }
   ],
   "source": [
    "x_unique = []\n",
    "for i in x\n",
    "    if !(i in x_unique)\n",
    "        append!(x_unique, i)\n",
    "    end\n",
    "end\n",
    "x_unique"
   ]
  },
  {
   "cell_type": "code",
   "execution_count": 228,
   "id": "f712daf3",
   "metadata": {},
   "outputs": [
    {
     "data": {
      "text/plain": [
       "220-element Vector{Int64}:\n",
       " 503\n",
       " 188\n",
       " 795\n",
       " 134\n",
       " 497\n",
       " 117\n",
       " 857\n",
       " 212\n",
       " 469\n",
       " 367\n",
       " 187\n",
       " 347\n",
       "  80\n",
       "   ⋮\n",
       " 153\n",
       " 570\n",
       " 735\n",
       " 994\n",
       " 204\n",
       " 223\n",
       " 613\n",
       " 586\n",
       " 727\n",
       " 846\n",
       " 322\n",
       " 310"
      ]
     },
     "execution_count": 228,
     "metadata": {},
     "output_type": "execute_result"
    }
   ],
   "source": [
    "unique(x)"
   ]
  },
  {
   "cell_type": "markdown",
   "id": "07dbdbfd",
   "metadata": {},
   "source": [
    "#### 4. Создайте массив squares, в котором будут храниться квадраты всех целых чисел от 1 до 100."
   ]
  },
  {
   "cell_type": "code",
   "execution_count": 229,
   "id": "c811f59c",
   "metadata": {},
   "outputs": [
    {
     "data": {
      "text/plain": [
       "100-element Vector{Int64}:\n",
       "     1\n",
       "     4\n",
       "     9\n",
       "    16\n",
       "    25\n",
       "    36\n",
       "    49\n",
       "    64\n",
       "    81\n",
       "   100\n",
       "   121\n",
       "   144\n",
       "   169\n",
       "     ⋮\n",
       "  7921\n",
       "  8100\n",
       "  8281\n",
       "  8464\n",
       "  8649\n",
       "  8836\n",
       "  9025\n",
       "  9216\n",
       "  9409\n",
       "  9604\n",
       "  9801\n",
       " 10000"
      ]
     },
     "execution_count": 229,
     "metadata": {},
     "output_type": "execute_result"
    }
   ],
   "source": [
    "squares = [i^2 for i in 1:100]"
   ]
  },
  {
   "cell_type": "markdown",
   "id": "70d18cea",
   "metadata": {},
   "source": [
    "#### 5. Подключите пакет Primes (функции для вычисления простых чисел). Сгенерируйте массив myprimes, в котором будут храниться первые 168 простых чисел. Определите 89-е наименьшее простое число. Получите срез массива с 89-го до 99-го элемента включительно, содержащий наименьшие простые числа."
   ]
  },
  {
   "cell_type": "code",
   "execution_count": 231,
   "id": "5ff0d73c",
   "metadata": {},
   "outputs": [
    {
     "name": "stderr",
     "output_type": "stream",
     "text": [
      "\u001b[32m\u001b[1m    Updating\u001b[22m\u001b[39m registry at `C:\\Users\\User\\.julia\\registries\\General.toml`\n",
      "\u001b[32m\u001b[1m   Resolving\u001b[22m\u001b[39m package versions...\n",
      "\u001b[32m\u001b[1m   Installed\u001b[22m\u001b[39m IntegerMathUtils ─ v0.1.2\n",
      "\u001b[32m\u001b[1m   Installed\u001b[22m\u001b[39m Primes ─────────── v0.5.6\n",
      "\u001b[32m\u001b[1m    Updating\u001b[22m\u001b[39m `C:\\Users\\User\\.julia\\environments\\v1.10\\Project.toml`\n",
      "  \u001b[90m[27ebfcd6] \u001b[39m\u001b[92m+ Primes v0.5.6\u001b[39m\n",
      "\u001b[32m\u001b[1m    Updating\u001b[22m\u001b[39m `C:\\Users\\User\\.julia\\environments\\v1.10\\Manifest.toml`\n",
      "  \u001b[90m[18e54dd8] \u001b[39m\u001b[92m+ IntegerMathUtils v0.1.2\u001b[39m\n",
      "  \u001b[90m[27ebfcd6] \u001b[39m\u001b[92m+ Primes v0.5.6\u001b[39m\n",
      "\u001b[32m\u001b[1mPrecompiling\u001b[22m\u001b[39m project...\n",
      "\u001b[32m  ✓ \u001b[39m\u001b[90mIntegerMathUtils\u001b[39m\n",
      "\u001b[32m  ✓ \u001b[39mPrimes\n",
      "  2 dependencies successfully precompiled in 26 seconds. 325 already precompiled.\n"
     ]
    }
   ],
   "source": [
    "import Pkg; Pkg.add(\"Primes\")"
   ]
  },
  {
   "cell_type": "code",
   "execution_count": 232,
   "id": "2661aa3e",
   "metadata": {},
   "outputs": [
    {
     "data": {
      "text/plain": [
       "168-element Vector{Int64}:\n",
       "   2\n",
       "   3\n",
       "   5\n",
       "   7\n",
       "  11\n",
       "  13\n",
       "  17\n",
       "  19\n",
       "  23\n",
       "  29\n",
       "  31\n",
       "  37\n",
       "  41\n",
       "   ⋮\n",
       " 919\n",
       " 929\n",
       " 937\n",
       " 941\n",
       " 947\n",
       " 953\n",
       " 967\n",
       " 971\n",
       " 977\n",
       " 983\n",
       " 991\n",
       " 997"
      ]
     },
     "execution_count": 232,
     "metadata": {},
     "output_type": "execute_result"
    }
   ],
   "source": [
    "using Primes\n",
    "myprime = [prime(i) for i in 1:168]"
   ]
  },
  {
   "cell_type": "code",
   "execution_count": 233,
   "id": "3c1ca51b",
   "metadata": {},
   "outputs": [
    {
     "data": {
      "text/plain": [
       "461"
      ]
     },
     "execution_count": 233,
     "metadata": {},
     "output_type": "execute_result"
    }
   ],
   "source": [
    "myprime[89]"
   ]
  },
  {
   "cell_type": "code",
   "execution_count": 234,
   "id": "21661ced",
   "metadata": {},
   "outputs": [
    {
     "data": {
      "text/plain": [
       "11-element Vector{Int64}:\n",
       " 461\n",
       " 463\n",
       " 467\n",
       " 479\n",
       " 487\n",
       " 491\n",
       " 499\n",
       " 503\n",
       " 509\n",
       " 521\n",
       " 523"
      ]
     },
     "execution_count": 234,
     "metadata": {},
     "output_type": "execute_result"
    }
   ],
   "source": [
    "myprime[89:99]"
   ]
  },
  {
   "cell_type": "markdown",
   "id": "0dfd2b3d",
   "metadata": {},
   "source": [
    "#### 6. Вычислите следующие выражения:"
   ]
  },
  {
   "cell_type": "markdown",
   "id": "a5dba65c",
   "metadata": {},
   "source": [
    "- $\\sum_{i=10}^{100} (i^3 + 4i^2)$;"
   ]
  },
  {
   "cell_type": "code",
   "execution_count": 237,
   "id": "89bac0d0",
   "metadata": {},
   "outputs": [
    {
     "name": "stdout",
     "output_type": "stream",
     "text": [
      "[1400, 1815, 2304, 2873, 3528, 4275, 5120, 6069, 7128, 8303, 9600, 11025, 12584, 14283, 16128, 18125, 20280, 22599, 25088, 27753, 30600, 33635, 36864, 40293, 43928, 47775, 51840, 56129, 60648, 65403, 70400, 75645, 81144, 86903, 92928, 99225, 105800, 112659, 119808, 127253, 135000, 143055, 151424, 160113, 169128, 178475, 188160, 198189, 208568, 219303, 230400, 241865, 253704, 265923, 278528, 291525, 304920, 318719, 332928, 347553, 362600, 378075, 393984, 410333, 427128, 444375, 462080, 480249, 498888, 518003, 537600, 557685, 578264, 599343, 620928, 643025, 665640, 688779, 712448, 736653, 761400, 786695, 812544, 838953, 865928, 893475, 921600, 950309, 979608, 1009503, 1040000]"
     ]
    },
    {
     "data": {
      "text/plain": [
       "26852735"
      ]
     },
     "execution_count": 237,
     "metadata": {},
     "output_type": "execute_result"
    }
   ],
   "source": [
    "t = [i^3+4*i^2 for i in 10:100]\n",
    "print(t)\n",
    "sum(t)"
   ]
  },
  {
   "cell_type": "markdown",
   "id": "7637bb75",
   "metadata": {},
   "source": [
    "- $\\sum_{i=1}^{M} (\\frac{2^i}{i} + \\frac{3^i}{i^2})$, $M = 25$;"
   ]
  },
  {
   "cell_type": "code",
   "execution_count": 238,
   "id": "d81c8108",
   "metadata": {},
   "outputs": [
    {
     "name": "stdout",
     "output_type": "stream",
     "text": [
      "[5.0, 4.25, 5.666666666666666, 9.0625, 16.12, 30.916666666666664, 62.91836734693877, 134.515625, 299.8888888888889, 692.89, 1650.206611570248, 4031.8958333333335, 10064.01775147929, 25573.188775510203, 65957.45333333334, 172247.25390625, 454561.89273356396, 1.2103058055555555e6, 3.24715495567867e6, 8.7693898025e6, 2.3819486156462584e7, 6.502755020041322e7, 1.7832914331001893e8, 4.910281070572917e8, 1.3570039523888e9]"
     ]
    },
    {
     "data": {
      "text/plain": [
       "2.1291704368143802e9"
      ]
     },
     "execution_count": 238,
     "metadata": {},
     "output_type": "execute_result"
    }
   ],
   "source": [
    "M = 25\n",
    "t = [2^i/i+3^i/(i^2) for i in 1:M]\n",
    "print(t)\n",
    "sum(t)"
   ]
  },
  {
   "cell_type": "markdown",
   "id": "e17f8930",
   "metadata": {},
   "source": [
    "- $1 + \\frac{2}{3} + (\\frac{2}{3} \\frac{4}{5}) + ... + (\\frac{2}{3} \\frac{4}{5} ... \\frac{38}{39}) = 1 + \\sum_{i=1}^{19} \\prod_{j=1}^{i} \\frac{2j}{2j+1}$"
   ]
  },
  {
   "cell_type": "code",
   "execution_count": 240,
   "id": "95656746",
   "metadata": {},
   "outputs": [
    {
     "name": "stdout",
     "output_type": "stream",
     "text": [
      "[1.0, 0.6666666666666666, 0.5333333333333333, 0.45714285714285713, 0.4063492063492063, 0.36940836940836935, 0.34099234099234094, 0.3182595182595182, 0.2995383701266054, 0.2837731927515209, 0.27026018357287707, 0.25850974080883893, 0.24816935117648536, 0.2389778937255044, 0.23073727670048702, 0.2232941387424068, 0.2165276496896066, 0.2103411454127607, 0.20465624959079418, 0.19940865344744046]"
     ]
    },
    {
     "data": {
      "text/plain": [
       "6.976346137897619"
      ]
     },
     "execution_count": 240,
     "metadata": {},
     "output_type": "execute_result"
    }
   ],
   "source": [
    "t = cat([1], [prod([2j/(2j+1) for j in 1:i]) for i in 1:19], dims=1)\n",
    "print(t)\n",
    "sum(t)"
   ]
  },
  {
   "cell_type": "code",
   "execution_count": null,
   "id": "60b7685e",
   "metadata": {},
   "outputs": [],
   "source": []
  }
 ],
 "metadata": {
  "kernelspec": {
   "display_name": "Julia 1.10.0",
   "language": "julia",
   "name": "julia-1.10"
  },
  "language_info": {
   "file_extension": ".jl",
   "mimetype": "application/julia",
   "name": "julia",
   "version": "1.10.0"
  }
 },
 "nbformat": 4,
 "nbformat_minor": 5
}
