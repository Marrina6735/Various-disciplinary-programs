{
 "cells": [
  {
   "cell_type": "code",
   "execution_count": null,
   "id": "fbce1a30",
   "metadata": {},
   "outputs": [],
   "source": [
    "import math\n",
    "\n",
    "def f(n):\n",
    "    count = 0\n",
    "    for m in range(1, n + 1):\n",
    "        gcd_nm = math.gcd(n, m)\n",
    "        lcm_nm = (n * m) // gcd_nm\n",
    "        if gcd_nm ** 2 == lcm_nm:\n",
    "            count += 1\n",
    "    return count\n",
    "\n",
    "# Поиск минимального n, для которого f(n) > 20\n",
    "n = 1\n",
    "while True:\n",
    "    if f(n) > 20:\n",
    "        break\n",
    "    n += 1"
   ]
  },
  {
   "cell_type": "code",
   "execution_count": null,
   "id": "24d2cafc",
   "metadata": {},
   "outputs": [],
   "source": [
    "n"
   ]
  },
  {
   "cell_type": "code",
   "execution_count": null,
   "id": "d42e7ccb",
   "metadata": {},
   "outputs": [],
   "source": []
  }
 ],
 "metadata": {
  "kernelspec": {
   "display_name": "Python 3 (ipykernel)",
   "language": "python",
   "name": "python3"
  },
  "language_info": {
   "codemirror_mode": {
    "name": "ipython",
    "version": 3
   },
   "file_extension": ".py",
   "mimetype": "text/x-python",
   "name": "python",
   "nbconvert_exporter": "python",
   "pygments_lexer": "ipython3",
   "version": "3.9.12"
  }
 },
 "nbformat": 4,
 "nbformat_minor": 5
}
