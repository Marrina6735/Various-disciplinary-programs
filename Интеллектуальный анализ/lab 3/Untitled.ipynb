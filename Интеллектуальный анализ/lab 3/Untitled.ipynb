{
 "cells": [
  {
   "cell_type": "code",
   "execution_count": 1,
   "id": "0a4a569a",
   "metadata": {},
   "outputs": [],
   "source": [
    "import numpy as np"
   ]
  },
  {
   "cell_type": "code",
   "execution_count": 2,
   "id": "187c5ad3",
   "metadata": {},
   "outputs": [],
   "source": [
    "# Матрица значений критериев для каждого решения из таблицы 3\n",
    "criterion_matrix = np.array([[22, 13, 27],   # X1\n",
    "                             [29, 15, 18],   # X2\n",
    "                             [32, 25, 21],   # X3\n",
    "                             [25, 10, 17]])  # X4"
   ]
  },
  {
   "cell_type": "code",
   "execution_count": 3,
   "id": "e56d51fd",
   "metadata": {},
   "outputs": [],
   "source": [
    "def filter_solutions(criterion_matrix):\n",
    "    filtered = [] # начало с первого решения\n",
    "    \n",
    "    for i in range(len(criterion_matrix)):\n",
    "        candidate_solution = criterion_matrix[i]\n",
    "        dominated = False # Сигнал для недоминирующих решений\n",
    "\n",
    "        for j in range(len(filtered)):  # Проверка доминирования: сравниваем с уже отфильтрованными решениями\n",
    "            existing_solution = filtered[j]\n",
    "            # Если текущее решение хуже или равно по всем критериям, оно доминируется\n",
    "            if (candidate_solution[0] <= existing_solution[0] and\n",
    "                candidate_solution[1] <= existing_solution[1] and\n",
    "                candidate_solution[2] <= existing_solution[2]):\n",
    "                dominated = True\n",
    "                break\n",
    "            # Если текущее решение лучше по всем критериям, то старое удаляем\n",
    "            if (candidate_solution[0] >= existing_solution[0] and\n",
    "                candidate_solution[1] >= existing_solution[1] and\n",
    "                candidate_solution[2] >= existing_solution[2]):\n",
    "                filtered[j] = candidate_solution\n",
    "                dominated = True\n",
    "                break\n",
    "        \n",
    "        if not dominated: # Если решение не доминируется, добавляем его в список\n",
    "            filtered.append(candidate_solution)\n",
    "    \n",
    "    return np.array(filtered)"
   ]
  },
  {
   "cell_type": "code",
   "execution_count": 4,
   "id": "c3427eac",
   "metadata": {},
   "outputs": [],
   "source": [
    "optimal_solutions = filter_solutions(criterion_matrix) # Фильтрация решений"
   ]
  },
  {
   "cell_type": "code",
   "execution_count": 5,
   "id": "ad67b8b4",
   "metadata": {},
   "outputs": [
    {
     "name": "stdout",
     "output_type": "stream",
     "text": [
      "Оптимальные решения:\n",
      "[[22 13 27]\n",
      " [32 25 21]]\n"
     ]
    }
   ],
   "source": [
    "#[22, 13, 27],   # X1\n",
    "#[29, 15, 18],   # X2\n",
    "#[32, 25, 21],   # X3\n",
    "#[25, 10, 17]])  # X4\n",
    "\n",
    "print(f'Оптимальные решения:\\n{optimal_solutions}')"
   ]
  },
  {
   "cell_type": "code",
   "execution_count": null,
   "id": "7d5fc3b3",
   "metadata": {},
   "outputs": [],
   "source": []
  }
 ],
 "metadata": {
  "kernelspec": {
   "display_name": "Python 3 (ipykernel)",
   "language": "python",
   "name": "python3"
  },
  "language_info": {
   "codemirror_mode": {
    "name": "ipython",
    "version": 3
   },
   "file_extension": ".py",
   "mimetype": "text/x-python",
   "name": "python",
   "nbconvert_exporter": "python",
   "pygments_lexer": "ipython3",
   "version": "3.9.12"
  }
 },
 "nbformat": 4,
 "nbformat_minor": 5
}
