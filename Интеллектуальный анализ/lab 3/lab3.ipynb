{
 "cells": [
  {
   "cell_type": "code",
   "execution_count": 11,
   "id": "80bd0115",
   "metadata": {},
   "outputs": [],
   "source": [
    "import numpy as np"
   ]
  },
  {
   "cell_type": "code",
   "execution_count": 12,
   "id": "c5b9c87d",
   "metadata": {},
   "outputs": [],
   "source": [
    "# Матрица значений критериев для каждого решения из таблицы 3\n",
    "criterion_matrix = np.array([[40, 50, 57],   # X1\n",
    "                             [44, 39, 57],   # X2\n",
    "                             [37, 33, 49],   # X3\n",
    "                             [42, 43, 53],   # X4\n",
    "                             [47, 40, 49]])  # X5"
   ]
  },
  {
   "cell_type": "code",
   "execution_count": 13,
   "id": "e7e104ec",
   "metadata": {},
   "outputs": [],
   "source": [
    "def filter_solutions(criterion_matrix):\n",
    "    filtered = [] # начало с первого решения\n",
    "    \n",
    "    for i in range(len(criterion_matrix)):\n",
    "        candidate_solution = criterion_matrix[i]\n",
    "        dominated = False # Сигнал для недоминирующих решений\n",
    "\n",
    "        for j in range(len(filtered)):  # Проверка доминирования: сравниваем с уже отфильтрованными решениями\n",
    "            existing_solution = filtered[j]\n",
    "            # Если текущее решение хуже или равно по всем критериям, оно доминируется\n",
    "            if (candidate_solution[0] <= existing_solution[0] and\n",
    "                candidate_solution[1] <= existing_solution[1] and\n",
    "                candidate_solution[2] <= existing_solution[2]):\n",
    "                dominated = True\n",
    "                break\n",
    "            # Если текущее решение лучше по всем критериям, то старое удаляем\n",
    "            if (candidate_solution[0] >= existing_solution[0] and\n",
    "                candidate_solution[1] >= existing_solution[1] and\n",
    "                candidate_solution[2] >= existing_solution[2]):\n",
    "                filtered[j] = candidate_solution\n",
    "                dominated = True\n",
    "                break\n",
    "        \n",
    "        if not dominated: # Если решение не доминируется, добавляем его в список\n",
    "            filtered.append(candidate_solution)\n",
    "    \n",
    "    return np.array(filtered)"
   ]
  },
  {
   "cell_type": "code",
   "execution_count": 14,
   "id": "263f446b",
   "metadata": {},
   "outputs": [],
   "source": [
    "optimal_solutions = filter_solutions(criterion_matrix) # Фильтрация решений"
   ]
  },
  {
   "cell_type": "code",
   "execution_count": 15,
   "id": "f85db68b",
   "metadata": {},
   "outputs": [
    {
     "name": "stdout",
     "output_type": "stream",
     "text": [
      "Оптимальные решения:\n",
      "[[40 50 57]\n",
      " [44 39 57]\n",
      " [42 43 53]\n",
      " [47 40 49]]\n"
     ]
    }
   ],
   "source": [
    "#[40, 50, 57],   # X1\n",
    "#[44, 39, 57],   # X2\n",
    "#[37, 33, 49],   # X3\n",
    "#[42, 43, 53],   # X4\n",
    "#[47, 40, 49]])  # X5\n",
    "\n",
    "print(f'Оптимальные решения:\\n{optimal_solutions}')"
   ]
  },
  {
   "cell_type": "code",
   "execution_count": null,
   "id": "96107ecb",
   "metadata": {},
   "outputs": [],
   "source": []
  }
 ],
 "metadata": {
  "kernelspec": {
   "display_name": "Python 3 (ipykernel)",
   "language": "python",
   "name": "python3"
  },
  "language_info": {
   "codemirror_mode": {
    "name": "ipython",
    "version": 3
   },
   "file_extension": ".py",
   "mimetype": "text/x-python",
   "name": "python",
   "nbconvert_exporter": "python",
   "pygments_lexer": "ipython3",
   "version": "3.9.12"
  }
 },
 "nbformat": 4,
 "nbformat_minor": 5
}
