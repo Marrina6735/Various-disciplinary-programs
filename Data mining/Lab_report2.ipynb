{
  "cells": [
    {
      "cell_type": "markdown",
      "source": [
        "### РОССИЙСКИЙ УНИВЕРСИТЕТ ДРУЖБЫ НАРОДОВ"
      ],
      "metadata": {}
    },
    {
      "cell_type": "markdown",
      "source": [
        "#### Факультет физико-математических и естественных наук  \n",
        "#### Кафедра математического моделирования и искусственного интеллекта "
      ],
      "metadata": {}
    },
    {
      "cell_type": "markdown",
      "source": [
        "## ОТЧЕТ ПО ЛАБОРАТОРНОЙ РАБОТЕ № 2"
      ],
      "metadata": {}
    },
    {
      "cell_type": "markdown",
      "source": [
        "#### Дисциплина: Интеллектуальный анализ данных"
      ],
      "metadata": {}
    },
    {
      "cell_type": "markdown",
      "source": [
        "##### Студент:  Коняева Марина Александровна\n",
        "##### Группа:   НФИбд-01-21"
      ],
      "metadata": {}
    },
    {
      "cell_type": "markdown",
      "source": [
        "## Москва 2024\n",
        "***"
      ],
      "metadata": {}
    },
    {
      "cell_type": "markdown",
      "source": [
        "### Вариант № 19\n"
      ],
      "metadata": {}
    },
    {
      "cell_type": "markdown",
      "source": [
        "1. При помощи модуля sqlite3 откройте базу данных Instacart в файле instacart.db."
      ],
      "metadata": {}
    },
    {
      "cell_type": "code",
      "source": [
        "import numpy as np\n",
        "import pandas as pd"
      ],
      "outputs": [],
      "execution_count": 113,
      "metadata": {}
    },
    {
      "cell_type": "code",
      "source": [
        "import sqlite3\n",
        "conn = sqlite3.connect('instacart.db')"
      ],
      "outputs": [],
      "execution_count": 114,
      "metadata": {}
    },
    {
      "cell_type": "code",
      "source": [
        "cursor = conn.cursor()"
      ],
      "outputs": [],
      "execution_count": 115,
      "metadata": {}
    },
    {
      "cell_type": "markdown",
      "source": [
        "2. Загрузите таблицы departments и products в датафреймы Pandas. При помощи запроса SELECT извлеките из таблицы order_products__train записи, соответствующие указанным в индивидуальном задании дню недели (поле order_dow таблицы orders) и коду департамента (поле department_id таблицы products) и загрузите в датафрейм Pandas. Определите количество строк в полученном датафрейме, количество транзакций (покупок) и определите количество товаров (столбец product_id) в транзакциях датафрейма."
      ],
      "metadata": {}
    },
    {
      "cell_type": "code",
      "source": [
        "departments = pd.read_sql_query(\"SELECT * FROM departments\", conn)\n",
        "products = pd.read_sql_query(\"SELECT * FROM products\", conn)"
      ],
      "outputs": [],
      "execution_count": 116,
      "metadata": {}
    },
    {
      "cell_type": "code",
      "source": [
        "departments"
      ],
      "outputs": [
        {
          "output_type": "execute_result",
          "execution_count": 117,
          "data": {
            "text/html": "<div>\n<style scoped>\n    .dataframe tbody tr th:only-of-type {\n        vertical-align: middle;\n    }\n\n    .dataframe tbody tr th {\n        vertical-align: top;\n    }\n\n    .dataframe thead th {\n        text-align: right;\n    }\n</style>\n<table border=\"1\" class=\"dataframe\">\n  <thead>\n    <tr style=\"text-align: right;\">\n      <th></th>\n      <th>department_id</th>\n      <th>department</th>\n    </tr>\n  </thead>\n  <tbody>\n    <tr>\n      <th>0</th>\n      <td>1</td>\n      <td>frozen</td>\n    </tr>\n    <tr>\n      <th>1</th>\n      <td>2</td>\n      <td>other</td>\n    </tr>\n    <tr>\n      <th>2</th>\n      <td>3</td>\n      <td>bakery</td>\n    </tr>\n    <tr>\n      <th>3</th>\n      <td>4</td>\n      <td>produce</td>\n    </tr>\n    <tr>\n      <th>4</th>\n      <td>5</td>\n      <td>alcohol</td>\n    </tr>\n    <tr>\n      <th>5</th>\n      <td>6</td>\n      <td>international</td>\n    </tr>\n    <tr>\n      <th>6</th>\n      <td>7</td>\n      <td>beverages</td>\n    </tr>\n    <tr>\n      <th>7</th>\n      <td>8</td>\n      <td>pets</td>\n    </tr>\n    <tr>\n      <th>8</th>\n      <td>9</td>\n      <td>dry goods pasta</td>\n    </tr>\n    <tr>\n      <th>9</th>\n      <td>10</td>\n      <td>bulk</td>\n    </tr>\n    <tr>\n      <th>10</th>\n      <td>11</td>\n      <td>personal care</td>\n    </tr>\n    <tr>\n      <th>11</th>\n      <td>12</td>\n      <td>meat seafood</td>\n    </tr>\n    <tr>\n      <th>12</th>\n      <td>13</td>\n      <td>pantry</td>\n    </tr>\n    <tr>\n      <th>13</th>\n      <td>14</td>\n      <td>breakfast</td>\n    </tr>\n    <tr>\n      <th>14</th>\n      <td>15</td>\n      <td>canned goods</td>\n    </tr>\n    <tr>\n      <th>15</th>\n      <td>16</td>\n      <td>dairy eggs</td>\n    </tr>\n    <tr>\n      <th>16</th>\n      <td>17</td>\n      <td>household</td>\n    </tr>\n    <tr>\n      <th>17</th>\n      <td>18</td>\n      <td>babies</td>\n    </tr>\n    <tr>\n      <th>18</th>\n      <td>19</td>\n      <td>snacks</td>\n    </tr>\n    <tr>\n      <th>19</th>\n      <td>20</td>\n      <td>deli</td>\n    </tr>\n    <tr>\n      <th>20</th>\n      <td>21</td>\n      <td>missing</td>\n    </tr>\n  </tbody>\n</table>\n</div>",
            "text/plain": "   department_id       department\n0              1           frozen\n1              2            other\n2              3           bakery\n3              4          produce\n4              5          alcohol\n5              6    international\n6              7        beverages\n7              8             pets\n8              9  dry goods pasta\n9             10             bulk\n10            11    personal care\n11            12     meat seafood\n12            13           pantry\n13            14        breakfast\n14            15     canned goods\n15            16       dairy eggs\n16            17        household\n17            18           babies\n18            19           snacks\n19            20             deli\n20            21          missing"
          },
          "metadata": {}
        }
      ],
      "execution_count": 117,
      "metadata": {}
    },
    {
      "cell_type": "code",
      "source": [
        "products"
      ],
      "outputs": [
        {
          "output_type": "execute_result",
          "execution_count": 118,
          "data": {
            "text/html": "<div>\n<style scoped>\n    .dataframe tbody tr th:only-of-type {\n        vertical-align: middle;\n    }\n\n    .dataframe tbody tr th {\n        vertical-align: top;\n    }\n\n    .dataframe thead th {\n        text-align: right;\n    }\n</style>\n<table border=\"1\" class=\"dataframe\">\n  <thead>\n    <tr style=\"text-align: right;\">\n      <th></th>\n      <th>product_id</th>\n      <th>product_name</th>\n      <th>aisle_id</th>\n      <th>department_id</th>\n    </tr>\n  </thead>\n  <tbody>\n    <tr>\n      <th>0</th>\n      <td>1</td>\n      <td>Chocolate Sandwich Cookies</td>\n      <td>61</td>\n      <td>19</td>\n    </tr>\n    <tr>\n      <th>1</th>\n      <td>2</td>\n      <td>All-Seasons Salt</td>\n      <td>104</td>\n      <td>13</td>\n    </tr>\n    <tr>\n      <th>2</th>\n      <td>3</td>\n      <td>Robust Golden Unsweetened Oolong Tea</td>\n      <td>94</td>\n      <td>7</td>\n    </tr>\n    <tr>\n      <th>3</th>\n      <td>4</td>\n      <td>Smart Ones Classic Favorites Mini Rigatoni Wit...</td>\n      <td>38</td>\n      <td>1</td>\n    </tr>\n    <tr>\n      <th>4</th>\n      <td>5</td>\n      <td>Green Chile Anytime Sauce</td>\n      <td>5</td>\n      <td>13</td>\n    </tr>\n    <tr>\n      <th>...</th>\n      <td>...</td>\n      <td>...</td>\n      <td>...</td>\n      <td>...</td>\n    </tr>\n    <tr>\n      <th>49683</th>\n      <td>49684</td>\n      <td>Vodka, Triple Distilled, Twist of Vanilla</td>\n      <td>124</td>\n      <td>5</td>\n    </tr>\n    <tr>\n      <th>49684</th>\n      <td>49685</td>\n      <td>En Croute Roast Hazelnut Cranberry</td>\n      <td>42</td>\n      <td>1</td>\n    </tr>\n    <tr>\n      <th>49685</th>\n      <td>49686</td>\n      <td>Artisan Baguette</td>\n      <td>112</td>\n      <td>3</td>\n    </tr>\n    <tr>\n      <th>49686</th>\n      <td>49687</td>\n      <td>Smartblend Healthy Metabolism Dry Cat Food</td>\n      <td>41</td>\n      <td>8</td>\n    </tr>\n    <tr>\n      <th>49687</th>\n      <td>49688</td>\n      <td>Fresh Foaming Cleanser</td>\n      <td>73</td>\n      <td>11</td>\n    </tr>\n  </tbody>\n</table>\n<p>49688 rows × 4 columns</p>\n</div>",
            "text/plain": "      product_id                                       product_name aisle_id  \\\n0              1                         Chocolate Sandwich Cookies       61   \n1              2                                   All-Seasons Salt      104   \n2              3               Robust Golden Unsweetened Oolong Tea       94   \n3              4  Smart Ones Classic Favorites Mini Rigatoni Wit...       38   \n4              5                          Green Chile Anytime Sauce        5   \n...          ...                                                ...      ...   \n49683      49684          Vodka, Triple Distilled, Twist of Vanilla      124   \n49684      49685                 En Croute Roast Hazelnut Cranberry       42   \n49685      49686                                   Artisan Baguette      112   \n49686      49687         Smartblend Healthy Metabolism Dry Cat Food       41   \n49687      49688                             Fresh Foaming Cleanser       73   \n\n      department_id  \n0                19  \n1                13  \n2                 7  \n3                 1  \n4                13  \n...             ...  \n49683             5  \n49684             1  \n49685             3  \n49686             8  \n49687            11  \n\n[49688 rows x 4 columns]"
          },
          "metadata": {}
        }
      ],
      "execution_count": 118,
      "metadata": {}
    },
    {
      "cell_type": "markdown",
      "source": [
        "Вариант 19 - order_dow=4, department_id=2"
      ],
      "metadata": {}
    },
    {
      "cell_type": "code",
      "source": [
        "order_products__train = pd.read_sql_query(\n",
        "\"\"\"\n",
        "SELECT order_products__train.*\n",
        "FROM order_products__train\n",
        "INNER JOIN orders ON order_products__train.order_id = orders.order_id\n",
        "INNER JOIN products ON order_products__train.product_id = products.product_id\n",
        "WHERE orders.order_dow = 4 AND products.department_id = 2\n",
        "ORDER BY order_id DESC\n",
        "\"\"\", conn)"
      ],
      "outputs": [],
      "execution_count": 119,
      "metadata": {}
    },
    {
      "cell_type": "code",
      "source": [
        "order_products__train"
      ],
      "outputs": [
        {
          "output_type": "execute_result",
          "execution_count": 120,
          "data": {
            "text/html": "<div>\n<style scoped>\n    .dataframe tbody tr th:only-of-type {\n        vertical-align: middle;\n    }\n\n    .dataframe tbody tr th {\n        vertical-align: top;\n    }\n\n    .dataframe thead th {\n        text-align: right;\n    }\n</style>\n<table border=\"1\" class=\"dataframe\">\n  <thead>\n    <tr style=\"text-align: right;\">\n      <th></th>\n      <th>order_id</th>\n      <th>product_id</th>\n      <th>add_to_cart_order</th>\n      <th>reordered</th>\n    </tr>\n  </thead>\n  <tbody>\n    <tr>\n      <th>0</th>\n      <td>997158</td>\n      <td>4818</td>\n      <td>3</td>\n      <td>0</td>\n    </tr>\n    <tr>\n      <th>1</th>\n      <td>964113</td>\n      <td>1892</td>\n      <td>9</td>\n      <td>0</td>\n    </tr>\n    <tr>\n      <th>2</th>\n      <td>962596</td>\n      <td>25554</td>\n      <td>2</td>\n      <td>0</td>\n    </tr>\n    <tr>\n      <th>3</th>\n      <td>959750</td>\n      <td>28522</td>\n      <td>2</td>\n      <td>1</td>\n    </tr>\n    <tr>\n      <th>4</th>\n      <td>920329</td>\n      <td>2098</td>\n      <td>20</td>\n      <td>0</td>\n    </tr>\n    <tr>\n      <th>...</th>\n      <td>...</td>\n      <td>...</td>\n      <td>...</td>\n      <td>...</td>\n    </tr>\n    <tr>\n      <th>196</th>\n      <td>1095948</td>\n      <td>18152</td>\n      <td>7</td>\n      <td>0</td>\n    </tr>\n    <tr>\n      <th>197</th>\n      <td>1092170</td>\n      <td>46793</td>\n      <td>10</td>\n      <td>0</td>\n    </tr>\n    <tr>\n      <th>198</th>\n      <td>1046884</td>\n      <td>29659</td>\n      <td>3</td>\n      <td>0</td>\n    </tr>\n    <tr>\n      <th>199</th>\n      <td>1028978</td>\n      <td>32115</td>\n      <td>11</td>\n      <td>1</td>\n    </tr>\n    <tr>\n      <th>200</th>\n      <td>100631</td>\n      <td>20406</td>\n      <td>8</td>\n      <td>0</td>\n    </tr>\n  </tbody>\n</table>\n<p>201 rows × 4 columns</p>\n</div>",
            "text/plain": "    order_id product_id add_to_cart_order reordered\n0     997158       4818                 3         0\n1     964113       1892                 9         0\n2     962596      25554                 2         0\n3     959750      28522                 2         1\n4     920329       2098                20         0\n..       ...        ...               ...       ...\n196  1095948      18152                 7         0\n197  1092170      46793                10         0\n198  1046884      29659                 3         0\n199  1028978      32115                11         1\n200   100631      20406                 8         0\n\n[201 rows x 4 columns]"
          },
          "metadata": {}
        }
      ],
      "execution_count": 120,
      "metadata": {}
    },
    {
      "cell_type": "code",
      "source": [
        "len(order_products__train) \n",
        "# количество строк в полученном датафрейме"
      ],
      "outputs": [
        {
          "output_type": "execute_result",
          "execution_count": 121,
          "data": {
            "text/plain": "201"
          },
          "metadata": {}
        }
      ],
      "execution_count": 121,
      "metadata": {}
    },
    {
      "cell_type": "code",
      "source": [
        "len(order_products__train['order_id'].unique()) \n",
        "# количество транзакций датафрейма"
      ],
      "outputs": [
        {
          "output_type": "execute_result",
          "execution_count": 122,
          "data": {
            "text/plain": "193"
          },
          "metadata": {}
        }
      ],
      "execution_count": 122,
      "metadata": {}
    },
    {
      "cell_type": "code",
      "source": [
        "order_products__train.order_id.value_counts() \n",
        "# количество товаров в транзакциях датафрейма"
      ],
      "outputs": [
        {
          "output_type": "execute_result",
          "execution_count": 123,
          "data": {
            "text/plain": "450425     4\n678310     3\n1446748    2\n1131825    2\n3153734    2\n          ..\n3008385    1\n2985606    1\n2966158    1\n2946916    1\n100631     1\nName: order_id, Length: 193, dtype: int64"
          },
          "metadata": {}
        }
      ],
      "execution_count": 123,
      "metadata": {}
    },
    {
      "cell_type": "markdown",
      "source": [
        "3. Выполните к датафрейму запрос, указанный в индивидуальном задании."
      ],
      "metadata": {}
    },
    {
      "cell_type": "markdown",
      "source": [
        "Вариант 19 - определить список товаров, которые были приобретены ровно один раз"
      ],
      "metadata": {}
    },
    {
      "cell_type": "code",
      "source": [
        "conn = sqlite3.connect('instacart.db')\n",
        "query = \"\"\"\n",
        "SELECT *\n",
        "FROM products p\n",
        "LEFT JOIN order_products__train o on o.product_id = p.product_id\n",
        "WHERE o.reordered = 0 AND o.product_id is not null AND o.order_id is not null\n",
        "\"\"\"\n",
        "order_products_count = pd.read_sql_query(query, conn)\n",
        "\n",
        "print(\"Список товаров, которые были приобретены ровно один раз:\")\n",
        "order_products_count"
      ],
      "outputs": [
        {
          "output_type": "stream",
          "name": "stdout",
          "text": "Список товаров, которые были приобретены ровно один раз:\n"
        },
        {
          "output_type": "execute_result",
          "execution_count": 124,
          "data": {
            "text/html": "<div>\n<style scoped>\n    .dataframe tbody tr th:only-of-type {\n        vertical-align: middle;\n    }\n\n    .dataframe tbody tr th {\n        vertical-align: top;\n    }\n\n    .dataframe thead th {\n        text-align: right;\n    }\n</style>\n<table border=\"1\" class=\"dataframe\">\n  <thead>\n    <tr style=\"text-align: right;\">\n      <th></th>\n      <th>product_id</th>\n      <th>product_name</th>\n      <th>aisle_id</th>\n      <th>department_id</th>\n      <th>order_id</th>\n      <th>product_id</th>\n      <th>add_to_cart_order</th>\n      <th>reordered</th>\n    </tr>\n  </thead>\n  <tbody>\n    <tr>\n      <th>0</th>\n      <td>10246</td>\n      <td>Organic Celery Hearts</td>\n      <td>83</td>\n      <td>4</td>\n      <td>1</td>\n      <td>10246</td>\n      <td>3</td>\n      <td>0</td>\n    </tr>\n    <tr>\n      <th>1</th>\n      <td>49683</td>\n      <td>Cucumber Kirby</td>\n      <td>83</td>\n      <td>4</td>\n      <td>1</td>\n      <td>49683</td>\n      <td>4</td>\n      <td>0</td>\n    </tr>\n    <tr>\n      <th>2</th>\n      <td>13176</td>\n      <td>Bag of Organic Bananas</td>\n      <td>24</td>\n      <td>4</td>\n      <td>1</td>\n      <td>13176</td>\n      <td>6</td>\n      <td>0</td>\n    </tr>\n    <tr>\n      <th>3</th>\n      <td>47209</td>\n      <td>Organic Hass Avocado</td>\n      <td>24</td>\n      <td>4</td>\n      <td>1</td>\n      <td>47209</td>\n      <td>7</td>\n      <td>0</td>\n    </tr>\n    <tr>\n      <th>4</th>\n      <td>39612</td>\n      <td>Grated Pecorino Romano Cheese</td>\n      <td>2</td>\n      <td>16</td>\n      <td>36</td>\n      <td>39612</td>\n      <td>1</td>\n      <td>0</td>\n    </tr>\n    <tr>\n      <th>...</th>\n      <td>...</td>\n      <td>...</td>\n      <td>...</td>\n      <td>...</td>\n      <td>...</td>\n      <td>...</td>\n      <td>...</td>\n      <td>...</td>\n    </tr>\n    <tr>\n      <th>555788</th>\n      <td>26800</td>\n      <td>Organic Baby Kale Mix</td>\n      <td>123</td>\n      <td>4</td>\n      <td>3421049</td>\n      <td>26800</td>\n      <td>5</td>\n      <td>0</td>\n    </tr>\n    <tr>\n      <th>555789</th>\n      <td>34243</td>\n      <td>Organic Baby Broccoli</td>\n      <td>83</td>\n      <td>4</td>\n      <td>3421049</td>\n      <td>34243</td>\n      <td>6</td>\n      <td>0</td>\n    </tr>\n    <tr>\n      <th>555790</th>\n      <td>16475</td>\n      <td>Brioche Buns</td>\n      <td>43</td>\n      <td>3</td>\n      <td>3421056</td>\n      <td>16475</td>\n      <td>4</td>\n      <td>0</td>\n    </tr>\n    <tr>\n      <th>555791</th>\n      <td>12432</td>\n      <td>Tartar Sauce</td>\n      <td>72</td>\n      <td>13</td>\n      <td>3421056</td>\n      <td>12432</td>\n      <td>5</td>\n      <td>0</td>\n    </tr>\n    <tr>\n      <th>555792</th>\n      <td>35578</td>\n      <td>Genoa Salame with White Cheddar Cheese &amp; Toast...</td>\n      <td>7</td>\n      <td>12</td>\n      <td>3421058</td>\n      <td>35578</td>\n      <td>7</td>\n      <td>0</td>\n    </tr>\n  </tbody>\n</table>\n<p>555793 rows × 8 columns</p>\n</div>",
            "text/plain": "       product_id                                       product_name aisle_id  \\\n0           10246                              Organic Celery Hearts       83   \n1           49683                                     Cucumber Kirby       83   \n2           13176                             Bag of Organic Bananas       24   \n3           47209                               Organic Hass Avocado       24   \n4           39612                      Grated Pecorino Romano Cheese        2   \n...           ...                                                ...      ...   \n555788      26800                              Organic Baby Kale Mix      123   \n555789      34243                              Organic Baby Broccoli       83   \n555790      16475                                       Brioche Buns       43   \n555791      12432                                       Tartar Sauce       72   \n555792      35578  Genoa Salame with White Cheddar Cheese & Toast...        7   \n\n       department_id order_id product_id add_to_cart_order reordered  \n0                  4        1      10246                 3         0  \n1                  4        1      49683                 4         0  \n2                  4        1      13176                 6         0  \n3                  4        1      47209                 7         0  \n4                 16       36      39612                 1         0  \n...              ...      ...        ...               ...       ...  \n555788             4  3421049      26800                 5         0  \n555789             4  3421049      34243                 6         0  \n555790             3  3421056      16475                 4         0  \n555791            13  3421056      12432                 5         0  \n555792            12  3421058      35578                 7         0  \n\n[555793 rows x 8 columns]"
          },
          "metadata": {}
        }
      ],
      "execution_count": 124,
      "metadata": {}
    },
    {
      "cell_type": "markdown",
      "source": [
        "4. Постройте транзакционную базу данных из полученного датафрейма, используя в качестве идентификатора транзакции столбец order_id, а в качестве названий товаров - поле product_name из датафрейма для таблицы products, соответствующее столбцу product_id. Найдите в транзакционной базе данных транзакцию с наибольшим количеством товаров и выведите ее на экран."
      ],
      "metadata": {}
    },
    {
      "cell_type": "code",
      "source": [
        "trans_temp = pd.merge(order_products__train, products, on=\"product_id\")[[\"order_id\", \"product_name\"]]\n",
        "transactions = trans_temp.groupby('order_id', as_index=True)\n",
        "transactions_db = []\n",
        "for order_id in trans_temp[\"order_id\"].unique():\n",
        "    transactions_db.append(list(transactions[\"product_name\"].get_group(order_id)))\n",
        "transactions_db"
      ],
      "outputs": [
        {
          "output_type": "execute_result",
          "execution_count": 125,
          "data": {
            "text/plain": "[['Classic Vanilla Coffee Creamer'],\n ['Classic Vanilla Coffee Creamer'],\n ['Classic Vanilla Coffee Creamer'],\n ['Classic Vanilla Coffee Creamer'],\n [\"Baby's Vitamin D3\"],\n ['Creamer'],\n ['Creamer'],\n ['Creamer'],\n ['Creamer'],\n ['Creamer'],\n ['Coconut Flour'],\n ['Coconut Flour'],\n ['Vegetable Burger Falafil Mix'],\n ['Facial Tissues with Lotion'],\n ['Facial Tissues with Lotion'],\n ['Facial Tissues with Lotion'],\n ['Facial Tissues with Lotion'],\n ['Vinho Verde Rose'],\n ['Light CocoWhip! Coconut Whipped Topping'],\n ['Light CocoWhip! Coconut Whipped Topping'],\n ['Light CocoWhip! Coconut Whipped Topping'],\n ['Light CocoWhip! Coconut Whipped Topping'],\n ['Light CocoWhip! Coconut Whipped Topping'],\n ['Light CocoWhip! Coconut Whipped Topping'],\n ['Light CocoWhip! Coconut Whipped Topping'],\n ['Light CocoWhip! Coconut Whipped Topping'],\n ['Greek Style Honey Yogurt'],\n ['Personal Lubricant'],\n ['Sweets Organic Lollipops'],\n ['Organic Supreme Fruit & Nut Mix'],\n ['93/7 Ground Beef'],\n ['93/7 Ground Beef'],\n ['93/7 Ground Beef'],\n ['93/7 Ground Beef'],\n ['93/7 Ground Beef'],\n ['93/7 Ground Beef'],\n ['93/7 Ground Beef'],\n ['93/7 Ground Beef'],\n ['93/7 Ground Beef'],\n ['Strike On Box Matches'],\n ['Strike On Box Matches'],\n ['Infants Pain Reliever and Fever Reducer Berry Drops'],\n ['Infants Pain Reliever and Fever Reducer Berry Drops'],\n ['SleepGels Nighttime Sleep Aid'],\n ['SleepGels Nighttime Sleep Aid'],\n ['SleepGels Nighttime Sleep Aid'],\n ['Soft Peach S-M Underwear for Women Maximum Absorbency'],\n ['Whispering Angel Rosé'],\n ['Beef Flank Steak'],\n ['Unsalted Roasted Cashews'],\n ['Coconut Almond Granola'],\n ['Coconut Almond Granola'],\n ['Margaritas Strawberry Lime',\n  'Margarita Salt',\n  'The Original Margarita Mix'],\n ['Margaritas Strawberry Lime'],\n ['Margarita Salt'],\n ['The Original Margarita Mix'],\n [\"Original Blue Painter's Tape\"],\n [\"Original Blue Painter's Tape\"],\n [\"Original Blue Painter's Tape\", 'Wood Clothespins'],\n ['Wipe Fresh Pet Wipes'],\n ['Chamomile'],\n ['Chamomile'],\n ['Sanitizing Wipes'],\n ['Sanitizing Wipes'],\n ['Baby Tummy Gripe Water Dietary Supplement'],\n ['Organic Raw Walnut Halves'],\n ['Emergency Contraceptive'],\n ['Roasted Almond Butter'],\n ['Roasted Almond Butter'],\n ['Roasted Almond Butter'],\n ['Roasted Almond Butter'],\n ['Roasted Almond Butter'],\n ['Roasted Almond Butter'],\n ['Roasted Almond Butter'],\n ['Roasted Almond Butter'],\n ['Roasted Almond Butter'],\n ['Roasted Almond Butter'],\n ['Ultra Thin Armor Spermicidal Lubricant Condoms'],\n ['Drug Free Sleep Aid Tablets'],\n ['Melatonin, Fast Dissolve, 5 mg, Tablets, Natural Strawberry Flavor & Sweeteners',\n  'Early Pregnancy Test',\n  'Early Result Pregnancy Test',\n  'Waterfall Hand Wash'],\n ['Early Result Pregnancy Test'],\n ['Maximum Absorbency L for Women  Underwear'],\n ['Multivitamin, Kids Complete, Gummies'],\n ['Multivitamin, Kids Complete, Gummies'],\n ['Multivitamin, Kids Complete, Gummies'],\n ['Original Salad Cream'],\n ['Vitamin Code Kids Cherry Berry Chewables'],\n ['Deluxe Nut Mix'],\n ['Healing Baby Diaper Rash Cream'],\n [\"Cherry Flavor Infants' Oral Suspension\"],\n ['Coconut Lime Frozen Pop Dairy Free Gluten Free'],\n ['Kiwifruit'],\n ['Kiwifruit'],\n ['Kiwifruit'],\n ['Kiwifruit'],\n ['California White Zinfandel'],\n ['Coffee Mate French Vanilla Creamer Packets'],\n ['Coffee Mate French Vanilla Creamer Packets'],\n ['Walnuts'],\n ['Walnuts'],\n ['Walnuts'],\n ['Walnuts'],\n ['Italian Sweet Creme Creamer'],\n ['Italian Sweet Creme Creamer'],\n ['Italian Sweet Creme Creamer'],\n ['Organic Coco Whip'],\n ['Organic Total Body Cleanse',\n  'Natural Body & Foot Powder with Tea Tree Oil & GSE'],\n ['Moderate Absorbency for Women  Underwear Large'],\n ['Camilia, Single Liquid Doses'],\n ['Ibuprofen Drops for ages 6-23 Months, White Grape Flavor'],\n ['Organic Sparkling Apple Peach  Juice'],\n ['Organic Sparkling Apple Peach  Juice'],\n ['Grenadine Syrup'],\n ['Original Bloody Mary Mix'],\n ['Original Bloody Mary Mix'],\n ['Rapid Relief Creamy Diaper Rash Ointment'],\n ['Rapid Relief Creamy Diaper Rash Ointment'],\n ['Recolte Wine'],\n ['Tropical Fruit Electrolyte Solution'],\n ['Roasted Unsalted Almonds'],\n ['Roasted Unsalted Almonds'],\n ['Roasted Unsalted Almonds'],\n ['Roasted Unsalted Almonds'],\n ['Roasted Unsalted Almonds'],\n ['Roasted Unsalted Almonds'],\n ['Cane Sugar Cocktail Simple Syrup'],\n ['Maximum Strength Original Paste Diaper Rash Ointment'],\n ['Maximum Strength Original Paste Diaper Rash Ointment'],\n ['Maximum Strength Original Paste Diaper Rash Ointment'],\n ['Pinot Noir Rose'],\n ['Pinot Noir Rose'],\n ['Pinot Noir Rose'],\n ['Tulips'],\n ['Organic Biologique Kokuho Rose Medium Grain Heirloom White Rice'],\n ['Daffodils, 10\\\\\"'],\n ['Daffodils, 10\\\\\"'],\n ['Melatonin 2.5 Mg Peppermint Flavored Sublingual Tablets'],\n ['Anti-Stress Drink Assorted Flavor Packets'],\n ['Pierogi Potato & Cheese'],\n ['First Cleanse 2 Week Program'],\n ['Baby Healing Ointment'],\n ['White Zinfandel'],\n ['Whole Bay Leaves'],\n ['Crayons'],\n ['French Wine Aperitif'],\n ['Maximum Strength Original Diaper Rash Ointment'],\n ['Maximum Strength Original Diaper Rash Ointment'],\n ['Sambucus Nighttime Standardized Elderberry'],\n ['Original Liquid Coffee Creamer'],\n ['Original Liquid Coffee Creamer'],\n ['Organic Tulsi Ginger Tea'],\n ['Organic Tulsi Ginger Tea'],\n ['Deep Woods Insect Repellent VII'],\n ['Baby Cough Syrup'],\n ['Melatonin 3 mg Tablets'],\n ['Organic Breakfast Blend Coffee'],\n ['Baby Eczema Relief Body Creme'],\n ['Plastic Bubble Mailer 6\\\\\" x 9.25\\\\\"'],\n ['Liquid Ant Baits'],\n ['Holland Mints'],\n ['Gluten Free Fig Bars'],\n ['Cinnamon Vanilla Creme Liquid Coffee Creamer'],\n ['Cinnamon Vanilla Creme Liquid Coffee Creamer'],\n ['Peppermint Essential Oil'],\n ['Peppermint Essential Oil'],\n ['Polenta'],\n ['UltraGel Personal Lubricant'],\n ['Salted Mixed Nuts'],\n ['Pediatric Electrolyte Solution with Zinc Grape'],\n ['Original Diaper Rash Ointment'],\n ['Duct Tape'],\n ['Caramelized Pecans'],\n ['Sweetened Lime Juice'],\n ['Classic Margarita Mix'],\n ['Max AAA Batteries'],\n ['Coconut & Warm Ginger Hand Soap'],\n ['Coconut & Warm Ginger Hand Soap'],\n ['Rainbow Roll'],\n ['Liquid Teething Relief'],\n ['Liquid Teething Relief'],\n ['Liquid Teething Relief'],\n ['Sunset Blush'],\n [\"Pears D'Anjou Kid Size Fruit\"],\n ['Falafel'],\n ['Bloody Mary Mix'],\n ['Organic Insect Repellent Fresh Natural Scent'],\n ['Omega 3 + DHA Fruit Flavored Gummy Bears'],\n ['Classic Lime Margarita'],\n ['Cleanse Smart Advanced Total-Body Internal Cleanse 30-Day Program Vegetable Capsules'],\n ['Tape'],\n ['Swisspers Triple Size Cotton Balls'],\n ['Melatonin Chewable Lozenges 3 Mg',\n  'Melatonin 1 Mg Peppermint Sublingual Tablets'],\n ['Organic Tamari Almonds']]"
          },
          "metadata": {}
        }
      ],
      "execution_count": 125,
      "metadata": {}
    },
    {
      "cell_type": "code",
      "source": [
        "max_trans_len = 0\n",
        "max_trans = []\n",
        "for trans in transactions_db:\n",
        "    if len(trans) > max_trans_len:\n",
        "        max_trans_len = len(trans)\n",
        "        max_trans = trans\n",
        "\n",
        "max_trans # Транзакция с наибольшим количеством товаров"
      ],
      "outputs": [
        {
          "output_type": "execute_result",
          "execution_count": 126,
          "data": {
            "text/plain": "['Melatonin, Fast Dissolve, 5 mg, Tablets, Natural Strawberry Flavor & Sweeteners',\n 'Early Pregnancy Test',\n 'Early Result Pregnancy Test',\n 'Waterfall Hand Wash']"
          },
          "metadata": {}
        }
      ],
      "execution_count": 126,
      "metadata": {}
    },
    {
      "cell_type": "markdown",
      "source": [
        "5. Постройте по транзакционной базе данных бинарную базу данных в формате датафрейма пакета mlxtend. По бинарной базе данных определите и выведите на экран три наиболее популярных товара и определите количество покупок (транзакций) этих товаров."
      ],
      "metadata": {}
    },
    {
      "cell_type": "code",
      "source": [
        "import mlxtend"
      ],
      "outputs": [],
      "execution_count": 127,
      "metadata": {}
    },
    {
      "cell_type": "code",
      "source": [
        "from mlxtend.preprocessing import TransactionEncoder\n",
        "te = TransactionEncoder()\n",
        "transactions_db_bin = te.fit(transactions_db).transform(transactions_db)\n",
        "_bin = pd.DataFrame(transactions_db_bin, columns=te.columns_)\n",
        "_bin"
      ],
      "outputs": [
        {
          "output_type": "execute_result",
          "execution_count": 128,
          "data": {
            "text/html": "<div>\n<style scoped>\n    .dataframe tbody tr th:only-of-type {\n        vertical-align: middle;\n    }\n\n    .dataframe tbody tr th {\n        vertical-align: top;\n    }\n\n    .dataframe thead th {\n        text-align: right;\n    }\n</style>\n<table border=\"1\" class=\"dataframe\">\n  <thead>\n    <tr style=\"text-align: right;\">\n      <th></th>\n      <th>93/7 Ground Beef</th>\n      <th>Anti-Stress Drink Assorted Flavor Packets</th>\n      <th>Baby Cough Syrup</th>\n      <th>Baby Eczema Relief Body Creme</th>\n      <th>Baby Healing Ointment</th>\n      <th>Baby Tummy Gripe Water Dietary Supplement</th>\n      <th>Baby's Vitamin D3</th>\n      <th>Beef Flank Steak</th>\n      <th>Bloody Mary Mix</th>\n      <th>California White Zinfandel</th>\n      <th>...</th>\n      <th>Vegetable Burger Falafil Mix</th>\n      <th>Vinho Verde Rose</th>\n      <th>Vitamin Code Kids Cherry Berry Chewables</th>\n      <th>Walnuts</th>\n      <th>Waterfall Hand Wash</th>\n      <th>Whispering Angel Rosé</th>\n      <th>White Zinfandel</th>\n      <th>Whole Bay Leaves</th>\n      <th>Wipe Fresh Pet Wipes</th>\n      <th>Wood Clothespins</th>\n    </tr>\n  </thead>\n  <tbody>\n    <tr>\n      <th>0</th>\n      <td>False</td>\n      <td>False</td>\n      <td>False</td>\n      <td>False</td>\n      <td>False</td>\n      <td>False</td>\n      <td>False</td>\n      <td>False</td>\n      <td>False</td>\n      <td>False</td>\n      <td>...</td>\n      <td>False</td>\n      <td>False</td>\n      <td>False</td>\n      <td>False</td>\n      <td>False</td>\n      <td>False</td>\n      <td>False</td>\n      <td>False</td>\n      <td>False</td>\n      <td>False</td>\n    </tr>\n    <tr>\n      <th>1</th>\n      <td>False</td>\n      <td>False</td>\n      <td>False</td>\n      <td>False</td>\n      <td>False</td>\n      <td>False</td>\n      <td>False</td>\n      <td>False</td>\n      <td>False</td>\n      <td>False</td>\n      <td>...</td>\n      <td>False</td>\n      <td>False</td>\n      <td>False</td>\n      <td>False</td>\n      <td>False</td>\n      <td>False</td>\n      <td>False</td>\n      <td>False</td>\n      <td>False</td>\n      <td>False</td>\n    </tr>\n    <tr>\n      <th>2</th>\n      <td>False</td>\n      <td>False</td>\n      <td>False</td>\n      <td>False</td>\n      <td>False</td>\n      <td>False</td>\n      <td>False</td>\n      <td>False</td>\n      <td>False</td>\n      <td>False</td>\n      <td>...</td>\n      <td>False</td>\n      <td>False</td>\n      <td>False</td>\n      <td>False</td>\n      <td>False</td>\n      <td>False</td>\n      <td>False</td>\n      <td>False</td>\n      <td>False</td>\n      <td>False</td>\n    </tr>\n    <tr>\n      <th>3</th>\n      <td>False</td>\n      <td>False</td>\n      <td>False</td>\n      <td>False</td>\n      <td>False</td>\n      <td>False</td>\n      <td>False</td>\n      <td>False</td>\n      <td>False</td>\n      <td>False</td>\n      <td>...</td>\n      <td>False</td>\n      <td>False</td>\n      <td>False</td>\n      <td>False</td>\n      <td>False</td>\n      <td>False</td>\n      <td>False</td>\n      <td>False</td>\n      <td>False</td>\n      <td>False</td>\n    </tr>\n    <tr>\n      <th>4</th>\n      <td>False</td>\n      <td>False</td>\n      <td>False</td>\n      <td>False</td>\n      <td>False</td>\n      <td>False</td>\n      <td>True</td>\n      <td>False</td>\n      <td>False</td>\n      <td>False</td>\n      <td>...</td>\n      <td>False</td>\n      <td>False</td>\n      <td>False</td>\n      <td>False</td>\n      <td>False</td>\n      <td>False</td>\n      <td>False</td>\n      <td>False</td>\n      <td>False</td>\n      <td>False</td>\n    </tr>\n    <tr>\n      <th>...</th>\n      <td>...</td>\n      <td>...</td>\n      <td>...</td>\n      <td>...</td>\n      <td>...</td>\n      <td>...</td>\n      <td>...</td>\n      <td>...</td>\n      <td>...</td>\n      <td>...</td>\n      <td>...</td>\n      <td>...</td>\n      <td>...</td>\n      <td>...</td>\n      <td>...</td>\n      <td>...</td>\n      <td>...</td>\n      <td>...</td>\n      <td>...</td>\n      <td>...</td>\n      <td>...</td>\n    </tr>\n    <tr>\n      <th>188</th>\n      <td>False</td>\n      <td>False</td>\n      <td>False</td>\n      <td>False</td>\n      <td>False</td>\n      <td>False</td>\n      <td>False</td>\n      <td>False</td>\n      <td>False</td>\n      <td>False</td>\n      <td>...</td>\n      <td>False</td>\n      <td>False</td>\n      <td>False</td>\n      <td>False</td>\n      <td>False</td>\n      <td>False</td>\n      <td>False</td>\n      <td>False</td>\n      <td>False</td>\n      <td>False</td>\n    </tr>\n    <tr>\n      <th>189</th>\n      <td>False</td>\n      <td>False</td>\n      <td>False</td>\n      <td>False</td>\n      <td>False</td>\n      <td>False</td>\n      <td>False</td>\n      <td>False</td>\n      <td>False</td>\n      <td>False</td>\n      <td>...</td>\n      <td>False</td>\n      <td>False</td>\n      <td>False</td>\n      <td>False</td>\n      <td>False</td>\n      <td>False</td>\n      <td>False</td>\n      <td>False</td>\n      <td>False</td>\n      <td>False</td>\n    </tr>\n    <tr>\n      <th>190</th>\n      <td>False</td>\n      <td>False</td>\n      <td>False</td>\n      <td>False</td>\n      <td>False</td>\n      <td>False</td>\n      <td>False</td>\n      <td>False</td>\n      <td>False</td>\n      <td>False</td>\n      <td>...</td>\n      <td>False</td>\n      <td>False</td>\n      <td>False</td>\n      <td>False</td>\n      <td>False</td>\n      <td>False</td>\n      <td>False</td>\n      <td>False</td>\n      <td>False</td>\n      <td>False</td>\n    </tr>\n    <tr>\n      <th>191</th>\n      <td>False</td>\n      <td>False</td>\n      <td>False</td>\n      <td>False</td>\n      <td>False</td>\n      <td>False</td>\n      <td>False</td>\n      <td>False</td>\n      <td>False</td>\n      <td>False</td>\n      <td>...</td>\n      <td>False</td>\n      <td>False</td>\n      <td>False</td>\n      <td>False</td>\n      <td>False</td>\n      <td>False</td>\n      <td>False</td>\n      <td>False</td>\n      <td>False</td>\n      <td>False</td>\n    </tr>\n    <tr>\n      <th>192</th>\n      <td>False</td>\n      <td>False</td>\n      <td>False</td>\n      <td>False</td>\n      <td>False</td>\n      <td>False</td>\n      <td>False</td>\n      <td>False</td>\n      <td>False</td>\n      <td>False</td>\n      <td>...</td>\n      <td>False</td>\n      <td>False</td>\n      <td>False</td>\n      <td>False</td>\n      <td>False</td>\n      <td>False</td>\n      <td>False</td>\n      <td>False</td>\n      <td>False</td>\n      <td>False</td>\n    </tr>\n  </tbody>\n</table>\n<p>193 rows × 121 columns</p>\n</div>",
            "text/plain": "     93/7 Ground Beef  Anti-Stress Drink Assorted Flavor Packets  \\\n0               False                                      False   \n1               False                                      False   \n2               False                                      False   \n3               False                                      False   \n4               False                                      False   \n..                ...                                        ...   \n188             False                                      False   \n189             False                                      False   \n190             False                                      False   \n191             False                                      False   \n192             False                                      False   \n\n     Baby Cough Syrup  Baby Eczema Relief Body Creme  Baby Healing Ointment  \\\n0               False                          False                  False   \n1               False                          False                  False   \n2               False                          False                  False   \n3               False                          False                  False   \n4               False                          False                  False   \n..                ...                            ...                    ...   \n188             False                          False                  False   \n189             False                          False                  False   \n190             False                          False                  False   \n191             False                          False                  False   \n192             False                          False                  False   \n\n     Baby Tummy Gripe Water Dietary Supplement  Baby's Vitamin D3  \\\n0                                        False              False   \n1                                        False              False   \n2                                        False              False   \n3                                        False              False   \n4                                        False               True   \n..                                         ...                ...   \n188                                      False              False   \n189                                      False              False   \n190                                      False              False   \n191                                      False              False   \n192                                      False              False   \n\n     Beef Flank Steak  Bloody Mary Mix  California White Zinfandel  ...  \\\n0               False            False                       False  ...   \n1               False            False                       False  ...   \n2               False            False                       False  ...   \n3               False            False                       False  ...   \n4               False            False                       False  ...   \n..                ...              ...                         ...  ...   \n188             False            False                       False  ...   \n189             False            False                       False  ...   \n190             False            False                       False  ...   \n191             False            False                       False  ...   \n192             False            False                       False  ...   \n\n     Vegetable Burger Falafil Mix  Vinho Verde Rose  \\\n0                           False             False   \n1                           False             False   \n2                           False             False   \n3                           False             False   \n4                           False             False   \n..                            ...               ...   \n188                         False             False   \n189                         False             False   \n190                         False             False   \n191                         False             False   \n192                         False             False   \n\n     Vitamin Code Kids Cherry Berry Chewables  Walnuts  Waterfall Hand Wash  \\\n0                                       False    False                False   \n1                                       False    False                False   \n2                                       False    False                False   \n3                                       False    False                False   \n4                                       False    False                False   \n..                                        ...      ...                  ...   \n188                                     False    False                False   \n189                                     False    False                False   \n190                                     False    False                False   \n191                                     False    False                False   \n192                                     False    False                False   \n\n     Whispering Angel Rosé  White Zinfandel  Whole Bay Leaves  \\\n0                    False            False             False   \n1                    False            False             False   \n2                    False            False             False   \n3                    False            False             False   \n4                    False            False             False   \n..                     ...              ...               ...   \n188                  False            False             False   \n189                  False            False             False   \n190                  False            False             False   \n191                  False            False             False   \n192                  False            False             False   \n\n     Wipe Fresh Pet Wipes  Wood Clothespins  \n0                   False             False  \n1                   False             False  \n2                   False             False  \n3                   False             False  \n4                   False             False  \n..                    ...               ...  \n188                 False             False  \n189                 False             False  \n190                 False             False  \n191                 False             False  \n192                 False             False  \n\n[193 rows x 121 columns]"
          },
          "metadata": {}
        }
      ],
      "execution_count": 128,
      "metadata": {}
    },
    {
      "cell_type": "code",
      "source": [
        "top_products = {}\n",
        "for col in _bin.columns:\n",
        "    top_products[col] = _bin[col].sum()\n",
        "top_products = dict(sorted(top_products.items(), key=lambda item: item[1]))\n",
        "top_1_popular_product = top_products[list(top_products.keys())[-1]]\n",
        "top_2_popular_product = top_products[list(top_products.keys())[-2]]\n",
        "top_3_popular_product = top_products[list(top_products.keys())[-3]]\n",
        "\n",
        "print(f'Топ-3 самых популярных товаров:\\n1.{list(top_products.keys())[-1]}: {top_1_popular_product}\\n2.{list(top_products.keys())[-2]}: {top_2_popular_product}\\n3.{list(top_products.keys())[-3]}: {top_3_popular_product}')"
      ],
      "outputs": [
        {
          "output_type": "stream",
          "name": "stdout",
          "text": "Топ-3 самых популярных товаров:\n1.Roasted Almond Butter: 10\n2.93/7 Ground Beef: 9\n3.Light CocoWhip! Coconut Whipped Topping: 8\n"
        }
      ],
      "execution_count": 129,
      "metadata": {}
    },
    {
      "cell_type": "markdown",
      "source": [
        "6. При помощи указанного в индивидуальном задании метода построения популярных наборов предметов постройте и выведите на экран популярный набор предметов с (абсолютной) минимальной поддержкой не менее 3, имеющий максимальную длину. При отсутствии такого набора уменьшите поддержку до 2. В случае нехватки вычислительных ресурсов (слишком долгой работы программы) при построении популярного набора предметов сокращайте число записей в наборе данных (например, делая выборку половины записей набора)."
      ],
      "metadata": {}
    },
    {
      "cell_type": "markdown",
      "source": [
        "Вариант 19 - Apriori"
      ],
      "metadata": {}
    },
    {
      "cell_type": "code",
      "source": [
        "absolute_support = 1 # проверено, что не существует наборов длиной более двух\n",
        "relative_support = absolute_support / len(_bin)\n",
        "from mlxtend.frequent_patterns import apriori\n",
        "itemsets_apr = apriori(_bin, min_support=relative_support, use_colnames=True)\n",
        "itemsets_apr"
      ],
      "outputs": [
        {
          "output_type": "execute_result",
          "execution_count": 130,
          "data": {
            "text/html": "<div>\n<style scoped>\n    .dataframe tbody tr th:only-of-type {\n        vertical-align: middle;\n    }\n\n    .dataframe tbody tr th {\n        vertical-align: top;\n    }\n\n    .dataframe thead th {\n        text-align: right;\n    }\n</style>\n<table border=\"1\" class=\"dataframe\">\n  <thead>\n    <tr style=\"text-align: right;\">\n      <th></th>\n      <th>support</th>\n      <th>itemsets</th>\n    </tr>\n  </thead>\n  <tbody>\n    <tr>\n      <th>0</th>\n      <td>0.046632</td>\n      <td>(93/7 Ground Beef)</td>\n    </tr>\n    <tr>\n      <th>1</th>\n      <td>0.005181</td>\n      <td>(Anti-Stress Drink Assorted Flavor Packets)</td>\n    </tr>\n    <tr>\n      <th>2</th>\n      <td>0.005181</td>\n      <td>(Baby Cough Syrup)</td>\n    </tr>\n    <tr>\n      <th>3</th>\n      <td>0.005181</td>\n      <td>(Baby Eczema Relief Body Creme)</td>\n    </tr>\n    <tr>\n      <th>4</th>\n      <td>0.005181</td>\n      <td>(Baby Healing Ointment)</td>\n    </tr>\n    <tr>\n      <th>...</th>\n      <td>...</td>\n      <td>...</td>\n    </tr>\n    <tr>\n      <th>134</th>\n      <td>0.005181</td>\n      <td>(Waterfall Hand Wash, Early Pregnancy Test, Ea...</td>\n    </tr>\n    <tr>\n      <th>135</th>\n      <td>0.005181</td>\n      <td>(Waterfall Hand Wash, Early Pregnancy Test, Me...</td>\n    </tr>\n    <tr>\n      <th>136</th>\n      <td>0.005181</td>\n      <td>(Waterfall Hand Wash, Melatonin, Fast Dissolve...</td>\n    </tr>\n    <tr>\n      <th>137</th>\n      <td>0.005181</td>\n      <td>(Margarita Salt, The Original Margarita Mix, M...</td>\n    </tr>\n    <tr>\n      <th>138</th>\n      <td>0.005181</td>\n      <td>(Waterfall Hand Wash, Early Pregnancy Test, Me...</td>\n    </tr>\n  </tbody>\n</table>\n<p>139 rows × 2 columns</p>\n</div>",
            "text/plain": "      support                                           itemsets\n0    0.046632                                 (93/7 Ground Beef)\n1    0.005181        (Anti-Stress Drink Assorted Flavor Packets)\n2    0.005181                                 (Baby Cough Syrup)\n3    0.005181                    (Baby Eczema Relief Body Creme)\n4    0.005181                            (Baby Healing Ointment)\n..        ...                                                ...\n134  0.005181  (Waterfall Hand Wash, Early Pregnancy Test, Ea...\n135  0.005181  (Waterfall Hand Wash, Early Pregnancy Test, Me...\n136  0.005181  (Waterfall Hand Wash, Melatonin, Fast Dissolve...\n137  0.005181  (Margarita Salt, The Original Margarita Mix, M...\n138  0.005181  (Waterfall Hand Wash, Early Pregnancy Test, Me...\n\n[139 rows x 2 columns]"
          },
          "metadata": {}
        }
      ],
      "execution_count": 130,
      "metadata": {}
    },
    {
      "cell_type": "code",
      "source": [
        "longest_itemset = itemsets_apr.iloc[[0]]\n",
        "longest_itemset_len = 0\n",
        "for i, itemset in enumerate(itemsets_apr['itemsets']):\n",
        "    if len(itemset) > longest_itemset_len:\n",
        "        longest_itemset_len = len(itemset)\n",
        "        longest_itemset = itemsets_apr.iloc[[i]]\n",
        "longest_itemset['itemsets']"
      ],
      "outputs": [
        {
          "output_type": "execute_result",
          "execution_count": 131,
          "data": {
            "text/plain": "138    (Waterfall Hand Wash, Early Pregnancy Test, Me...\nName: itemsets, dtype: object"
          },
          "metadata": {}
        }
      ],
      "execution_count": 131,
      "metadata": {}
    },
    {
      "cell_type": "markdown",
      "source": [
        "7. Используя пакет mlxtend или реализацию на Python, постройте набор ассоциативных правил для полученного популярного наборов предметов с уровнем достоверности (confidence) не ниже  0.6\n",
        " ."
      ],
      "metadata": {}
    },
    {
      "cell_type": "code",
      "source": [
        "from mlxtend.frequent_patterns import apriori\n",
        "from mlxtend.frequent_patterns import association_rules\n",
        "\n",
        "itemsets_apr = apriori(_bin, min_support=0.001, use_colnames=True)\n",
        "association_table = association_rules(itemsets_apr, metric=\"confidence\", min_threshold=0.6)\n",
        "print(association_table)"
      ],
      "outputs": [
        {
          "output_type": "stream",
          "name": "stdout",
          "text": "                                          antecedents  \\\n0                              (Early Pregnancy Test)   \n1                              (Early Pregnancy Test)   \n2   (Melatonin, Fast Dissolve, 5 mg, Tablets, Natu...   \n3                               (Waterfall Hand Wash)   \n4                              (Early Pregnancy Test)   \n5   (Melatonin, Fast Dissolve, 5 mg, Tablets, Natu...   \n6                               (Waterfall Hand Wash)   \n7      (Melatonin 1 Mg Peppermint Sublingual Tablets)   \n8                  (Melatonin Chewable Lozenges 3 Mg)   \n9                               (Waterfall Hand Wash)   \n10  (Melatonin, Fast Dissolve, 5 mg, Tablets, Natu...   \n11                       (Organic Total Body Cleanse)   \n12  (Natural Body & Foot Powder with Tea Tree Oil ...   \n13                                 (Wood Clothespins)   \n14  (Early Pregnancy Test, Melatonin, Fast Dissolv...   \n15  (Early Pregnancy Test, Early Result Pregnancy ...   \n16  (Melatonin, Fast Dissolve, 5 mg, Tablets, Natu...   \n17                             (Early Pregnancy Test)   \n18  (Melatonin, Fast Dissolve, 5 mg, Tablets, Natu...   \n19        (Waterfall Hand Wash, Early Pregnancy Test)   \n20  (Waterfall Hand Wash, Early Result Pregnancy T...   \n21  (Early Pregnancy Test, Early Result Pregnancy ...   \n22                              (Waterfall Hand Wash)   \n23                             (Early Pregnancy Test)   \n24        (Waterfall Hand Wash, Early Pregnancy Test)   \n25  (Waterfall Hand Wash, Melatonin, Fast Dissolve...   \n26  (Early Pregnancy Test, Melatonin, Fast Dissolv...   \n27                              (Waterfall Hand Wash)   \n28                             (Early Pregnancy Test)   \n29  (Melatonin, Fast Dissolve, 5 mg, Tablets, Natu...   \n30  (Waterfall Hand Wash, Melatonin, Fast Dissolve...   \n31  (Waterfall Hand Wash, Early Result Pregnancy T...   \n32  (Melatonin, Fast Dissolve, 5 mg, Tablets, Natu...   \n33                              (Waterfall Hand Wash)   \n34  (Melatonin, Fast Dissolve, 5 mg, Tablets, Natu...   \n35       (Margarita Salt, The Original Margarita Mix)   \n36       (Margarita Salt, Margaritas Strawberry Lime)   \n37  (The Original Margarita Mix, Margaritas Strawb...   \n38  (Waterfall Hand Wash, Early Pregnancy Test, Me...   \n39  (Waterfall Hand Wash, Early Pregnancy Test, Ea...   \n40  (Waterfall Hand Wash, Melatonin, Fast Dissolve...   \n41  (Early Pregnancy Test, Melatonin, Fast Dissolv...   \n42        (Waterfall Hand Wash, Early Pregnancy Test)   \n43  (Waterfall Hand Wash, Melatonin, Fast Dissolve...   \n44  (Waterfall Hand Wash, Early Result Pregnancy T...   \n45  (Early Pregnancy Test, Melatonin, Fast Dissolv...   \n46  (Early Pregnancy Test, Early Result Pregnancy ...   \n47  (Melatonin, Fast Dissolve, 5 mg, Tablets, Natu...   \n48                              (Waterfall Hand Wash)   \n49                             (Early Pregnancy Test)   \n50  (Melatonin, Fast Dissolve, 5 mg, Tablets, Natu...   \n\n                                          consequents  antecedent support  \\\n0                       (Early Result Pregnancy Test)            0.005181   \n1   (Melatonin, Fast Dissolve, 5 mg, Tablets, Natu...            0.005181   \n2                              (Early Pregnancy Test)            0.005181   \n3                              (Early Pregnancy Test)            0.005181   \n4                               (Waterfall Hand Wash)            0.005181   \n5                       (Early Result Pregnancy Test)            0.005181   \n6                       (Early Result Pregnancy Test)            0.005181   \n7                  (Melatonin Chewable Lozenges 3 Mg)            0.005181   \n8      (Melatonin 1 Mg Peppermint Sublingual Tablets)            0.005181   \n9   (Melatonin, Fast Dissolve, 5 mg, Tablets, Natu...            0.005181   \n10                              (Waterfall Hand Wash)            0.005181   \n11  (Natural Body & Foot Powder with Tea Tree Oil ...            0.005181   \n12                       (Organic Total Body Cleanse)            0.005181   \n13                     (Original Blue Painter's Tape)            0.005181   \n14                      (Early Result Pregnancy Test)            0.005181   \n15  (Melatonin, Fast Dissolve, 5 mg, Tablets, Natu...            0.005181   \n16                             (Early Pregnancy Test)            0.005181   \n17  (Melatonin, Fast Dissolve, 5 mg, Tablets, Natu...            0.005181   \n18  (Early Pregnancy Test, Early Result Pregnancy ...            0.005181   \n19                      (Early Result Pregnancy Test)            0.005181   \n20                             (Early Pregnancy Test)            0.005181   \n21                              (Waterfall Hand Wash)            0.005181   \n22  (Early Pregnancy Test, Early Result Pregnancy ...            0.005181   \n23  (Waterfall Hand Wash, Early Result Pregnancy T...            0.005181   \n24  (Melatonin, Fast Dissolve, 5 mg, Tablets, Natu...            0.005181   \n25                             (Early Pregnancy Test)            0.005181   \n26                              (Waterfall Hand Wash)            0.005181   \n27  (Early Pregnancy Test, Melatonin, Fast Dissolv...            0.005181   \n28  (Waterfall Hand Wash, Melatonin, Fast Dissolve...            0.005181   \n29        (Waterfall Hand Wash, Early Pregnancy Test)            0.005181   \n30                      (Early Result Pregnancy Test)            0.005181   \n31  (Melatonin, Fast Dissolve, 5 mg, Tablets, Natu...            0.005181   \n32                              (Waterfall Hand Wash)            0.005181   \n33  (Melatonin, Fast Dissolve, 5 mg, Tablets, Natu...            0.005181   \n34  (Waterfall Hand Wash, Early Result Pregnancy T...            0.005181   \n35                       (Margaritas Strawberry Lime)            0.005181   \n36                       (The Original Margarita Mix)            0.005181   \n37                                   (Margarita Salt)            0.005181   \n38                      (Early Result Pregnancy Test)            0.005181   \n39  (Melatonin, Fast Dissolve, 5 mg, Tablets, Natu...            0.005181   \n40                             (Early Pregnancy Test)            0.005181   \n41                              (Waterfall Hand Wash)            0.005181   \n42  (Melatonin, Fast Dissolve, 5 mg, Tablets, Natu...            0.005181   \n43  (Early Pregnancy Test, Early Result Pregnancy ...            0.005181   \n44  (Early Pregnancy Test, Melatonin, Fast Dissolv...            0.005181   \n45  (Waterfall Hand Wash, Early Result Pregnancy T...            0.005181   \n46  (Waterfall Hand Wash, Melatonin, Fast Dissolve...            0.005181   \n47        (Waterfall Hand Wash, Early Pregnancy Test)            0.005181   \n48  (Early Pregnancy Test, Melatonin, Fast Dissolv...            0.005181   \n49  (Waterfall Hand Wash, Melatonin, Fast Dissolve...            0.005181   \n50  (Waterfall Hand Wash, Early Pregnancy Test, Ea...            0.005181   \n\n    consequent support   support  confidence        lift  leverage  \\\n0             0.010363  0.005181         1.0   96.500000  0.005128   \n1             0.005181  0.005181         1.0  193.000000  0.005155   \n2             0.005181  0.005181         1.0  193.000000  0.005155   \n3             0.005181  0.005181         1.0  193.000000  0.005155   \n4             0.005181  0.005181         1.0  193.000000  0.005155   \n5             0.010363  0.005181         1.0   96.500000  0.005128   \n6             0.010363  0.005181         1.0   96.500000  0.005128   \n7             0.005181  0.005181         1.0  193.000000  0.005155   \n8             0.005181  0.005181         1.0  193.000000  0.005155   \n9             0.005181  0.005181         1.0  193.000000  0.005155   \n10            0.005181  0.005181         1.0  193.000000  0.005155   \n11            0.005181  0.005181         1.0  193.000000  0.005155   \n12            0.005181  0.005181         1.0  193.000000  0.005155   \n13            0.015544  0.005181         1.0   64.333333  0.005101   \n14            0.010363  0.005181         1.0   96.500000  0.005128   \n15            0.005181  0.005181         1.0  193.000000  0.005155   \n16            0.005181  0.005181         1.0  193.000000  0.005155   \n17            0.005181  0.005181         1.0  193.000000  0.005155   \n18            0.005181  0.005181         1.0  193.000000  0.005155   \n19            0.010363  0.005181         1.0   96.500000  0.005128   \n20            0.005181  0.005181         1.0  193.000000  0.005155   \n21            0.005181  0.005181         1.0  193.000000  0.005155   \n22            0.005181  0.005181         1.0  193.000000  0.005155   \n23            0.005181  0.005181         1.0  193.000000  0.005155   \n24            0.005181  0.005181         1.0  193.000000  0.005155   \n25            0.005181  0.005181         1.0  193.000000  0.005155   \n26            0.005181  0.005181         1.0  193.000000  0.005155   \n27            0.005181  0.005181         1.0  193.000000  0.005155   \n28            0.005181  0.005181         1.0  193.000000  0.005155   \n29            0.005181  0.005181         1.0  193.000000  0.005155   \n30            0.010363  0.005181         1.0   96.500000  0.005128   \n31            0.005181  0.005181         1.0  193.000000  0.005155   \n32            0.005181  0.005181         1.0  193.000000  0.005155   \n33            0.005181  0.005181         1.0  193.000000  0.005155   \n34            0.005181  0.005181         1.0  193.000000  0.005155   \n35            0.010363  0.005181         1.0   96.500000  0.005128   \n36            0.010363  0.005181         1.0   96.500000  0.005128   \n37            0.010363  0.005181         1.0   96.500000  0.005128   \n38            0.010363  0.005181         1.0   96.500000  0.005128   \n39            0.005181  0.005181         1.0  193.000000  0.005155   \n40            0.005181  0.005181         1.0  193.000000  0.005155   \n41            0.005181  0.005181         1.0  193.000000  0.005155   \n42            0.005181  0.005181         1.0  193.000000  0.005155   \n43            0.005181  0.005181         1.0  193.000000  0.005155   \n44            0.005181  0.005181         1.0  193.000000  0.005155   \n45            0.005181  0.005181         1.0  193.000000  0.005155   \n46            0.005181  0.005181         1.0  193.000000  0.005155   \n47            0.005181  0.005181         1.0  193.000000  0.005155   \n48            0.005181  0.005181         1.0  193.000000  0.005155   \n49            0.005181  0.005181         1.0  193.000000  0.005155   \n50            0.005181  0.005181         1.0  193.000000  0.005155   \n\n    conviction  zhangs_metric  \n0          inf       0.994792  \n1          inf       1.000000  \n2          inf       1.000000  \n3          inf       1.000000  \n4          inf       1.000000  \n5          inf       0.994792  \n6          inf       0.994792  \n7          inf       1.000000  \n8          inf       1.000000  \n9          inf       1.000000  \n10         inf       1.000000  \n11         inf       1.000000  \n12         inf       1.000000  \n13         inf       0.989583  \n14         inf       0.994792  \n15         inf       1.000000  \n16         inf       1.000000  \n17         inf       1.000000  \n18         inf       1.000000  \n19         inf       0.994792  \n20         inf       1.000000  \n21         inf       1.000000  \n22         inf       1.000000  \n23         inf       1.000000  \n24         inf       1.000000  \n25         inf       1.000000  \n26         inf       1.000000  \n27         inf       1.000000  \n28         inf       1.000000  \n29         inf       1.000000  \n30         inf       0.994792  \n31         inf       1.000000  \n32         inf       1.000000  \n33         inf       1.000000  \n34         inf       1.000000  \n35         inf       0.994792  \n36         inf       0.994792  \n37         inf       0.994792  \n38         inf       0.994792  \n39         inf       1.000000  \n40         inf       1.000000  \n41         inf       1.000000  \n42         inf       1.000000  \n43         inf       1.000000  \n44         inf       1.000000  \n45         inf       1.000000  \n46         inf       1.000000  \n47         inf       1.000000  \n48         inf       1.000000  \n49         inf       1.000000  \n50         inf       1.000000  \n"
        }
      ],
      "execution_count": 132,
      "metadata": {}
    },
    {
      "cell_type": "markdown",
      "source": [
        "8. Для построенного набора ассоциативных правил вычислите показатель (меру) оценки ассоциативных правил, указанную в индивидуальном задании, и выведите на экран ассоциативное правило, имеющее наилучшее значение этого показателя оценки."
      ],
      "metadata": {}
    },
    {
      "cell_type": "markdown",
      "source": [
        "Вариант 19 - показатель оценки ассоциативных правил: лифт (lift)"
      ],
      "metadata": {}
    },
    {
      "cell_type": "code",
      "source": [
        "association_table[association_table['lift'] == association_table['lift']. max ()]"
      ],
      "outputs": [
        {
          "output_type": "execute_result",
          "execution_count": 133,
          "data": {
            "text/html": "<div>\n<style scoped>\n    .dataframe tbody tr th:only-of-type {\n        vertical-align: middle;\n    }\n\n    .dataframe tbody tr th {\n        vertical-align: top;\n    }\n\n    .dataframe thead th {\n        text-align: right;\n    }\n</style>\n<table border=\"1\" class=\"dataframe\">\n  <thead>\n    <tr style=\"text-align: right;\">\n      <th></th>\n      <th>antecedents</th>\n      <th>consequents</th>\n      <th>antecedent support</th>\n      <th>consequent support</th>\n      <th>support</th>\n      <th>confidence</th>\n      <th>lift</th>\n      <th>leverage</th>\n      <th>conviction</th>\n      <th>zhangs_metric</th>\n    </tr>\n  </thead>\n  <tbody>\n    <tr>\n      <th>1</th>\n      <td>(Early Pregnancy Test)</td>\n      <td>(Melatonin, Fast Dissolve, 5 mg, Tablets, Natu...</td>\n      <td>0.005181</td>\n      <td>0.005181</td>\n      <td>0.005181</td>\n      <td>1.0</td>\n      <td>193.0</td>\n      <td>0.005155</td>\n      <td>inf</td>\n      <td>1.0</td>\n    </tr>\n    <tr>\n      <th>2</th>\n      <td>(Melatonin, Fast Dissolve, 5 mg, Tablets, Natu...</td>\n      <td>(Early Pregnancy Test)</td>\n      <td>0.005181</td>\n      <td>0.005181</td>\n      <td>0.005181</td>\n      <td>1.0</td>\n      <td>193.0</td>\n      <td>0.005155</td>\n      <td>inf</td>\n      <td>1.0</td>\n    </tr>\n    <tr>\n      <th>3</th>\n      <td>(Waterfall Hand Wash)</td>\n      <td>(Early Pregnancy Test)</td>\n      <td>0.005181</td>\n      <td>0.005181</td>\n      <td>0.005181</td>\n      <td>1.0</td>\n      <td>193.0</td>\n      <td>0.005155</td>\n      <td>inf</td>\n      <td>1.0</td>\n    </tr>\n    <tr>\n      <th>4</th>\n      <td>(Early Pregnancy Test)</td>\n      <td>(Waterfall Hand Wash)</td>\n      <td>0.005181</td>\n      <td>0.005181</td>\n      <td>0.005181</td>\n      <td>1.0</td>\n      <td>193.0</td>\n      <td>0.005155</td>\n      <td>inf</td>\n      <td>1.0</td>\n    </tr>\n    <tr>\n      <th>7</th>\n      <td>(Melatonin 1 Mg Peppermint Sublingual Tablets)</td>\n      <td>(Melatonin Chewable Lozenges 3 Mg)</td>\n      <td>0.005181</td>\n      <td>0.005181</td>\n      <td>0.005181</td>\n      <td>1.0</td>\n      <td>193.0</td>\n      <td>0.005155</td>\n      <td>inf</td>\n      <td>1.0</td>\n    </tr>\n    <tr>\n      <th>8</th>\n      <td>(Melatonin Chewable Lozenges 3 Mg)</td>\n      <td>(Melatonin 1 Mg Peppermint Sublingual Tablets)</td>\n      <td>0.005181</td>\n      <td>0.005181</td>\n      <td>0.005181</td>\n      <td>1.0</td>\n      <td>193.0</td>\n      <td>0.005155</td>\n      <td>inf</td>\n      <td>1.0</td>\n    </tr>\n    <tr>\n      <th>9</th>\n      <td>(Waterfall Hand Wash)</td>\n      <td>(Melatonin, Fast Dissolve, 5 mg, Tablets, Natu...</td>\n      <td>0.005181</td>\n      <td>0.005181</td>\n      <td>0.005181</td>\n      <td>1.0</td>\n      <td>193.0</td>\n      <td>0.005155</td>\n      <td>inf</td>\n      <td>1.0</td>\n    </tr>\n    <tr>\n      <th>10</th>\n      <td>(Melatonin, Fast Dissolve, 5 mg, Tablets, Natu...</td>\n      <td>(Waterfall Hand Wash)</td>\n      <td>0.005181</td>\n      <td>0.005181</td>\n      <td>0.005181</td>\n      <td>1.0</td>\n      <td>193.0</td>\n      <td>0.005155</td>\n      <td>inf</td>\n      <td>1.0</td>\n    </tr>\n    <tr>\n      <th>11</th>\n      <td>(Organic Total Body Cleanse)</td>\n      <td>(Natural Body &amp; Foot Powder with Tea Tree Oil ...</td>\n      <td>0.005181</td>\n      <td>0.005181</td>\n      <td>0.005181</td>\n      <td>1.0</td>\n      <td>193.0</td>\n      <td>0.005155</td>\n      <td>inf</td>\n      <td>1.0</td>\n    </tr>\n    <tr>\n      <th>12</th>\n      <td>(Natural Body &amp; Foot Powder with Tea Tree Oil ...</td>\n      <td>(Organic Total Body Cleanse)</td>\n      <td>0.005181</td>\n      <td>0.005181</td>\n      <td>0.005181</td>\n      <td>1.0</td>\n      <td>193.0</td>\n      <td>0.005155</td>\n      <td>inf</td>\n      <td>1.0</td>\n    </tr>\n    <tr>\n      <th>15</th>\n      <td>(Early Pregnancy Test, Early Result Pregnancy ...</td>\n      <td>(Melatonin, Fast Dissolve, 5 mg, Tablets, Natu...</td>\n      <td>0.005181</td>\n      <td>0.005181</td>\n      <td>0.005181</td>\n      <td>1.0</td>\n      <td>193.0</td>\n      <td>0.005155</td>\n      <td>inf</td>\n      <td>1.0</td>\n    </tr>\n    <tr>\n      <th>16</th>\n      <td>(Melatonin, Fast Dissolve, 5 mg, Tablets, Natu...</td>\n      <td>(Early Pregnancy Test)</td>\n      <td>0.005181</td>\n      <td>0.005181</td>\n      <td>0.005181</td>\n      <td>1.0</td>\n      <td>193.0</td>\n      <td>0.005155</td>\n      <td>inf</td>\n      <td>1.0</td>\n    </tr>\n    <tr>\n      <th>17</th>\n      <td>(Early Pregnancy Test)</td>\n      <td>(Melatonin, Fast Dissolve, 5 mg, Tablets, Natu...</td>\n      <td>0.005181</td>\n      <td>0.005181</td>\n      <td>0.005181</td>\n      <td>1.0</td>\n      <td>193.0</td>\n      <td>0.005155</td>\n      <td>inf</td>\n      <td>1.0</td>\n    </tr>\n    <tr>\n      <th>18</th>\n      <td>(Melatonin, Fast Dissolve, 5 mg, Tablets, Natu...</td>\n      <td>(Early Pregnancy Test, Early Result Pregnancy ...</td>\n      <td>0.005181</td>\n      <td>0.005181</td>\n      <td>0.005181</td>\n      <td>1.0</td>\n      <td>193.0</td>\n      <td>0.005155</td>\n      <td>inf</td>\n      <td>1.0</td>\n    </tr>\n    <tr>\n      <th>20</th>\n      <td>(Waterfall Hand Wash, Early Result Pregnancy T...</td>\n      <td>(Early Pregnancy Test)</td>\n      <td>0.005181</td>\n      <td>0.005181</td>\n      <td>0.005181</td>\n      <td>1.0</td>\n      <td>193.0</td>\n      <td>0.005155</td>\n      <td>inf</td>\n      <td>1.0</td>\n    </tr>\n    <tr>\n      <th>21</th>\n      <td>(Early Pregnancy Test, Early Result Pregnancy ...</td>\n      <td>(Waterfall Hand Wash)</td>\n      <td>0.005181</td>\n      <td>0.005181</td>\n      <td>0.005181</td>\n      <td>1.0</td>\n      <td>193.0</td>\n      <td>0.005155</td>\n      <td>inf</td>\n      <td>1.0</td>\n    </tr>\n    <tr>\n      <th>22</th>\n      <td>(Waterfall Hand Wash)</td>\n      <td>(Early Pregnancy Test, Early Result Pregnancy ...</td>\n      <td>0.005181</td>\n      <td>0.005181</td>\n      <td>0.005181</td>\n      <td>1.0</td>\n      <td>193.0</td>\n      <td>0.005155</td>\n      <td>inf</td>\n      <td>1.0</td>\n    </tr>\n    <tr>\n      <th>23</th>\n      <td>(Early Pregnancy Test)</td>\n      <td>(Waterfall Hand Wash, Early Result Pregnancy T...</td>\n      <td>0.005181</td>\n      <td>0.005181</td>\n      <td>0.005181</td>\n      <td>1.0</td>\n      <td>193.0</td>\n      <td>0.005155</td>\n      <td>inf</td>\n      <td>1.0</td>\n    </tr>\n    <tr>\n      <th>24</th>\n      <td>(Waterfall Hand Wash, Early Pregnancy Test)</td>\n      <td>(Melatonin, Fast Dissolve, 5 mg, Tablets, Natu...</td>\n      <td>0.005181</td>\n      <td>0.005181</td>\n      <td>0.005181</td>\n      <td>1.0</td>\n      <td>193.0</td>\n      <td>0.005155</td>\n      <td>inf</td>\n      <td>1.0</td>\n    </tr>\n    <tr>\n      <th>25</th>\n      <td>(Waterfall Hand Wash, Melatonin, Fast Dissolve...</td>\n      <td>(Early Pregnancy Test)</td>\n      <td>0.005181</td>\n      <td>0.005181</td>\n      <td>0.005181</td>\n      <td>1.0</td>\n      <td>193.0</td>\n      <td>0.005155</td>\n      <td>inf</td>\n      <td>1.0</td>\n    </tr>\n    <tr>\n      <th>26</th>\n      <td>(Early Pregnancy Test, Melatonin, Fast Dissolv...</td>\n      <td>(Waterfall Hand Wash)</td>\n      <td>0.005181</td>\n      <td>0.005181</td>\n      <td>0.005181</td>\n      <td>1.0</td>\n      <td>193.0</td>\n      <td>0.005155</td>\n      <td>inf</td>\n      <td>1.0</td>\n    </tr>\n    <tr>\n      <th>27</th>\n      <td>(Waterfall Hand Wash)</td>\n      <td>(Early Pregnancy Test, Melatonin, Fast Dissolv...</td>\n      <td>0.005181</td>\n      <td>0.005181</td>\n      <td>0.005181</td>\n      <td>1.0</td>\n      <td>193.0</td>\n      <td>0.005155</td>\n      <td>inf</td>\n      <td>1.0</td>\n    </tr>\n    <tr>\n      <th>28</th>\n      <td>(Early Pregnancy Test)</td>\n      <td>(Waterfall Hand Wash, Melatonin, Fast Dissolve...</td>\n      <td>0.005181</td>\n      <td>0.005181</td>\n      <td>0.005181</td>\n      <td>1.0</td>\n      <td>193.0</td>\n      <td>0.005155</td>\n      <td>inf</td>\n      <td>1.0</td>\n    </tr>\n    <tr>\n      <th>29</th>\n      <td>(Melatonin, Fast Dissolve, 5 mg, Tablets, Natu...</td>\n      <td>(Waterfall Hand Wash, Early Pregnancy Test)</td>\n      <td>0.005181</td>\n      <td>0.005181</td>\n      <td>0.005181</td>\n      <td>1.0</td>\n      <td>193.0</td>\n      <td>0.005155</td>\n      <td>inf</td>\n      <td>1.0</td>\n    </tr>\n    <tr>\n      <th>31</th>\n      <td>(Waterfall Hand Wash, Early Result Pregnancy T...</td>\n      <td>(Melatonin, Fast Dissolve, 5 mg, Tablets, Natu...</td>\n      <td>0.005181</td>\n      <td>0.005181</td>\n      <td>0.005181</td>\n      <td>1.0</td>\n      <td>193.0</td>\n      <td>0.005155</td>\n      <td>inf</td>\n      <td>1.0</td>\n    </tr>\n    <tr>\n      <th>32</th>\n      <td>(Melatonin, Fast Dissolve, 5 mg, Tablets, Natu...</td>\n      <td>(Waterfall Hand Wash)</td>\n      <td>0.005181</td>\n      <td>0.005181</td>\n      <td>0.005181</td>\n      <td>1.0</td>\n      <td>193.0</td>\n      <td>0.005155</td>\n      <td>inf</td>\n      <td>1.0</td>\n    </tr>\n    <tr>\n      <th>33</th>\n      <td>(Waterfall Hand Wash)</td>\n      <td>(Melatonin, Fast Dissolve, 5 mg, Tablets, Natu...</td>\n      <td>0.005181</td>\n      <td>0.005181</td>\n      <td>0.005181</td>\n      <td>1.0</td>\n      <td>193.0</td>\n      <td>0.005155</td>\n      <td>inf</td>\n      <td>1.0</td>\n    </tr>\n    <tr>\n      <th>34</th>\n      <td>(Melatonin, Fast Dissolve, 5 mg, Tablets, Natu...</td>\n      <td>(Waterfall Hand Wash, Early Result Pregnancy T...</td>\n      <td>0.005181</td>\n      <td>0.005181</td>\n      <td>0.005181</td>\n      <td>1.0</td>\n      <td>193.0</td>\n      <td>0.005155</td>\n      <td>inf</td>\n      <td>1.0</td>\n    </tr>\n    <tr>\n      <th>39</th>\n      <td>(Waterfall Hand Wash, Early Pregnancy Test, Ea...</td>\n      <td>(Melatonin, Fast Dissolve, 5 mg, Tablets, Natu...</td>\n      <td>0.005181</td>\n      <td>0.005181</td>\n      <td>0.005181</td>\n      <td>1.0</td>\n      <td>193.0</td>\n      <td>0.005155</td>\n      <td>inf</td>\n      <td>1.0</td>\n    </tr>\n    <tr>\n      <th>40</th>\n      <td>(Waterfall Hand Wash, Melatonin, Fast Dissolve...</td>\n      <td>(Early Pregnancy Test)</td>\n      <td>0.005181</td>\n      <td>0.005181</td>\n      <td>0.005181</td>\n      <td>1.0</td>\n      <td>193.0</td>\n      <td>0.005155</td>\n      <td>inf</td>\n      <td>1.0</td>\n    </tr>\n    <tr>\n      <th>41</th>\n      <td>(Early Pregnancy Test, Melatonin, Fast Dissolv...</td>\n      <td>(Waterfall Hand Wash)</td>\n      <td>0.005181</td>\n      <td>0.005181</td>\n      <td>0.005181</td>\n      <td>1.0</td>\n      <td>193.0</td>\n      <td>0.005155</td>\n      <td>inf</td>\n      <td>1.0</td>\n    </tr>\n    <tr>\n      <th>42</th>\n      <td>(Waterfall Hand Wash, Early Pregnancy Test)</td>\n      <td>(Melatonin, Fast Dissolve, 5 mg, Tablets, Natu...</td>\n      <td>0.005181</td>\n      <td>0.005181</td>\n      <td>0.005181</td>\n      <td>1.0</td>\n      <td>193.0</td>\n      <td>0.005155</td>\n      <td>inf</td>\n      <td>1.0</td>\n    </tr>\n    <tr>\n      <th>43</th>\n      <td>(Waterfall Hand Wash, Melatonin, Fast Dissolve...</td>\n      <td>(Early Pregnancy Test, Early Result Pregnancy ...</td>\n      <td>0.005181</td>\n      <td>0.005181</td>\n      <td>0.005181</td>\n      <td>1.0</td>\n      <td>193.0</td>\n      <td>0.005155</td>\n      <td>inf</td>\n      <td>1.0</td>\n    </tr>\n    <tr>\n      <th>44</th>\n      <td>(Waterfall Hand Wash, Early Result Pregnancy T...</td>\n      <td>(Early Pregnancy Test, Melatonin, Fast Dissolv...</td>\n      <td>0.005181</td>\n      <td>0.005181</td>\n      <td>0.005181</td>\n      <td>1.0</td>\n      <td>193.0</td>\n      <td>0.005155</td>\n      <td>inf</td>\n      <td>1.0</td>\n    </tr>\n    <tr>\n      <th>45</th>\n      <td>(Early Pregnancy Test, Melatonin, Fast Dissolv...</td>\n      <td>(Waterfall Hand Wash, Early Result Pregnancy T...</td>\n      <td>0.005181</td>\n      <td>0.005181</td>\n      <td>0.005181</td>\n      <td>1.0</td>\n      <td>193.0</td>\n      <td>0.005155</td>\n      <td>inf</td>\n      <td>1.0</td>\n    </tr>\n    <tr>\n      <th>46</th>\n      <td>(Early Pregnancy Test, Early Result Pregnancy ...</td>\n      <td>(Waterfall Hand Wash, Melatonin, Fast Dissolve...</td>\n      <td>0.005181</td>\n      <td>0.005181</td>\n      <td>0.005181</td>\n      <td>1.0</td>\n      <td>193.0</td>\n      <td>0.005155</td>\n      <td>inf</td>\n      <td>1.0</td>\n    </tr>\n    <tr>\n      <th>47</th>\n      <td>(Melatonin, Fast Dissolve, 5 mg, Tablets, Natu...</td>\n      <td>(Waterfall Hand Wash, Early Pregnancy Test)</td>\n      <td>0.005181</td>\n      <td>0.005181</td>\n      <td>0.005181</td>\n      <td>1.0</td>\n      <td>193.0</td>\n      <td>0.005155</td>\n      <td>inf</td>\n      <td>1.0</td>\n    </tr>\n    <tr>\n      <th>48</th>\n      <td>(Waterfall Hand Wash)</td>\n      <td>(Early Pregnancy Test, Melatonin, Fast Dissolv...</td>\n      <td>0.005181</td>\n      <td>0.005181</td>\n      <td>0.005181</td>\n      <td>1.0</td>\n      <td>193.0</td>\n      <td>0.005155</td>\n      <td>inf</td>\n      <td>1.0</td>\n    </tr>\n    <tr>\n      <th>49</th>\n      <td>(Early Pregnancy Test)</td>\n      <td>(Waterfall Hand Wash, Melatonin, Fast Dissolve...</td>\n      <td>0.005181</td>\n      <td>0.005181</td>\n      <td>0.005181</td>\n      <td>1.0</td>\n      <td>193.0</td>\n      <td>0.005155</td>\n      <td>inf</td>\n      <td>1.0</td>\n    </tr>\n    <tr>\n      <th>50</th>\n      <td>(Melatonin, Fast Dissolve, 5 mg, Tablets, Natu...</td>\n      <td>(Waterfall Hand Wash, Early Pregnancy Test, Ea...</td>\n      <td>0.005181</td>\n      <td>0.005181</td>\n      <td>0.005181</td>\n      <td>1.0</td>\n      <td>193.0</td>\n      <td>0.005155</td>\n      <td>inf</td>\n      <td>1.0</td>\n    </tr>\n  </tbody>\n</table>\n</div>",
            "text/plain": "                                          antecedents  \\\n1                              (Early Pregnancy Test)   \n2   (Melatonin, Fast Dissolve, 5 mg, Tablets, Natu...   \n3                               (Waterfall Hand Wash)   \n4                              (Early Pregnancy Test)   \n7      (Melatonin 1 Mg Peppermint Sublingual Tablets)   \n8                  (Melatonin Chewable Lozenges 3 Mg)   \n9                               (Waterfall Hand Wash)   \n10  (Melatonin, Fast Dissolve, 5 mg, Tablets, Natu...   \n11                       (Organic Total Body Cleanse)   \n12  (Natural Body & Foot Powder with Tea Tree Oil ...   \n15  (Early Pregnancy Test, Early Result Pregnancy ...   \n16  (Melatonin, Fast Dissolve, 5 mg, Tablets, Natu...   \n17                             (Early Pregnancy Test)   \n18  (Melatonin, Fast Dissolve, 5 mg, Tablets, Natu...   \n20  (Waterfall Hand Wash, Early Result Pregnancy T...   \n21  (Early Pregnancy Test, Early Result Pregnancy ...   \n22                              (Waterfall Hand Wash)   \n23                             (Early Pregnancy Test)   \n24        (Waterfall Hand Wash, Early Pregnancy Test)   \n25  (Waterfall Hand Wash, Melatonin, Fast Dissolve...   \n26  (Early Pregnancy Test, Melatonin, Fast Dissolv...   \n27                              (Waterfall Hand Wash)   \n28                             (Early Pregnancy Test)   \n29  (Melatonin, Fast Dissolve, 5 mg, Tablets, Natu...   \n31  (Waterfall Hand Wash, Early Result Pregnancy T...   \n32  (Melatonin, Fast Dissolve, 5 mg, Tablets, Natu...   \n33                              (Waterfall Hand Wash)   \n34  (Melatonin, Fast Dissolve, 5 mg, Tablets, Natu...   \n39  (Waterfall Hand Wash, Early Pregnancy Test, Ea...   \n40  (Waterfall Hand Wash, Melatonin, Fast Dissolve...   \n41  (Early Pregnancy Test, Melatonin, Fast Dissolv...   \n42        (Waterfall Hand Wash, Early Pregnancy Test)   \n43  (Waterfall Hand Wash, Melatonin, Fast Dissolve...   \n44  (Waterfall Hand Wash, Early Result Pregnancy T...   \n45  (Early Pregnancy Test, Melatonin, Fast Dissolv...   \n46  (Early Pregnancy Test, Early Result Pregnancy ...   \n47  (Melatonin, Fast Dissolve, 5 mg, Tablets, Natu...   \n48                              (Waterfall Hand Wash)   \n49                             (Early Pregnancy Test)   \n50  (Melatonin, Fast Dissolve, 5 mg, Tablets, Natu...   \n\n                                          consequents  antecedent support  \\\n1   (Melatonin, Fast Dissolve, 5 mg, Tablets, Natu...            0.005181   \n2                              (Early Pregnancy Test)            0.005181   \n3                              (Early Pregnancy Test)            0.005181   \n4                               (Waterfall Hand Wash)            0.005181   \n7                  (Melatonin Chewable Lozenges 3 Mg)            0.005181   \n8      (Melatonin 1 Mg Peppermint Sublingual Tablets)            0.005181   \n9   (Melatonin, Fast Dissolve, 5 mg, Tablets, Natu...            0.005181   \n10                              (Waterfall Hand Wash)            0.005181   \n11  (Natural Body & Foot Powder with Tea Tree Oil ...            0.005181   \n12                       (Organic Total Body Cleanse)            0.005181   \n15  (Melatonin, Fast Dissolve, 5 mg, Tablets, Natu...            0.005181   \n16                             (Early Pregnancy Test)            0.005181   \n17  (Melatonin, Fast Dissolve, 5 mg, Tablets, Natu...            0.005181   \n18  (Early Pregnancy Test, Early Result Pregnancy ...            0.005181   \n20                             (Early Pregnancy Test)            0.005181   \n21                              (Waterfall Hand Wash)            0.005181   \n22  (Early Pregnancy Test, Early Result Pregnancy ...            0.005181   \n23  (Waterfall Hand Wash, Early Result Pregnancy T...            0.005181   \n24  (Melatonin, Fast Dissolve, 5 mg, Tablets, Natu...            0.005181   \n25                             (Early Pregnancy Test)            0.005181   \n26                              (Waterfall Hand Wash)            0.005181   \n27  (Early Pregnancy Test, Melatonin, Fast Dissolv...            0.005181   \n28  (Waterfall Hand Wash, Melatonin, Fast Dissolve...            0.005181   \n29        (Waterfall Hand Wash, Early Pregnancy Test)            0.005181   \n31  (Melatonin, Fast Dissolve, 5 mg, Tablets, Natu...            0.005181   \n32                              (Waterfall Hand Wash)            0.005181   \n33  (Melatonin, Fast Dissolve, 5 mg, Tablets, Natu...            0.005181   \n34  (Waterfall Hand Wash, Early Result Pregnancy T...            0.005181   \n39  (Melatonin, Fast Dissolve, 5 mg, Tablets, Natu...            0.005181   \n40                             (Early Pregnancy Test)            0.005181   \n41                              (Waterfall Hand Wash)            0.005181   \n42  (Melatonin, Fast Dissolve, 5 mg, Tablets, Natu...            0.005181   \n43  (Early Pregnancy Test, Early Result Pregnancy ...            0.005181   \n44  (Early Pregnancy Test, Melatonin, Fast Dissolv...            0.005181   \n45  (Waterfall Hand Wash, Early Result Pregnancy T...            0.005181   \n46  (Waterfall Hand Wash, Melatonin, Fast Dissolve...            0.005181   \n47        (Waterfall Hand Wash, Early Pregnancy Test)            0.005181   \n48  (Early Pregnancy Test, Melatonin, Fast Dissolv...            0.005181   \n49  (Waterfall Hand Wash, Melatonin, Fast Dissolve...            0.005181   \n50  (Waterfall Hand Wash, Early Pregnancy Test, Ea...            0.005181   \n\n    consequent support   support  confidence   lift  leverage  conviction  \\\n1             0.005181  0.005181         1.0  193.0  0.005155         inf   \n2             0.005181  0.005181         1.0  193.0  0.005155         inf   \n3             0.005181  0.005181         1.0  193.0  0.005155         inf   \n4             0.005181  0.005181         1.0  193.0  0.005155         inf   \n7             0.005181  0.005181         1.0  193.0  0.005155         inf   \n8             0.005181  0.005181         1.0  193.0  0.005155         inf   \n9             0.005181  0.005181         1.0  193.0  0.005155         inf   \n10            0.005181  0.005181         1.0  193.0  0.005155         inf   \n11            0.005181  0.005181         1.0  193.0  0.005155         inf   \n12            0.005181  0.005181         1.0  193.0  0.005155         inf   \n15            0.005181  0.005181         1.0  193.0  0.005155         inf   \n16            0.005181  0.005181         1.0  193.0  0.005155         inf   \n17            0.005181  0.005181         1.0  193.0  0.005155         inf   \n18            0.005181  0.005181         1.0  193.0  0.005155         inf   \n20            0.005181  0.005181         1.0  193.0  0.005155         inf   \n21            0.005181  0.005181         1.0  193.0  0.005155         inf   \n22            0.005181  0.005181         1.0  193.0  0.005155         inf   \n23            0.005181  0.005181         1.0  193.0  0.005155         inf   \n24            0.005181  0.005181         1.0  193.0  0.005155         inf   \n25            0.005181  0.005181         1.0  193.0  0.005155         inf   \n26            0.005181  0.005181         1.0  193.0  0.005155         inf   \n27            0.005181  0.005181         1.0  193.0  0.005155         inf   \n28            0.005181  0.005181         1.0  193.0  0.005155         inf   \n29            0.005181  0.005181         1.0  193.0  0.005155         inf   \n31            0.005181  0.005181         1.0  193.0  0.005155         inf   \n32            0.005181  0.005181         1.0  193.0  0.005155         inf   \n33            0.005181  0.005181         1.0  193.0  0.005155         inf   \n34            0.005181  0.005181         1.0  193.0  0.005155         inf   \n39            0.005181  0.005181         1.0  193.0  0.005155         inf   \n40            0.005181  0.005181         1.0  193.0  0.005155         inf   \n41            0.005181  0.005181         1.0  193.0  0.005155         inf   \n42            0.005181  0.005181         1.0  193.0  0.005155         inf   \n43            0.005181  0.005181         1.0  193.0  0.005155         inf   \n44            0.005181  0.005181         1.0  193.0  0.005155         inf   \n45            0.005181  0.005181         1.0  193.0  0.005155         inf   \n46            0.005181  0.005181         1.0  193.0  0.005155         inf   \n47            0.005181  0.005181         1.0  193.0  0.005155         inf   \n48            0.005181  0.005181         1.0  193.0  0.005155         inf   \n49            0.005181  0.005181         1.0  193.0  0.005155         inf   \n50            0.005181  0.005181         1.0  193.0  0.005155         inf   \n\n    zhangs_metric  \n1             1.0  \n2             1.0  \n3             1.0  \n4             1.0  \n7             1.0  \n8             1.0  \n9             1.0  \n10            1.0  \n11            1.0  \n12            1.0  \n15            1.0  \n16            1.0  \n17            1.0  \n18            1.0  \n20            1.0  \n21            1.0  \n22            1.0  \n23            1.0  \n24            1.0  \n25            1.0  \n26            1.0  \n27            1.0  \n28            1.0  \n29            1.0  \n31            1.0  \n32            1.0  \n33            1.0  \n34            1.0  \n39            1.0  \n40            1.0  \n41            1.0  \n42            1.0  \n43            1.0  \n44            1.0  \n45            1.0  \n46            1.0  \n47            1.0  \n48            1.0  \n49            1.0  \n50            1.0  "
          },
          "metadata": {}
        }
      ],
      "execution_count": 133,
      "metadata": {}
    },
    {
      "cell_type": "code",
      "source": [],
      "outputs": [],
      "execution_count": null,
      "metadata": {}
    }
  ],
  "metadata": {
    "kernelspec": {
      "name": "python",
      "language": "python",
      "display_name": "Pyolite (preview)"
    },
    "language_info": {
      "codemirror_mode": {
        "name": "python",
        "version": 3
      },
      "file_extension": ".py",
      "mimetype": "text/x-python",
      "name": "python",
      "nbconvert_exporter": "python",
      "pygments_lexer": "ipython3",
      "version": "3.8"
    },
    "nteract": {
      "version": "nteract-front-end@1.0.0"
    },
    "kernel_info": {
      "name": "python"
    }
  },
  "nbformat": 4,
  "nbformat_minor": 4
}